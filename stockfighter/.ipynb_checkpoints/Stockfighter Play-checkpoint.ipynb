{
 "cells": [
  {
   "cell_type": "code",
   "execution_count": 1,
   "metadata": {
    "collapsed": false
   },
   "outputs": [],
   "source": [
    "import glob\n",
    "\n",
    "import matplotlib.pyplot as plt\n",
    "import datetime\n",
    "%matplotlib inline\n",
    "import random\n",
    "\n",
    "import time\n",
    "import sqlalchemy\n",
    "from sqlalchemy import *\n",
    "from sqlalchemy import event\n",
    "import sqlite3\n",
    "from sqlalchemy.ext.declarative import declarative_base\n",
    "from sqlalchemy.orm import *\n",
    "\n",
    "import json\n",
    "import pprint\n",
    "import dateutil.parser\n",
    "import pprint\n",
    "import re\n",
    "\n",
    "from collections import defaultdict\n",
    "#from sklearn import svm\n",
    "pp = pprint.PrettyPrinter(indent=4)\n",
    "\n",
    "import os\n",
    "import requests\n",
    "\n",
    "import asyncio\n",
    "import websockets"
   ]
  },
  {
   "cell_type": "code",
   "execution_count": 157,
   "metadata": {
    "collapsed": true
   },
   "outputs": [],
   "source": []
  },
  {
   "cell_type": "code",
   "execution_count": 14,
   "metadata": {
    "collapsed": true
   },
   "outputs": [],
   "source": []
  },
  {
   "cell_type": "code",
   "execution_count": null,
   "metadata": {
    "collapsed": false
   },
   "outputs": [],
   "source": []
  },
  {
   "cell_type": "code",
   "execution_count": 222,
   "metadata": {
    "collapsed": false
   },
   "outputs": [],
   "source": [
    "# Some basic tests:\n",
    "assert server_online()\n",
    "assert venue_online(\"TESTEX\")\n",
    "assert venue_stocks(\"TESTEX\")[0][\"symbol\"] == \"FOOBAR\""
   ]
  },
  {
   "cell_type": "code",
   "execution_count": 2,
   "metadata": {
    "collapsed": false
   },
   "outputs": [],
   "source": [
    "# Makes a HTTP GET request and returns the response\n",
    "def get(addr):\n",
    "    return requests.get(addr, headers=auth)\n",
    "\n",
    "# Makes a HTTP POST request and returns the response\n",
    "def post(addr, data):\n",
    "    return requests.post(addr, data, headers=auth)\n",
    "\n",
    "# Makes a HTTP DELETE request and returns the response\n",
    "def delete(addr):\n",
    "    return requests.delete(addr, headers=auth)\n",
    "\n",
    "# Returns true if the status of the server is \"OK\"\n",
    "def server_online():\n",
    "    response = get(\"https://api.stockfighter.io/ob/api/heartbeat\")\n",
    "    if response.json()[\"ok\"] == True:\n",
    "        return True\n",
    "    return False\n",
    "\n",
    "# Checks if a venue (exchange) is online\n",
    "def venue_online(venue):\n",
    "    addr = \"https://api.stockfighter.io/ob/api/venues/{}/heartbeat\".format(venue)\n",
    "    response = get(addr)\n",
    "    if response.json()[\"ok\"] == True:\n",
    "        return True\n",
    "    return False\n",
    "\n",
    "# Gets a list of stocks listed on a venue. Returns a list of dicts\n",
    "# with keys 'name' and 'symbol'\n",
    "def venue_stocks(venue):\n",
    "    addr = \"https://api.stockfighter.io/ob/api/venues/{}/stocks\".format(venue)\n",
    "    response = get(addr)\n",
    "    assert response.status_code == requests.codes.ok\n",
    "    return response.json()[\"symbols\"]\n",
    "\n",
    "# Gets the orderbook for a stock on a venue\n",
    "# Returns bids, asks, and an (unreliable?) timestamp\n",
    "def get_orderbook(venue, stock):\n",
    "    addr = \"https://api.stockfighter.io/ob/api/venues/{}/stocks/{}\".format(venue, stock)\n",
    "    response = get(addr)\n",
    "    assert response.status_code == requests.codes.ok\n",
    "    result = response.json()\n",
    "    return result[\"bids\"], result[\"asks\"], result[\"ts\"]\n",
    "\n",
    "# Places a limit order of direction \"buy\" or \"sell\"\n",
    "def place_limit_order(venue, stock, price, quantity, direction):\n",
    "    assert type(price) == int\n",
    "    assert type(quantity) == int\n",
    "    assert direction == \"buy\" or direction == \"sell\"\n",
    "    data = {\"account\": account,\n",
    "               \"venue\": venue,\n",
    "               \"stock\": stock,\n",
    "               \"price\": price,\n",
    "               \"qty\": quantity,\n",
    "               \"direction\": direction,\n",
    "               \"orderType\": \"limit\"}\n",
    "    addr = \"https://api.stockfighter.io/ob/api/venues/{}/stocks/{}/orders\".format(venue, stock)\n",
    "    response = post(addr, json.dumps(data))\n",
    "    assert response.status_code == requests.codes.ok\n",
    "    return response.json()\n",
    "\n",
    "# Get a quote on a stock\n",
    "def get_quote(venue, stock):\n",
    "    addr = \"https://api.stockfighter.io/ob/api/venues/{}/stocks/{}/quote\".format(venue, stock)\n",
    "    response = get(addr)\n",
    "    assert response.status_code == requests.codes.ok\n",
    "    result = response.json()\n",
    "    return result\n",
    "\n",
    "# Get the status of a single order\n",
    "def get_order_status(venue, stock, order_id):\n",
    "    addr = \"https://api.stockfighter.io/ob/api/venues/{}/stocks/{}/orders/{}\".format(venue, stock, order_id)\n",
    "    response = get(addr)\n",
    "    assert response.status_code == requests.codes.ok\n",
    "    result = response.json()\n",
    "    return result\n",
    "\n",
    "# Cancel an order\n",
    "def cancel_order(venue, stock, order_id):\n",
    "    addr = \"https://api.stockfighter.io/ob/api/venues/{}/stocks/{}/orders/{}\".format(venue, stock, order_id)\n",
    "    response = delete(addr)\n",
    "    assert response.status_code == requests.codes.ok\n",
    "    result = response.json()\n",
    "    return result\n",
    "\n",
    "# Get all of your orders for a stock\n",
    "def get_orders_for_stock(venue, stock):\n",
    "    addr = \"https://api.stockfighter.io/ob/api/venues/{}/accounts/{}/stocks/{}/orders\".format(venue, account, stock)\n",
    "    response = get(addr)\n",
    "    assert response.status_code == requests.codes.ok\n",
    "    result = response.json()\n",
    "    return result[\"orders\"]"
   ]
  },
  {
   "cell_type": "code",
   "execution_count": 3,
   "metadata": {
    "collapsed": false
   },
   "outputs": [],
   "source": [
    "# Get a count of how many shares you have of a stock\n",
    "def share_count(stock, orders):\n",
    "    current_shares = 0\n",
    "    for order in orders:\n",
    "        if order[\"direction\"] == \"buy\":\n",
    "            current_shares += order[\"totalFilled\"]\n",
    "        if order[\"direction\"] == \"sell\":\n",
    "            current_shares -= order[\"totalFilled\"]\n",
    "    return current_shares\n",
    "\n"
   ]
  },
  {
   "cell_type": "code",
   "execution_count": 4,
   "metadata": {
    "collapsed": true
   },
   "outputs": [],
   "source": [
    "api_key = \"5ae301ebc09b6817d1fbac6028485d85d4a802b5\"\n",
    "auth = {'X-Starfighter-Authorization': api_key}"
   ]
  },
  {
   "cell_type": "code",
   "execution_count": null,
   "metadata": {
    "collapsed": true
   },
   "outputs": [],
   "source": [
    "current_level = \"irrational_exuberance\"\n",
    "account = \"ILS34509166\"\n",
    "venue = \"AMKBEX\"\n",
    "stock = \"CTI\"\n",
    "instance_id = 27846"
   ]
  },
  {
   "cell_type": "code",
   "execution_count": 6,
   "metadata": {
    "collapsed": false
   },
   "outputs": [],
   "source": [
    "# Start a level. Returns the instanceId, the account, the first venue, and the first ticker\n",
    "def start_instance(level_name):\n",
    "    response = post(\"https://www.stockfighter.io/gm/levels/{}\".format(level_name), {})\n",
    "    assert response.status_code == requests.codes.ok\n",
    "    result = response.json()\n",
    "    if result[\"ok\"] == False:\n",
    "        print(\"Starting Instance failed with error: {}\".format(result))\n",
    "    return result[\"instanceId\"], result[\"account\"], result[\"venues\"][0], result[\"tickers\"][0]\n",
    "\n",
    "def restart_instance(instance_id):\n",
    "    response = post(\"https://www.stockfighter.io/gm/instances/{}/restart\".format(instance_id), {})\n",
    "    assert response.status_code == requests.codes.ok\n",
    "    result = response.json()\n",
    "    #return response.json()\n",
    "    print(result)\n",
    "    return result[\"account\"], result[\"venues\"][0], result[\"tickers\"][0]\n",
    "\n",
    "def resume_instance(instance_id):\n",
    "    response = post(\"https://www.stockfighter.io/gm/instances/{}/resume\".format(instance_id), {})\n",
    "    assert response.status_code == requests.codes.ok\n",
    "    result = response.json()\n",
    "    #return response.json()\n",
    "    print(result)\n",
    "    return result[\"account\"], result[\"venues\"][0], result[\"tickers\"][0]\n",
    "\n",
    "def check_instance(instance_id):\n",
    "    response = get(\"https://www.stockfighter.io/gm/instances/{}\".format(instance_id))\n",
    "    assert response.status_code == requests.codes.ok\n",
    "    result = response.json()\n",
    "    print(\"Instance is {}\".format(\"open\" if result[\"state\"] == \"open\" else \"closed\"))\n",
    "    print(\"Game time is {} and ends at {}\".format(result[\"details\"][\"tradingDay\"], result[\"details\"][\"endOfTheWorldDay\"]))\n",
    "    return result[\"state\"] == \"open\"\n",
    "\n",
    "# Not yet implemented on server-side!\n",
    "def get_levels():\n",
    "    response = post(\"https://www.stockfighter.io/gm/levels\", {})\n",
    "    assert response.status_code == requests.codes.ok\n",
    "    return response\n",
    "\n",
    "# Starts and restarts a game, and sets global variables\n",
    "def start_game(level):\n",
    "    global venue, stock, instance_id, account\n",
    "    instance_id, account, venue, stock = start_instance(level)\n",
    "    #restart_instance(instance_id)"
   ]
  },
  {
   "cell_type": "code",
   "execution_count": 9,
   "metadata": {
    "collapsed": false
   },
   "outputs": [],
   "source": [
    "instance_id, account, venue, stock = start_instance(current_level)"
   ]
  },
  {
   "cell_type": "code",
   "execution_count": 428,
   "metadata": {
    "collapsed": false
   },
   "outputs": [
    {
     "name": "stdout",
     "output_type": "stream",
     "text": [
      "SMB76520582 UKAPEX MAL\n"
     ]
    }
   ],
   "source": [
    "print(account, venue, stock)"
   ]
  },
  {
   "cell_type": "code",
   "execution_count": 7,
   "metadata": {
    "collapsed": false
   },
   "outputs": [
    {
     "name": "stdout",
     "output_type": "stream",
     "text": [
      "{'error': 'Level instance not running', 'ok': False}\n"
     ]
    },
    {
     "ename": "KeyError",
     "evalue": "'account'",
     "output_type": "error",
     "traceback": [
      "\u001b[1;31m---------------------------------------------------------------------------\u001b[0m",
      "\u001b[1;31mKeyError\u001b[0m                                  Traceback (most recent call last)",
      "\u001b[1;32m<ipython-input-7-926e3e37b294>\u001b[0m in \u001b[0;36m<module>\u001b[1;34m()\u001b[0m\n\u001b[1;32m----> 1\u001b[1;33m \u001b[0maccount\u001b[0m\u001b[1;33m,\u001b[0m \u001b[0mvenue\u001b[0m\u001b[1;33m,\u001b[0m \u001b[0mstock\u001b[0m \u001b[1;33m=\u001b[0m \u001b[0mresume_instance\u001b[0m\u001b[1;33m(\u001b[0m\u001b[0minstance_id\u001b[0m\u001b[1;33m)\u001b[0m\u001b[1;33m\u001b[0m\u001b[0m\n\u001b[0m",
      "\u001b[1;32m<ipython-input-6-a393c69905cd>\u001b[0m in \u001b[0;36mresume_instance\u001b[1;34m(instance_id)\u001b[0m\n\u001b[0;32m     22\u001b[0m     \u001b[1;31m#return response.json()\u001b[0m\u001b[1;33m\u001b[0m\u001b[1;33m\u001b[0m\u001b[0m\n\u001b[0;32m     23\u001b[0m     \u001b[0mprint\u001b[0m\u001b[1;33m(\u001b[0m\u001b[0mresult\u001b[0m\u001b[1;33m)\u001b[0m\u001b[1;33m\u001b[0m\u001b[0m\n\u001b[1;32m---> 24\u001b[1;33m     \u001b[1;32mreturn\u001b[0m \u001b[0mresult\u001b[0m\u001b[1;33m[\u001b[0m\u001b[1;34m\"account\"\u001b[0m\u001b[1;33m]\u001b[0m\u001b[1;33m,\u001b[0m \u001b[0mresult\u001b[0m\u001b[1;33m[\u001b[0m\u001b[1;34m\"venues\"\u001b[0m\u001b[1;33m]\u001b[0m\u001b[1;33m[\u001b[0m\u001b[1;36m0\u001b[0m\u001b[1;33m]\u001b[0m\u001b[1;33m,\u001b[0m \u001b[0mresult\u001b[0m\u001b[1;33m[\u001b[0m\u001b[1;34m\"tickers\"\u001b[0m\u001b[1;33m]\u001b[0m\u001b[1;33m[\u001b[0m\u001b[1;36m0\u001b[0m\u001b[1;33m]\u001b[0m\u001b[1;33m\u001b[0m\u001b[0m\n\u001b[0m\u001b[0;32m     25\u001b[0m \u001b[1;33m\u001b[0m\u001b[0m\n\u001b[0;32m     26\u001b[0m \u001b[1;32mdef\u001b[0m \u001b[0mcheck_instance\u001b[0m\u001b[1;33m(\u001b[0m\u001b[0minstance_id\u001b[0m\u001b[1;33m)\u001b[0m\u001b[1;33m:\u001b[0m\u001b[1;33m\u001b[0m\u001b[0m\n",
      "\u001b[1;31mKeyError\u001b[0m: 'account'"
     ]
    }
   ],
   "source": [
    "account, venue, stock = resume_instance(instance_id)"
   ]
  },
  {
   "cell_type": "code",
   "execution_count": 416,
   "metadata": {
    "collapsed": false
   },
   "outputs": [],
   "source": [
    "start_game(current_level)"
   ]
  },
  {
   "cell_type": "code",
   "execution_count": 417,
   "metadata": {
    "collapsed": false
   },
   "outputs": [
    {
     "data": {
      "text/plain": [
       "'SAY17662677'"
      ]
     },
     "execution_count": 417,
     "metadata": {},
     "output_type": "execute_result"
    }
   ],
   "source": [
    "account"
   ]
  },
  {
   "cell_type": "code",
   "execution_count": null,
   "metadata": {
    "collapsed": true
   },
   "outputs": [],
   "source": []
  },
  {
   "cell_type": "code",
   "execution_count": 418,
   "metadata": {
    "collapsed": false
   },
   "outputs": [
    {
     "name": "stdout",
     "output_type": "stream",
     "text": [
      "wss://api.stockfighter.io/ob/api/ws/LBB17434912/venues/QNCEX/executions/stocks/KFIM\n"
     ]
    }
   ],
   "source": [
    "print(my_orders_stream_addr)"
   ]
  },
  {
   "cell_type": "code",
   "execution_count": 433,
   "metadata": {
    "collapsed": false
   },
   "outputs": [
    {
     "data": {
      "text/plain": [
       "[]"
      ]
     },
     "execution_count": 433,
     "metadata": {},
     "output_type": "execute_result"
    }
   ],
   "source": [
    "my_order_updates"
   ]
  },
  {
   "cell_type": "code",
   "execution_count": null,
   "metadata": {
    "collapsed": false
   },
   "outputs": [],
   "source": [
    "# Init variables\n",
    "init_trading_variables()\n",
    "\n",
    "my_order_updates = []\n",
    "\n",
    "# Run the order update streamer\n",
    "# Assumes no active orders when starting\n",
    "@asyncio.coroutine\n",
    "def hello():\n",
    "    websocket = yield from websockets.connect(my_orders_stream_addr)\n",
    "    #while(True):\n",
    "    for x in range(1):\n",
    "        try:\n",
    "            order_update = yield from websocket.recv()\n",
    "            #order_update = json.loads(order_update)\n",
    "            #my_order_updates.append(order_update)\n",
    "            #print(order_update)\n",
    "            #handle_fill_update(order_update)\n",
    "            \n",
    "        except:\n",
    "            print(\"exceptasdfion raised: \")\n",
    "        \n",
    "        time.sleep(1)\n",
    "        \n",
    "        print(\"out of exception\")\n",
    "        \n",
    "asyncio.get_event_loop().run_until_complete(hello())"
   ]
  },
  {
   "cell_type": "code",
   "execution_count": null,
   "metadata": {
    "collapsed": true
   },
   "outputs": [],
   "source": []
  },
  {
   "cell_type": "code",
   "execution_count": null,
   "metadata": {
    "collapsed": true
   },
   "outputs": [],
   "source": []
  },
  {
   "cell_type": "code",
   "execution_count": 412,
   "metadata": {
    "collapsed": true
   },
   "outputs": [],
   "source": [
    "my_orders = []\n",
    "\n",
    "def update_open_orders(update):\n",
    "    new_id = update[\"order\"][\"id\"]\n",
    "    # Check if item is in current order list\n",
    "    for item in my_orders:\n",
    "        if item[\"order\"][\"id\"] == new_id:\n",
    "            my_orders.delete(item)\n",
    "            break\n",
    "    my_orders.insert(update)\n",
    "\n",
    "def get_open_count():\n",
    "    for item in my_orders:\n",
    "        if \n",
    "    \n",
    "# Keys: direction, original quantity, quantity, id\n",
    "\n",
    "def handle_fill_update(update):\n",
    "    update_open_orders(update)"
   ]
  },
  {
   "cell_type": "code",
   "execution_count": null,
   "metadata": {
    "collapsed": true
   },
   "outputs": [],
   "source": []
  },
  {
   "cell_type": "code",
   "execution_count": null,
   "metadata": {
    "collapsed": true
   },
   "outputs": [],
   "source": []
  },
  {
   "cell_type": "code",
   "execution_count": null,
   "metadata": {
    "collapsed": true
   },
   "outputs": [],
   "source": []
  },
  {
   "cell_type": "code",
   "execution_count": null,
   "metadata": {
    "collapsed": false
   },
   "outputs": [],
   "source": [
    "# Init variables\n",
    "init_trading_variables()\n",
    "\n",
    "# Run the quote streamer\n",
    "@asyncio.coroutine\n",
    "def hello():\n",
    "    websocket = yield from websockets.connect(quote_update_stream_addr)\n",
    "    while(True):\n",
    "        try:\n",
    "            quote = yield from websocket.recv()\n",
    "            quote = json.loads(quote)[\"quote\"]\n",
    "            make_trading_decisions(quote)\n",
    "            quote_updates.append(quote)\n",
    "        except:\n",
    "            pass\n",
    "\n",
    "asyncio.get_event_loop().run_until_complete(hello())"
   ]
  },
  {
   "cell_type": "code",
   "execution_count": 12,
   "metadata": {
    "collapsed": false
   },
   "outputs": [],
   "source": [
    "# Keep a log of all trades\n",
    "quote_updates = []\n",
    "average_bid = 0\n",
    "average_ask = 0\n",
    "\n",
    "counter = 0\n",
    "\n",
    "# Init variables\n",
    "def init_trading_variables():\n",
    "    global my_orders_stream_addr, quote_update_stream_addr\n",
    "    \n",
    "    #start_game(current_level)\n",
    "    \n",
    "    # Address to get updates on my orders\n",
    "    my_orders_stream_addr = \"wss://api.stockfighter.io/ob/api/ws/{}/venues/{}/executions/stocks/{}\".format(account, venue, stock)\n",
    "\n",
    "    # Address to get all new quote updates\n",
    "    quote_update_stream_addr = \"wss://api.stockfighter.io/ob/api/ws/{}/venues/{}/tickertape/stocks/{}\".format(account, venue, stock)\n",
    "\n",
    "    \n",
    "    \n",
    "# Implement a trading algorithm here\n",
    "def make_trading_decisions(quote):\n",
    "    \n",
    "    # Wait for things to get initialized before trading\n",
    "    if counter > 100:\n",
    "        pass\n",
    "    \n",
    "    counter += 1"
   ]
  },
  {
   "cell_type": "code",
   "execution_count": 313,
   "metadata": {
    "collapsed": false
   },
   "outputs": [],
   "source": [
    "# Parse the quotes \n",
    "quote_updates_parsed = []\n",
    "for x in quote_updates:\n",
    "    quote_updates_parsed.append(json.loads(x)[\"quote\"])\n",
    "\n",
    "# Get a list of the bids and asks as ints\n",
    "bids = [quote[\"bid\"] if \"bid\" in quote.keys() else None for quote in quote_updates_parsed]\n",
    "asks = [quote[\"ask\"] if \"ask\" in quote.keys() else None for quote in quote_updates_parsed]\n",
    "\n",
    "# Print lengths\n",
    "print(len(bids), len(asks), len(quote_updates_parsed))"
   ]
  },
  {
   "cell_type": "code",
   "execution_count": 314,
   "metadata": {
    "collapsed": false
   },
   "outputs": [],
   "source": []
  },
  {
   "cell_type": "code",
   "execution_count": 315,
   "metadata": {
    "collapsed": false
   },
   "outputs": [
    {
     "name": "stdout",
     "output_type": "stream",
     "text": [
      "3792 3792 3792\n"
     ]
    }
   ],
   "source": []
  },
  {
   "cell_type": "code",
   "execution_count": 333,
   "metadata": {
    "collapsed": false
   },
   "outputs": [
    {
     "data": {
      "text/plain": [
       "[<matplotlib.lines.Line2D at 0x7f44b6898828>]"
      ]
     },
     "execution_count": 333,
     "metadata": {},
     "output_type": "execute_result"
    },
    {
     "data": {
      "image/png": "[encoded data removed]",
      "text/plain": [
       "<matplotlib.figure.Figure at 0x7f44b6a0ab00>"
      ]
     },
     "metadata": {},
     "output_type": "display_data"
    }
   ],
   "source": [
    "plt.plot(bids)\n",
    "plt.plot(asks)\n",
    "plt.plot(bids_smooth)"
   ]
  },
  {
   "cell_type": "code",
   "execution_count": null,
   "metadata": {
    "collapsed": false
   },
   "outputs": [],
   "source": []
  },
  {
   "cell_type": "code",
   "execution_count": 332,
   "metadata": {
    "collapsed": false
   },
   "outputs": [],
   "source": [
    "def update_moving_average(old, new, averaging_period):\n",
    "    return (old * averaging_period + new) / (averaging_period + 1)\n",
    "\n",
    "bids_smooth = []\n",
    "for item in bids:\n",
    "    if len(bids_smooth) != 0:\n",
    "        if item:\n",
    "            bids_smooth.append(update_moving_average(bids_smooth[-1], item, 150))\n",
    "    else:\n",
    "        bids_smooth.append(item)"
   ]
  },
  {
   "cell_type": "code",
   "execution_count": 323,
   "metadata": {
    "collapsed": false
   },
   "outputs": [
    {
     "data": {
      "text/plain": [
       "3"
      ]
     },
     "execution_count": 323,
     "metadata": {},
     "output_type": "execute_result"
    }
   ],
   "source": [
    "[1,2,3][-1]"
   ]
  },
  {
   "cell_type": "code",
   "execution_count": null,
   "metadata": {
    "collapsed": true
   },
   "outputs": [],
   "source": []
  }
 ],
 "metadata": {
  "kernelspec": {
   "display_name": "Python 3",
   "language": "python",
   "name": "python3"
  },
  "language_info": {
   "codemirror_mode": {
    "name": "ipython",
    "version": 3
   },
   "file_extension": ".py",
   "mimetype": "text/x-python",
   "name": "python",
   "nbconvert_exporter": "python",
   "pygments_lexer": "ipython3",
   "version": "3.4.3"
  }
 },
 "nbformat": 4,
 "nbformat_minor": 0
}
