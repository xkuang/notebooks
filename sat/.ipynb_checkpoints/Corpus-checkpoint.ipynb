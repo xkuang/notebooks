{
 "cells": [
  {
   "cell_type": "code",
   "execution_count": 148,
   "metadata": {
    "collapsed": false
   },
   "outputs": [],
   "source": [
    "# Lots of imports..\n",
    "import glob\n",
    "import pybrain\n",
    "from pybrain.structure import FeedForwardNetwork\n",
    "from pybrain.structure import LinearLayer, SigmoidLayer\n",
    "from pybrain.structure import FullConnection\n",
    "from pybrain.datasets import SupervisedDataSet\n",
    "from pybrain.supervised.trainers import BackpropTrainer\n",
    "import matplotlib.pyplot as plt\n",
    "import datetime\n",
    "%matplotlib inline\n",
    "import random\n",
    "import ast\n",
    "import time\n",
    "import sqlalchemy\n",
    "from sqlalchemy import *\n",
    "from sqlalchemy import event\n",
    "import sqlite3\n",
    "from sqlalchemy.ext.declarative import declarative_base\n",
    "from sqlalchemy.orm import *\n",
    "import urllib2\n",
    "import urllib\n",
    "import json\n",
    "import glob\n",
    "import pprint\n",
    "import dateutil.parser\n",
    "import pprint\n",
    "import re\n",
    "from sklearn import linear_model, datasets\n",
    "import time\n",
    "from sklearn.naive_bayes import GaussianNB\n",
    "import nltk\n",
    "from collections import defaultdict\n",
    "from sklearn import svm\n",
    "pp = pprint.PrettyPrinter(indent=4)\n",
    "\n",
    "\n",
    "import numpy\n",
    "import time\n",
    "import sqlalchemy\n",
    "from sqlalchemy import *\n",
    "from sqlalchemy import event\n",
    "from sqlalchemy.dialects.mysql import LONGTEXT\n",
    "import sqlite3\n",
    "from sqlalchemy.ext.declarative import declarative_base\n",
    "from sqlalchemy.orm import *\n",
    "import urllib2\n",
    "import urllib\n",
    "import json\n",
    "import pprint\n",
    "import dateutil.parser\n",
    "import gevent\n",
    "import datetime\n",
    "import marshal\n",
    "\n",
    "import re, math, collections, itertools\n",
    "import nltk, nltk.classify.util, nltk.metrics\n",
    "from nltk.classify import NaiveBayesClassifier\n",
    "from nltk.metrics import BigramAssocMeasures\n",
    "from nltk.probability import FreqDist, ConditionalFreqDist\n",
    "import numpy as np\n",
    "import csv\n",
    "import re\n",
    "import nltk.classify.util\n",
    "from nltk.classify import NaiveBayesClassifier\n",
    "from nltk.corpus import movie_reviews\n",
    "from sklearn.svm import LinearSVC\n",
    "from nltk.classify.scikitlearn import SklearnClassifier\n",
    "import os\n",
    "import copy\n",
    "\n",
    "from __future__ import division  # Python 2 users only\n",
    "import nltk, re, pprint\n",
    "from nltk import word_tokenize\n",
    "\n",
    "from nltk.stem import WordNetLemmatizer\n",
    "wnl = WordNetLemmatizer()\n",
    "from nltk.corpus import wordnet as wn\n",
    "from difflib import get_close_matches as gcm\n",
    "from gensim.models.word2vec import Word2Vec\n",
    "from pyemd import emd\n",
    "import numpy as np\n",
    "import math\n",
    "from parse import *\n",
    "from sympy import *\n",
    "#init_printing(use_unicode=True)\n",
    "from funcy import *\n",
    "import urllib2\n",
    "\n",
    "import os\n",
    "from nltk.parse import stanford\n",
    "import pydot\n",
    "from nltk.stem.wordnet import WordNetLemmatizer\n",
    "\n",
    "from scipy.stats import mode\n",
    "\n",
    "import enchant\n",
    "d = enchant.Dict(\"en_US\")"
   ]
  },
  {
   "cell_type": "markdown",
   "metadata": {},
   "source": [
    "SAT Math score equivalencies\n",
    "54 = 800\n",
    "48 = 700\n",
    "40 = 630\n",
    "32 = 560\n",
    "25 = 500\n",
    "20 = 460\n",
    "15 = 420\n",
    "10 = 370\n",
    "5 = 310\n",
    "0 = 220"
   ]
  },
  {
   "cell_type": "markdown",
   "metadata": {},
   "source": [
    "First, we will load in some sample questions (the entirety of the math sections from two past SAT tests). The questions are loaded into the list \"questions\", and depending on what questions we wish to work with we'll load a different set of questions."
   ]
  },
  {
   "cell_type": "markdown",
   "metadata": {},
   "source": [
    "# Sample Test 1 (Math Section)\n",
    "\n",
    "Questions are formatted in the form (Section, Question #, Question Text, Answer Choices, Correct Answer)"
   ]
  },
  {
   "cell_type": "code",
   "execution_count": 136,
   "metadata": {
    "collapsed": false
   },
   "outputs": [],
   "source": [
    "# First Test\n",
    "questions = []\n",
    "\n",
    "questions.append((2, 1, \"If 10 + x is 5 more than 10, what is the value of 2x?\", [-5, 5, 10, 25, 50], 2))\n",
    "questions.append((2, 2, \"\"\"The result when a number is divided by 2 is equal to the result when that same number is \n",
    "divided by 4. What is that number?\"\"\", [-4, -2, 0, 2, 4], 2))\n",
    "questions.append((2, 3, \"DIAGRAM\", []))\n",
    "questions.append((2, 4, \"DIAGRAM\", []))\n",
    "questions.append((2, 5, \"TABLE\", []))\n",
    "questions.append((2, 6, \"CHART\", []))\n",
    "questions.append((2, 7, \"If n and k are positive integers and 8^n = 2^k, what is the value of n/k?\", [1/4, 1/3, 1/2, 3, 4], 1))\n",
    "questions.append((2, 8, \"\"\"In a certain store, the regular price of a refrigerator is $600. \n",
    "How much money is saved by buying this refrigerator\n",
    "at 20 percent off the regular price rather than\n",
    "buying it on sale at 10 percent off the regular price\n",
    "with an additional discount of 10 percent off the sale\n",
    "price?\"\"\", [\"$6\", \"$12\", \"$24\", \"$54\", \"$60\"], 1))\n",
    "questions.append((2, 9, \"\"\"If the function f is defined by f(x) = 3*x + 4, then 2*f(x)+4 = \"\"\"\n",
    "                  , [\"5*x + 4\", \"5*x + 8\", \"6*x + 4\", \"6*x + 8\", \"6*x + 12\"], 4))\n",
    "questions.append((2, 10, \"\"\"What is the greatest possible area of a triangle with one side of length 7 and another side of \n",
    "                          length 10?\"\"\"\n",
    "                  , [17, 34, 35, 70, 140], 2))\n",
    "questions.append((2, 11, \"\"\"A total of 120,000 votes were cast for 2 opposing\n",
    "candidates, Garcia and Perez. If Garcia won by a ratio\n",
    "of 5 to 3, what was the number of votes cast for Perez?\"\"\", [15000, 30000, 45000, 75000, 80000], 2))\n",
    "questions.append((2, 12, \"\"\"If a positive integer n is picked at random from the\n",
    "positive integers less than or equal to 10, what is the\n",
    "probability that 5n + 3 <= 14?\"\"\", [0, 1/10, 1/5, 3/10, 2/5], 2))\n",
    "questions.append((2, 13, \"\"\"If t is a number greater than 1, then t^2 is how much\n",
    "greater than t?\"\"\", [\"1\", \"2\", \"t\", \"t * (t-1)\", \"(t-1) * (t+1)\"], 3))\n",
    "questions.append((2, 14, \"\"\"The height of a right circular cylinder is 5 and the\n",
    "diameter of its base is 4. What is the distance from the\n",
    "center of one base to a point on the circumference of\n",
    "the other base?\"\"\", [3, 5, math.sqrt(29), math.sqrt(33), math.sqrt(41)], 2))\n",
    "questions.append((2, 15, \"\"\"If p and n are integers such that p > n > 0 and\n",
    "p^2 - n^2 = 12, which of the following can be the\n",
    "value of p - n?\"\"\", \"POSSIBLY MULTIPLE ANSWERS\", [1, 2, 4], []))\n",
    "questions.append((2, 16, \"DIAGRAM\", []))\n",
    "questions.append((2, 17, \"DIAGRAM\", []))\n",
    "questions.append((2, 18, \"DIAGRAM\", []))\n",
    "questions.append((2, 19, \"\"\"If x and y are positive integers, which of the\n",
    "following is equivalent to (2x)^(3y) - (2x)^y?\"\"\", [\"(2x)^(2y)\", \"(2^y)(x^3 - x^y)\", \"((2x)^y)((2x)^(2y) - 1)\", \n",
    "                                                    \"((2x)^y)((4x)^y - 1)\", \"((2x)^y)((2x)^3 - 1)\"]))\n",
    "questions.append((2, 20, \"\"\"If j, k, and n are consecutive integers such that\n",
    "0 < j < k < n and the units (ones) digit of the product\n",
    "j * n is 9, what is the units digit of k?\"\"\", [0, 1, 2, 3, 4], 0))\n",
    "\n",
    "\n",
    "questions.append((6, 1, \"\"\"4, 11, 18, . . . In the sequence above, the first term is 4 and each term\n",
    "after the first is 7 more than the previous term. What is\n",
    "the 12th term of the sequence?\"\"\", [77, 81, 84, 86, 92]))\n",
    "questions.append((6, 2, \"\"\"If  (x-2)^2 = 49, then x could be\"\"\", [-9,  -7, 2, 5, 9]))\n",
    "questions.append((6, 3, \"\"\"The average (arithmetic mean) of t and y is 15, and\n",
    "the average of w and x is 15. What is the average of\n",
    "t, w, x, and y?\"\"\", [7.5, 15, 22.5, 30, 60]))\n",
    "questions.append((6, 4, \"\"\"All of Kay’s brothers can swim. If the statement above is true, which of the following\n",
    "must also be true?\"\"\", [\"If Fred cannot swim, then he is not Kay’s brother.\", \"If Dave can swim, then he is not Kay’s brother.\",\n",
    "                        \"If Walt can swim, then he is Kay’s brother.\", \"If Pete is Kay’s brother, then he cannot swim.\", \n",
    "                        \"If Mark is not Kay’s brother, then he cannot swim.\"]))\n",
    "questions.append((6, 5, \"DIAGRAM\", []))\n",
    "questions.append((6, 6, \"Each of the following is equivalent to (a/b)*(b*c + k) EXCEPT\", [\"a*((c+k)/b)\", \"a*(c + (k/b))\", \n",
    "                                                                                          \"(a/b)*(k + b*c)\", \"a*c + (a*k)/b\", \"(a*b*c + a*k)/b\"]))\n",
    "questions.append((6, 7, \"DIAGRAM\", []))\n",
    "questions.append((6, 8, \"DIAGRAM\", []))\n",
    "questions.append((6, 9, \"\"\"When her son’s class held its magazine drive,\n",
    "Dr. Nelson bought 7 one-year magazine subscriptions\n",
    "for the waiting room in her office. She bought\n",
    "4 subscriptions that have 12 issues per year, 2\n",
    "subscriptions that have 4 issues per year, and 1\n",
    "subscription that has 52 issues per year. Altogether,\n",
    "how many magazines will her office receive from these\n",
    "subscriptions?\"\"\", \"NO CHOICES\"))\n",
    "questions.append((6, 10, \"\"\"Three more than twice a number is equal to 4.\n",
    "What is the number?\"\"\", \"NO CHOICES\"))\n",
    "questions.append((6, 11, \"\"\"TABLE\"\"\", \"NO CHOICES\"))\n",
    "questions.append((6, 12, \"\"\"If j/k = 32 and k = 3/2, what is the value of (1/2) * j\"\"\", \"NO CHOICES\"))\n",
    "questions.append((6, 13, \"\"\"x+y+3*z = 600  x+y+z = 400  In the system of equations above,\n",
    "what is the value of x+y?\"\"\", \"NO CHOICES\"))\n",
    "questions.append((6, 14, \"\"\"There are 25 trays on a table in the cafeteria. Each tray\n",
    "contains a cup only, a plate only, or both a cup and a\n",
    "plate. If 15 of the trays contain cups and 21 of the trays\n",
    "contain plates, how many contain both a cup and a\n",
    "plate?\"\"\", \"NO CHOICES\"))\n",
    "questions.append((6, 15, \"\"\"FIGURE\"\"\", \"NO CHOICES\"))\n",
    "questions.append((6, 16, \"\"\"If 6 < abs(x-3) < 7 and x < 0, what is one possible value of abs(x)?\"\"\", \"NO CHOICES\"))\n",
    "questions.append((6, 17, \"\"\"What is the product of the smallest prime number that\n",
    "is greater than 50 and the greatest prime number that is\n",
    "less than 50?\"\"\", \"NO CHOICES\"))\n",
    "questions.append((6, 18, \"\"\"FIGURE\"\"\", \"NO CHOICES\"))\n",
    "\n",
    "\n",
    "questions.append((8, 1, \"\"\"On Wednesday Heather ran 3 miles in 30 minutes.\n",
    "If she ran for 45 minutes at this rate on Thursday,\n",
    "how far did Heather run on Thursday?\"\"\", [\"3.5 miles\", \"4 miles\", \"4.5 miles\", \"5 miles\", \"5.5 miles\"]))\n",
    "questions.append((8, 2, \"\"\"If (2*m)*k = 6, then m*k = \"\"\", [3,4,5,6,12]))\n",
    "questions.append((8, 3, \"\"\"If 3 times a number is equal to 3/2, what is the number?\"\"\", [1/3,1/2,2/3,2,3]))\n",
    "questions.append((8, 4, \"\"\"FIGURE\"\"\", []))\n",
    "questions.append((8, 5, \"\"\"FIGURE\"\"\", []))\n",
    "questions.append((8, 6, \"\"\"10, 18, 4, 15, 3, 21, x  If x is the median of the 7 numbers listed above,\n",
    "which of the following could be the value of x?\"\"\", [5,8,9,14,16]))\n",
    "questions.append((8, 7, \"\"\"Two spheres, one with radius 7 and one with radius 4,\n",
    "are tangent to each other. If P is any point on one\n",
    "sphere and Q is any point on the other sphere, what is\n",
    "the maximum possible length of PQ?\"\"\", [7,11,14,18,22]))\n",
    "questions.append((8, 8, \"\"\"TABLE\"\"\", []))\n",
    "questions.append((8, 9, \"\"\"FIGURE\"\"\", []))\n",
    "questions.append((8, 10, \"\"\"A student was given a piece of rope and told to cut\n",
    "it into two equal pieces, keep one piece, and pass\n",
    "the other piece to the next student. Each student was\n",
    "to repeat this process until every student in the class\n",
    "had exactly one piece of rope. Which of the following\n",
    "could be the fraction of the original rope that one of\n",
    "the students had?\"\"\", [1/14,1/15,1/16,1/17,1/18]))\n",
    "questions.append((8, 11, \"\"\"FIGURE\"\"\", []))\n",
    "questions.append((8, 12, \"\"\"FIGURE\"\"\", []))\n",
    "questions.append((8, 13, \"\"\"If x and y are integers, 7 < y < 16, and x/y = 2/5, how many possible values are there for x?\"\"\", [1,2,3,4,5]))\n",
    "questions.append((8, 14, \"\"\"FIGURE\"\"\", []))\n",
    "questions.append((8, 15, \"\"\"GRAPH\"\"\", []))\n",
    "questions.append((8, 16, \"\"\"SYMBOLS\"\"\", []))"
   ]
  },
  {
   "cell_type": "markdown",
   "metadata": {
    "collapsed": true
   },
   "source": [
    "# Sample Test 2 (Math Section)\n",
    "\n",
    "Questions are formatted in the form (Section, Question #, Question Text, Answer Choices, Correct Answer)"
   ]
  },
  {
   "cell_type": "code",
   "execution_count": 134,
   "metadata": {
    "collapsed": false
   },
   "outputs": [],
   "source": [
    "# Second Test\n",
    "questions = []\n",
    "\n",
    "questions.append((2, 1, \"\"\"When 70000 is written as 10 * 10^n, what is the value of n?\"\"\", [1, 2,2,4,5]))\n",
    "questions.append((2, 2, \"\"\"On a car trip Sam drove m miles, Kara drove twice as\n",
    "many miles as Sam, and Darin drove 20 fewer miles\n",
    "than Kara. In terms of m, how many miles did Darin\n",
    "drive?\"\"\", [\"2*m+20\", \"2*m - 20\", \"m/2 +20\", \"(m+20)/2\", \"m/2 - 20\"]))\n",
    "questions.append((2, 3, \"\"\"If x and y are positive integers, what are all the solutions (x,y) of the equation 3*x + 2*y = 11\"\"\",\n",
    "                  [\"(1,4)\", \"(3,1)\", \"(2,2)\"], \"POSSIBLY MULTIPLE ANSWERS\"))\n",
    "questions.append((2, 4, \"\"\"A company’s profit, P, in dollars, for producing\n",
    "x machines in one day is given by P = 500x - 20x^2.\n",
    "If the company produces 10 machines in one day, then,\n",
    "according to this formula, what is the profit for that\n",
    "day?\"\"\", [5000, 4000, 3000, 2000, 1000]))\n",
    "questions.append((2, 5, \"\"\"12-n, 12, 12+n   What is the average (arithmetic mean) of the 3 quantities in the list above?\"\"\", \n",
    "                  [\"4\", \"12\", \"18\", \"4+(n/3)\", \"12 + (n/3)\"]))\n",
    "questions.append((2, 6, \"\"\"DIAGRAM\"\"\", []))\n",
    "questions.append((2, 7, \"\"\"A fruit salad is made from pineapples, pears, and\n",
    "peaches mixed in the ratio of 2 to 3 to 5, respectively,\n",
    "by weight. What fraction of the mixture by weight is\n",
    "pineapple?\"\"\", [1/5, 3/10,2/5,1/2,2/3]))\n",
    "questions.append((2, 8, \"\"\"DIAGRAM\"\"\", []))\n",
    "questions.append((2, 9, \"\"\"If P and Q are two sets of numbers, and if every\n",
    "number in P is also in Q, which of the following\n",
    "CANNOT be true?\"\"\", [\"4 is in both P and Q.\", \"5 is in neither P nor Q.\", \"6 is in P, but not in Q.\", \"7 is in Q, but not in P.\",\n",
    "                     \"If 8 is not in Q, then 8 is not in P.\"]))\n",
    "questions.append((2, 10, \"\"\"What is the maximum number of rectangular blocks\n",
    "measuring 3 inches by 2 inches by 1 inch that can be\n",
    "packed into a cube-shaped box whose interior measures\n",
    "6 inches on an edge?\"\"\", [24,28,30,36,40]))\n",
    "questions.append((2, 11, \"\"\"If a!=0 and (5/x) = (5+a)/(x+a), what is the value of x?\"\"\", [-5,-1,1,2,5]))\n",
    "questions.append((2, 12, \"\"\"DIAGRAM\"\"\", []))\n",
    "questions.append((2, 13, \"\"\"3*x + 2*y + 2*z = 19   3*x + y +z = 14   If the equations above are true, which of the following is the value of y+z?\"\"\", \n",
    "                  [-5,-4,0,4,5]))\n",
    "questions.append((2, 14, \"\"\"A boat costs x dollars, and this cost is to be shared\n",
    "equally by a group of people. In terms of x, how many\n",
    "dollars less will each person contribute if there are\n",
    "4 people in the group instead of 3 ?\"\"\", [\"x/12\", \"x/4\", \"x/3\", \"7x/12\", \"7x\"]))\n",
    "questions.append((2, 15, \"\"\"If y = 2*x + 3 and x < 2, which of the following\n",
    "represents all the possible values for y?\"\"\", [\"y < 7\", \"y > 7\", \"y < 5\", \"y > 5\", \"5< y < 7\"]))\n",
    "questions.append((2, 16, \"\"\"GRAPH\"\"\", []))\n",
    "questions.append((2, 17, \"\"\"FIGURE\"\"\", []))\n",
    "questions.append((2, 18, \"\"\"FIGURE\"\"\", []))\n",
    "questions.append((2, 19, \"\"\"GRAPH\"\"\", []))\n",
    "questions.append((2, 20, \"\"\"SYMBOL\"\"\", []))\n",
    "\n",
    "\n",
    "questions.append((6, 1, \"\"\"If x + k = 12 and p(x + k) = 36, what is the value\n",
    "of p?\"\"\", [3,4,6,9,12]))\n",
    "questions.append((6, 2, \"\"\"If 13 is added to one-half of a certain number, the\n",
    "result is 37. What is the original number?\"\"\", [24,40,48,61,80]))\n",
    "questions.append((6, 3, \"\"\"FIGURE\"\"\", []))\n",
    "questions.append((6, 4, \"\"\"TABLE\"\"\", []))\n",
    "questions.append((6, 5, \"\"\"FIGURE\"\"\", []))\n",
    "questions.append((6, 6, \"\"\"The least and greatest numbers in a list of 7 real\n",
    "numbers are 2 and 20, respectively. The median of the\n",
    "list is 6, and the number 3 occurs most often in the list.\n",
    "Which of the following could be the average (arithmetic\n",
    "mean) of the numbers in the list?\"\"\", [7.5, 8.5, 10], \"POSSIBLY MULTIPLE ANSWERS\"))\n",
    "questions.append((6, 7, \"\"\"In the xy-coordinate plane, how many points are a\n",
    "distance of 4 units from the origin?\"\"\", [\"One\", \"Two\", \"Three\", \"Four\", \"More than four\"]))\n",
    "questions.append((6, 8, \"\"\"TABLE\"\"\", []))\n",
    "questions.append((6, 9, \"\"\"If a cake is cut into thirds and each third is cut into\n",
    "fourths, how many pieces of cake are there?\"\"\", \"NO CHOICES\"))\n",
    "questions.append((6, 10, \"\"\"If y = h/x where h is a constant, and if y = 3 when\n",
    "x = 4, what does y equal when x = 6 ?\"\"\", \"NO CHOICES\"))\n",
    "questions.append((6, 11, \"\"\"FIGURE\"\"\", \"NO CHOICES\"))\n",
    "questions.append((6, 12, \"\"\"The price of a certain item was $10 in 1990 and it\n",
    "has gone up by $2 per year since 1990. If this trend\n",
    "continues, in what year will the price be $100 ?\"\"\", \"NO CHOICES\"))\n",
    "questions.append((6, 13, \"\"\"FIGURE\"\"\", \"NO CHOICES\"))\n",
    "questions.append((6, 14, \"\"\"The number n is a 2-digit number. When n is divided\n",
    "by 10, the remainder is 9, and when n is divided by 9,\n",
    "the remainder is 8. What is the value of n ?\"\"\", \"NO CHOICES\"))\n",
    "questions.append((6, 15, \"\"\"FIGURE\"\"\", \"NO CHOICES\"))\n",
    "questions.append((6, 16, \"\"\"If j is chosen at random from the set {4, 5, 6} and\n",
    "k is chosen at random from the set {10, 11, 12}, what\n",
    "is the probability that the product of j and k is divisible\n",
    "by 5 ?\"\"\", \"NO CHOICES\"))\n",
    "questions.append((6, 17, \"\"\"Tom and Alison are both salespeople. Tom's weekly\n",
    "compensation consists of $300 plus 20 percent of his\n",
    "sales. Alison's weekly compensation consists of $200\n",
    "plus 25 percent of her sales. If they both had the same\n",
    "amount of sales and the same compensation for a\n",
    "particular week, what was that compensation, in\n",
    "dollars?\"\"\", \"NO CHOICES\"))\n",
    "questions.append((6, 18, \"\"\"t*x + 12*y = -3   The equation above is the equation of a line in the\n",
    "xy-plane, and t is a constant. If the slope of the line\n",
    "is -10, what is the value of t ?\"\"\", \"NO CHOICES\"))\n",
    "\n",
    "questions.append((9, 1, \"\"\"If (1/3)*y + 9 = 0, then y = \"\"\", [-27,-9,-3,3,27]))\n",
    "questions.append((9, 2, \"\"\"FIGURE\"\"\", []))\n",
    "questions.append((9, 3, \"\"\"Roy planted corn on 1/5\n",
    "of his land. If he planted\n",
    "45 acres of corn, how many acres of land does\n",
    "he have?\"\"\", [90, 112.5, 135, 225, 337.5]))\n",
    "questions.append((9, 4, \"\"\"6, 10, 18, 34, 66   The first number in the list above is 6. Which of the\n",
    "following gives a rule for finding each successive\n",
    "number in the list?\"\"\", [\"Add 4 to the preceding number.\", \"Take 1/2 of the preceding number and then add 7 to that result.\",\n",
    "                         \"Double the preceding number and then subtract 2 from that result.\",\n",
    "                         \"Subtract 2 from the preceding number and then double that result.\",\n",
    "                         \"Triple the preceding number and then subtract 8 from that result.\"]))\n",
    "questions.append((9, 5, \"\"\"FIGURE\"\"\", []))\n",
    "questions.append((9, 6, \"\"\"If h and k are positive numbers and h+k = 7, then (7-k)/h = \"\"\", [\"1\",\"0\",\"-1\",\"h\", \"h-1\"]))\n",
    "questions.append((9, 7, \"\"\"TABLE\"\"\", []))\n",
    "questions.append((9, 8, \"\"\"If x^2 = x + 6, which of the following must be true?\"\"\", [\"x=6\", \"x<3\", \"x>0\", \"x^2 < x\", \"x^2 > x\"]))\n",
    "questions.append((9, 9, \"\"\"Let the function f be defined by f(x) = 5*x - 2*a,\n",
    "where a is a constant. If f(10) + f(5) = 55, what\n",
    "is the value of a ?\"\"\", [-5,0,5,10,20]))\n",
    "questions.append((9, 10, \"\"\"A number is called “even-odd” if it is halfway between\n",
    "an even integer and an odd integer. If x is an even-odd\n",
    "number, which of the following must be true?\"\"\", [\"2*x is an integer\", \"2*x is even-odd\", \"x is halfway between two even integers\"], \n",
    "                  \"POSSIBLY MULTIPLE ANSWERS\"))\n",
    "questions.append((9, 11, \"\"\"If m is a positive integer, which of the following is NOT equal to (2^4)^m?\"\"\", \n",
    "                  [\"2^(4m)\", \"4^(2m)\", \"(2^m)*(2^(3m))\", \"(4^m)*(2^m)\", \"16^m\"]))\n",
    "questions.append((9, 12, \"\"\"FIGURE\"\"\", []))\n",
    "questions.append((9, 13, \"\"\"FIGURE\"\"\", []))\n",
    "questions.append((9, 14, \"\"\"How many different ordered pairs (x, y) are there such\n",
    "that x is an even integer, where 4 <= x <= 10, and y is\n",
    "an integer, where 4 < y < 10 ?\"\"\", [8,12,20,30,36]))\n",
    "questions.append((9, 15, \"\"\"n(t) = 500*(0.81)^t   The function above can be used to model the\n",
    "population of a certain endangered species of\n",
    "animal. If n(t) gives the number of the species\n",
    "living t decades after the year 1900, which of the\n",
    "following is true about the population of the species\n",
    "from 1900 to 1920 ?\"\"\", [\"It increased by about 1,000.\", \"It increased by about 320.\", \"It decreased by about 180.\", \n",
    "                         \"It decreased by about 320.\", \"It decreased by about 1,000.\"]))\n",
    "questions.append((9, 16, \"\"\"A sphere of radius r inside a cube touches each one\n",
    "of the six sides of the cube. What is the volume of the\n",
    "cube, in terms of r ?\"\"\", [\"r^3\", \"2*r^3\", \"4*r^3\", \"(4/3)*pi*(r^3)\", \"8*r^3\"]))\n"
   ]
  },
  {
   "cell_type": "markdown",
   "metadata": {},
   "source": [
    "Also included a blank test, to speed up entering future tests."
   ]
  },
  {
   "cell_type": "code",
   "execution_count": 4,
   "metadata": {
    "collapsed": true
   },
   "outputs": [],
   "source": [
    "# Blank Test\n",
    "questions = []\n",
    "\n",
    "questions.append((2, 1, \"\"\" \"\"\", []))\n",
    "questions.append((2, 2, \"\"\" \"\"\", []))\n",
    "questions.append((2, 3, \"\"\" \"\"\", []))\n",
    "questions.append((2, 4, \"\"\" \"\"\", []))\n",
    "questions.append((2, 5, \"\"\" \"\"\", []))\n",
    "questions.append((2, 6, \"\"\" \"\"\", []))\n",
    "questions.append((2, 7, \"\"\" \"\"\", []))\n",
    "questions.append((2, 8, \"\"\" \"\"\", []))\n",
    "questions.append((2, 9, \"\"\" \"\"\", []))\n",
    "questions.append((2, 10, \"\"\" \"\"\", []))\n",
    "questions.append((2, 11, \"\"\" \"\"\", []))\n",
    "questions.append((2, 12, \"\"\" \"\"\", []))\n",
    "questions.append((2, 13, \"\"\" \"\"\", []))\n",
    "questions.append((2, 14, \"\"\" \"\"\", []))\n",
    "questions.append((2, 15, \"\"\" \"\"\", []))\n",
    "questions.append((2, 16, \"\"\" \"\"\", []))\n",
    "questions.append((2, 17, \"\"\" \"\"\", []))\n",
    "questions.append((2, 18, \"\"\" \"\"\", []))\n",
    "questions.append((2, 19, \"\"\" \"\"\", []))\n",
    "questions.append((2, 20, \"\"\" \"\"\", []))\n",
    "\n",
    "\n",
    "questions.append((6, 1, \"\"\" \"\"\", []))\n",
    "questions.append((6, 2, \"\"\" \"\"\", []))\n",
    "questions.append((6, 3, \"\"\" \"\"\", []))\n",
    "questions.append((6, 4, \"\"\" \"\"\", []))\n",
    "questions.append((6, 5, \"\"\" \"\"\", []))\n",
    "questions.append((6, 6, \"\"\" \"\"\", []))\n",
    "questions.append((6, 7, \"\"\" \"\"\", []))\n",
    "questions.append((6, 8, \"\"\" \"\"\", []))\n",
    "questions.append((6, 9, \"\"\" \"\"\", \"NO CHOICES\"))\n",
    "questions.append((6, 10, \"\"\" \"\"\", \"NO CHOICES\"))\n",
    "questions.append((6, 11, \"\"\" \"\"\", \"NO CHOICES\"))\n",
    "questions.append((6, 12, \"\"\" \"\"\", \"NO CHOICES\"))\n",
    "questions.append((6, 13, \"\"\" \"\"\", \"NO CHOICES\"))\n",
    "questions.append((6, 14, \"\"\" \"\"\", \"NO CHOICES\"))\n",
    "questions.append((6, 15, \"\"\" \"\"\", \"NO CHOICES\"))\n",
    "questions.append((6, 16, \"\"\" \"\"\", \"NO CHOICES\"))\n",
    "questions.append((6, 17, \"\"\" \"\"\", \"NO CHOICES\"))\n",
    "questions.append((6, 18, \"\"\" \"\"\", \"NO CHOICES\"))\n",
    "\n",
    "questions.append((9, 1, \"\"\" \"\"\", []))\n",
    "questions.append((9, 2, \"\"\" \"\"\", []))\n",
    "questions.append((9, 3, \"\"\" \"\"\", []))\n",
    "questions.append((9, 4, \"\"\" \"\"\", []))\n",
    "questions.append((9, 5, \"\"\" \"\"\", []))\n",
    "questions.append((9, 6, \"\"\" \"\"\", []))\n",
    "questions.append((9, 7, \"\"\" \"\"\", []))\n",
    "questions.append((9, 8, \"\"\" \"\"\", []))\n",
    "questions.append((9, 9, \"\"\" \"\"\", []))\n",
    "questions.append((9, 10, \"\"\" \"\"\", []))\n",
    "questions.append((9, 11, \"\"\" \"\"\", []))\n",
    "questions.append((9, 12, \"\"\" \"\"\", []))\n",
    "questions.append((9, 13, \"\"\" \"\"\", []))\n",
    "questions.append((9, 14, \"\"\" \"\"\", []))\n",
    "questions.append((9, 15, \"\"\" \"\"\", []))\n",
    "questions.append((9, 16, \"\"\" \"\"\", []))\n"
   ]
  },
  {
   "cell_type": "code",
   "execution_count": 5,
   "metadata": {
    "collapsed": false
   },
   "outputs": [
    {
     "data": {
      "text/plain": [
       "54"
      ]
     },
     "execution_count": 5,
     "metadata": {},
     "output_type": "execute_result"
    }
   ],
   "source": [
    "# Total number of math questions on this test\n",
    "len(questions)"
   ]
  },
  {
   "cell_type": "code",
   "execution_count": 137,
   "metadata": {
    "collapsed": false
   },
   "outputs": [
    {
     "data": {
      "text/plain": [
       "32"
      ]
     },
     "execution_count": 137,
     "metadata": {},
     "output_type": "execute_result"
    }
   ],
   "source": [
    "# Get rid of all problems that have a chart, figure, or special symbols\n",
    "not_figures = [x for x in questions if len(nltk.word_tokenize(x[2])) > 1]\n",
    "\n",
    "# Convert to lists\n",
    "cleaned = []\n",
    "for item in not_figures:\n",
    "    out = []\n",
    "    for bit in item:\n",
    "        out.append(bit)\n",
    "    cleaned.append(out)\n",
    "    \n",
    "# Get rid of newlines \n",
    "cleaned2 = []\n",
    "for item in cleaned:\n",
    "    item[2] = item[2].replace(\"\\n\", \" \")\n",
    "    cleaned2.append(item)\n",
    "\n",
    "clean_questions = cleaned2\n",
    "    \n",
    "# Number of remaining questions\n",
    "len(clean_questions)"
   ]
  },
  {
   "cell_type": "markdown",
   "metadata": {
    "collapsed": false
   },
   "source": [
    "We're using a library, sympy, to handle algebraic equation processing. This function converts a \"SAT form\" equation into a form that sympy can import."
   ]
  },
  {
   "cell_type": "code",
   "execution_count": 179,
   "metadata": {
    "collapsed": false
   },
   "outputs": [],
   "source": [
    "# Parses a standard form equation into sympy form. Returns a list, as 1 < x < 2 is split into two equations\n",
    "def my_sympify(equation):\n",
    "    split = equation.split(\"=\")\n",
    "    \n",
    "    if len(split) == 2:\n",
    "        equation = \"Equality(%s, %s)\" % (split[0], split[1])\n",
    "\n",
    "    elif len(re.split(r'\\s*(<|>)\\s*', equation)) == 5:\n",
    "        pieces = re.split(r'\\s*(<|>)\\s*', equation)\n",
    "        eqn1 = sympify(pieces[0] + pieces[1] + pieces[2])\n",
    "        eqn2 = sympify(pieces[2] + pieces[3] + pieces[4])\n",
    "        return [eqn1, eqn2]\n",
    "    \n",
    "    return [sympify(equation)]"
   ]
  },
  {
   "cell_type": "markdown",
   "metadata": {
    "collapsed": true
   },
   "source": [
    "Now, we want to try to handle some subset of the questions. First, we note that some questions can be considered pure-math - ie, they require no knowledge other than an understanding of English and Math to solve. "
   ]
  },
  {
   "cell_type": "markdown",
   "metadata": {
    "collapsed": true
   },
   "source": [
    "Then, we categorize this subset based on difficulty level: \n",
    "\n",
    "1. Straightforward\n",
    "2. Easy math, hard to extract equations\n",
    "3. Easy to get equations, but hard math\n",
    "4. Hard both in langauge and math\n",
    "5. Unique in some way\n",
    "\n",
    "Categories are noted in a comment above each question. "
   ]
  },
  {
   "cell_type": "code",
   "execution_count": 150,
   "metadata": {
    "collapsed": false
   },
   "outputs": [],
   "source": [
    "# Want to look only at the \"pure-algebra\" math problems.\n",
    "questions = []\n",
    "\n",
    "# 2\n",
    "questions.append((2, 1, \"If 10 + x is 5 more than 10, what is the value of 2x?\", [-5, 5, 10, 25, 50]))\n",
    "\n",
    "# 2\n",
    "questions.append((2, 2, \"\"\"The result when a number is divided by 2 is equal to the result when that same number is \n",
    "divided by 4. What is that number?\"\"\", [-4, -2, 0, 2, 4]))\n",
    "\n",
    "# 1\n",
    "questions.append((2, 7, \"If n and k are positive integers and 8^n = 2^k, what is the value of n/k?\", [1/4, 1/3, 1/2, 3, 4]))\n",
    "\n",
    "# 5\n",
    "questions.append((2, 9, \"\"\"If the function f is defined by f(x) = 3*x + 4, then 2*f(x)+4 = \"\"\"\n",
    "                  , [\"5*x + 4\", \"5*x + 8\", \"6*x + 4\", \"6*x + 8\", \"6*x + 12\"]))\n",
    "\n",
    "# 5\n",
    "questions.append((2, 12, \"\"\"If a positive integer n is picked at random from the\n",
    "positive integers less than or equal to 10, what is the \n",
    "probability that 5n + 3 <= 14?\"\"\", [0, 1/10, 1/5, 3/10, 2/5]))\n",
    "\n",
    "# 2\n",
    "questions.append((2, 13, \"\"\"If t is a number greater than 1, then t^2 is how much\n",
    "greater than t?\"\"\", [\"1\", \"2\", \"t\", \"t * (t-1)\", \"(t-1) * (t+1)\"]))\n",
    "\n",
    "# 1\n",
    "questions.append((2, 15, \"\"\"If p and n are integers such that p > n > 0 and\n",
    "p^2 - n^2 = 12, which of the following can be the value of p - n?\"\"\", \"POSSIBLY MULTIPLE ANSWERS\", [1, 2, 4]))\n",
    "\n",
    "# 1\n",
    "questions.append((2, 19, \"\"\"If x and y are positive integers, which of the\n",
    "following is equivalent to (2x)^(3y) - (2x)^y?\"\"\", [\"(2x)^(2y)\", \"(2^y)(x^3 - x^y)\", \"((2x)^y)((2x)^(2y) - 1)\", \n",
    "                                                    \"((2x)^y)((4x)^y - 1)\", \"((2x)^y)((2x)^3 - 1)\"]))\n",
    "\n",
    "# 5\n",
    "questions.append((2, 20, \"\"\"If j, k, and n are consecutive integers such that\n",
    "0 < j < k < n and the units (ones) digit of the product\n",
    "j * n is 9, what is the units digit of k?\"\"\", [0, 1, 2, 3, 4]))\n",
    "\n",
    "# 1\n",
    "questions.append((6, 2, \"\"\"If (x-2)^2 = 49, then x could be\"\"\", [-9,  -7, 2, 5, 9]))\n",
    "\n",
    "# 5\n",
    "questions.append((6, 3, \"\"\"The average (arithmetic mean) of t and y is 15, and\n",
    "the average of w and x is 15. What is the average of\n",
    "t, w, x, and y?\"\"\", [7.5, 15, 22.5, 30, 60]))\n",
    "\n",
    "# 1\n",
    "questions.append((6, 6, \"Each of the following is equivalent to (a/b)*(b*c + k) EXCEPT\", \n",
    "                  [\"a*((c+k)/b)\", \"a*(c + (k/b))\", \"(a/b)*(k + b*c)\", \"a*c + (a*k)/b\", \"(a*b*c + a*k)/b\"]))\n",
    "\n",
    "# 2\n",
    "questions.append((6, 10, \"\"\"Three more than twice a number is equal to 4.\n",
    "What is the number?\"\"\", \"NO CHOICES\"))\n",
    "\n",
    "# 1\n",
    "questions.append((6, 12, \"\"\"If j/k = 32 and k = 3/2, what is the value of (1/2) * j\"\"\", \"NO CHOICES\"))\n",
    "\n",
    "# 1\n",
    "questions.append((6, 13, \"\"\"x+y+3*z = 600  x+y+z = 400  In the system of equations above,\n",
    "what is the value of x+y?\"\"\", \"NO CHOICES\"))\n",
    "\n",
    "# 1\n",
    "questions.append((6, 16, \"\"\"If 6 < abs(x-3) < 7 and x < 0, what is one possible value of abs(x)?\"\"\", \"NO CHOICES\"))\n",
    "\n",
    "# 5\n",
    "questions.append((6, 17, \"\"\"What is the product of the smallest prime number that\n",
    "is greater than 50 and the greatest prime number that is\n",
    "less than 50?\"\"\", \"NO CHOICES\"))\n",
    "\n",
    "# 1\n",
    "questions.append((8, 2, \"\"\"If (2*m)*k = 6, then m*k = \"\"\", [3,4,5,6,12]))\n",
    "\n",
    "# 2\n",
    "questions.append((8, 3, \"\"\"If 3 times a number is equal to 3/2, what is the number?\"\"\", [1/3,1/2,2/3,2,3]))\n",
    "\n",
    "# 5\n",
    "questions.append((8, 6, \"\"\"10, 18, 4, 15, 3, 21, x  If x is the median of the 7 numbers listed above,\n",
    "which of the following could be the value of x?\"\"\", [5,8,9,14,16]))\n",
    "\n",
    "# 5\n",
    "questions.append((8, 13, \"\"\"If x and y are integers, 7 < y < 16, and x/y = 2/5, how many possible values are there for x?\"\"\", \n",
    "                  [1,2,3,4,5]))\n",
    "\n",
    "# second test\n",
    "\n",
    "\n",
    "questions.append((2, 1, \"\"\"When 70000 is written as 10 * 10^n, what is the value of n?\"\"\", [1, 2,2,4,5]))\n",
    "\n",
    "questions.append((2, 3, \"\"\"If x and y are positive integers, what are all the solutions (x,y) of the equation 3*x + 2*y = 11\"\"\", \n",
    "                  [\"(1,4)\", \"(3,1)\", \"(2,2)\"], \"POSSIBLY MULTIPLE ANSWERS\"))\n",
    "\n",
    "questions.append((2, 5, \"\"\"12-n, 12, 12+n   What is the average (arithmetic mean) of the 3 quantities in the list above?\"\"\", \n",
    "                  [\"4\", \"12\", \"18\", \"4+(n/3)\", \"12 + (n/3)\"]))\n",
    "\n",
    "questions.append((2, 9, \"\"\"If P and Q are two sets of numbers, and if every\n",
    "number in P is also in Q, which of the following\n",
    "CANNOT be true?\"\"\", [\"4 is in both P and Q.\", \"5 is in neither P nor Q.\", \"6 is in P, but not in Q.\", \"7 is in Q, but not in P.\",\n",
    "                     \"If 8 is not in Q, then 8 is not in P.\"]))\n",
    "\n",
    "questions.append((2, 11, \"\"\"If a!=0 and (5/x) = (5+a)/(x+a), what is the value of x?\"\"\", [-5,-1,1,2,5]))\n",
    "\n",
    "questions.append((2, 13, \"\"\"3*x + 2*y + 2*z = 19   3*x + y +z = 14   If the equations above are true, which of the following is the value of y+z?\"\"\", \n",
    "                  [-5,-4,0,4,5]))\n",
    "\n",
    "questions.append((2, 15, \"\"\"If y = 2*x + 3 and x < 2, which of the following\n",
    "represents all the possible values for y?\"\"\", [\"y < 7\", \"y > 7\", \"y < 5\", \"y > 5\", \"5< y < 7\"]))\n",
    "\n",
    "\n",
    "questions.append((6, 1, \"\"\"If x + k = 12 and p(x + k) = 36, what is the value\n",
    "of p?\"\"\", [3,4,6,9,12]))\n",
    "questions.append((6, 2, \"\"\"If 13 is added to one-half of a certain number, the\n",
    "result is 37. What is the original number?\"\"\", [24,40,48,61,80]))\n",
    "questions.append((6, 6, \"\"\"The least and greatest numbers in a list of 7 real\n",
    "numbers are 2 and 20, respectively. The median of the\n",
    "list is 6, and the number 3 occurs most often in the list.\n",
    "Which of the following could be the average (arithmetic\n",
    "mean) of the numbers in the list?\"\"\", [7.5, 8.5, 10], \"POSSIBLY MULTIPLE ANSWERS\"))\n",
    "\n",
    "questions.append((6, 10, \"\"\"If y = h/x where h is a constant, and if y = 3 when\n",
    "x = 4, what does y equal when x = 6 ?\"\"\", \"NO CHOICES\"))\n",
    "\n",
    "questions.append((6, 14, \"\"\"The number n is a 2-digit number. When n is divided\n",
    "by 10, the remainder is 9, and when n is divided by 9,\n",
    "the remainder is 8. What is the value of n ?\"\"\", \"NO CHOICES\"))\n",
    "\n",
    "questions.append((6, 16, \"\"\"If j is chosen at random from the set {4, 5, 6} and\n",
    "k is chosen at random from the set {10, 11, 12}, what\n",
    "is the probability that the product of j and k is divisible\n",
    "by 5 ?\"\"\", \"NO CHOICES\"))\n",
    "\n",
    "questions.append((9, 1, \"\"\"If (1/3)*y + 9 = 0, then y = \"\"\", [-27,-9,-3,3,27]))\n",
    "\n",
    "questions.append((9, 6, \"\"\"If h and k are positive numbers and h+k = 7, then (7-k)/h = \"\"\", [\"1\",\"0\",\"-1\",\"h\", \"h-1\"]))\n",
    "\n",
    "questions.append((9, 8, \"\"\"If x^2 = x + 6, which of the following must be true?\"\"\", [\"x=6\", \"x<3\", \"x>0\", \"x^2 < x\", \"x^2 > x\"]))\n",
    "questions.append((9, 9, \"\"\"Let the function f be defined by f(x) = 5*x - 2*a,\n",
    "where a is a constant. If f(10) + f(5) = 55, what\n",
    "is the value of a ?\"\"\", [-5,0,5,10,20]))\n",
    "\n",
    "questions.append((9, 11, \"\"\"If m is a positive integer, which of the following is NOT equal to (2^4)^m?\"\"\", \n",
    "                  [\"2^(4m)\", \"4^(2m)\", \"(2^m)*(2^(3m))\", \"(4^m)*(2^m)\", \"16^m\"]))\n",
    "\n",
    "questions.append((9, 14, \"\"\"How many different ordered pairs (x, y) are there such\n",
    "that x is an even integer, where 4 <= x <= 10, and y is\n",
    "an integer, where 4 < y < 10 ?\"\"\", [8,12,20,30,36]))\n",
    "\n"
   ]
  },
  {
   "cell_type": "markdown",
   "metadata": {},
   "source": [
    "Okay, let's go through this one piece at a time, and tackle the \"1\" category first."
   ]
  },
  {
   "cell_type": "code",
   "execution_count": 167,
   "metadata": {
    "collapsed": true
   },
   "outputs": [],
   "source": [
    "# Now we grab just the \"1\" category\n",
    "questions = []\n",
    "\n",
    "\n",
    "# 1\n",
    "questions.append((2, 7, \"If n and k are positive integers and 8^n = 2^k, what is the value of n/k?\", [1/4, 1/3, 1/2, 3, 4], 1))\n",
    "\n",
    "# 1\n",
    "questions.append((2, 15, \"\"\"If p and n are integers such that p > n > 0 and\n",
    "p^2 - n^2 = 12, which of the following can be the value of p - n?\"\"\", \"POSSIBLY MULTIPLE ANSWERS\", [1, 2, 4], [2]))\n",
    "\n",
    "# 1\n",
    "questions.append((2, 19, \"\"\"If x and y are positive integers, which of the\n",
    "following is equivalent to (2*x)^(3*y) - (2*x)^y?\"\"\", [\"(2*x)^(2*y)\", \"(2^y)(x^3 - x^y)\", \"((2*x)^y)((2*x)^(2*y) - 1)\", \n",
    "                                                    \"((2*x)^y)((4*x)^y - 1)\", \"((2*x)^y)((2*x)^3 - 1)\"]))\n",
    "\n",
    "# 1\n",
    "questions.append((6, 2, \"\"\"If (x-2)^2 = 49, then x could be\"\"\", [-9,  -7, 2, 5, 9], 4))\n",
    "\n",
    "# 1\n",
    "questions.append((6, 6, \"Each of the following is equivalent to (a/b)*(b*c + k) EXCEPT\", \n",
    "                  [\"a*((c+k)/b)\", \"a*(c + (k/b))\",  \"(a/b)*(k + b*c)\", \"a*c + (a*k)/b\", \"(a*b*c + a*k)/b\"]))\n",
    "\n",
    "# 1\n",
    "questions.append((6, 12, \"\"\"If j/k = 32 and k = 3/2, what is the value of (1/2) * j\"\"\", \"NO CHOICES\"))\n",
    "\n",
    "# 1\n",
    "questions.append((6, 13, \"\"\"x+y+3*z = 600  x+y+z = 400  In the system of equations above,\n",
    "what is the value of x+y?\"\"\", \"NO CHOICES\"))\n",
    "\n",
    "# 1\n",
    "questions.append((6, 16, \"\"\"If 6 < abs(x-3) < 7 and x < 0, what is one possible value of abs(x)?\"\"\", \"NO CHOICES\"))\n",
    "\n",
    "# 1\n",
    "questions.append((8, 2, \"\"\"If (2*m)*k = 6, then m*k = \"\"\", [3,4,5,6,12], 0))\n"
   ]
  },
  {
   "cell_type": "code",
   "execution_count": null,
   "metadata": {
    "collapsed": true
   },
   "outputs": [],
   "source": []
  },
  {
   "cell_type": "code",
   "execution_count": 156,
   "metadata": {
    "collapsed": true
   },
   "outputs": [],
   "source": [
    "# Here, we define standard sets of characters to use for filtering\n",
    "letters = [\"a\",\"b\",\"c\",\"d\",\"e\",\"f\",\"g\",\"h\",\"i\",\"j\",\"k\",\"l\",\"m\",\"n\",\"o\",\"p\",\"q\",\"r\",\"s\",\"t\",\"u\",\"v\",\"w\",\"x\",\"y\",\"z\",\n",
    "          \"A\",\"B\", \"C\",\"D\",\"E\",\"F\",\"G\",\"H\",\"I\",\"J\",\"K\",\"L\",\"M\",\"N\",\"O\",\"P\",\"Q\",\"R\",\"S\",\"T\",\"U\",\"V\",\"W\",\"X\",\"Y\",\"Z\"]\n",
    "math_symbols = [\"/\", \"-\", \"=\", \"*\", \"+\", \"(\", \")\", \"^\", \"<\", \">\", \"!\"]\n",
    "numbers = [\"0\", \"1\", \"2\", \"3\",\"4\", \"5\", \"6\", \"7\", \"8\", \"9\"]\n"
   ]
  },
  {
   "cell_type": "markdown",
   "metadata": {},
   "source": [
    "In this set of \"pure math\" questions, I'm curious how many unique words there are in these types of questions. The following block of code essentially counts the number of times each words appears in the question set, and counts the total number of words. Turns out there's only 150 unique words in the pure-math questions on 2 tests."
   ]
  },
  {
   "cell_type": "code",
   "execution_count": 151,
   "metadata": {
    "collapsed": false,
    "scrolled": true
   },
   "outputs": [
    {
     "name": "stdout",
     "output_type": "stream",
     "text": [
      "the 66\n",
      "is 58\n",
      "of 39\n",
      "and 32\n",
      "if 31\n",
      "x 31\n",
      "number 22\n",
      "what 22\n",
      "y 19\n",
      "n 19\n",
      "a 16\n",
      "value 15\n",
      "are 13\n",
      "k 12\n",
      "integer 11\n",
      "following 10\n",
      "which 9\n",
      "that 9\n",
      "to 8\n",
      "when 7\n",
      "in 7\n",
      "than 7\n",
      "positive 7\n",
      "by 7\n",
      "be 7\n",
      "p 7\n",
      "j 6\n",
      "equal 6\n",
      "then 6\n",
      "average 5\n",
      "t 5\n",
      "list 5\n",
      "divided 4\n",
      "f 4\n",
      "above 4\n",
      "where 4\n",
      "such 3\n",
      "product 3\n",
      "arithmetic 3\n",
      "how 3\n",
      "at 3\n",
      "equation 3\n",
      "true 3\n",
      "from 3\n",
      "could 3\n",
      "result 3\n",
      "set 3\n",
      "mean 3\n",
      "possible 3\n",
      "greater 3\n",
      "digit 3\n",
      "random 3\n",
      "greatest 2\n",
      "q 2\n",
      "m 2\n",
      "an 2\n",
      "defined 2\n",
      "constant 2\n",
      "z 2\n",
      "function 2\n",
      "more 2\n",
      "there 2\n",
      "unit 2\n",
      "probability 2\n",
      "w 2\n",
      "many 2\n",
      "remainder 2\n",
      "equivalent 2\n",
      "for 2\n",
      "median 2\n",
      "h 2\n",
      "prime 2\n",
      "one 2\n",
      "chosen 2\n",
      "all 2\n",
      "quantity 1\n",
      "original 1\n",
      "time 1\n",
      "doe 1\n",
      "pair 1\n",
      "two 1\n",
      "most 1\n",
      "added 1\n",
      "same 1\n",
      "different 1\n",
      "certain 1\n",
      "can 1\n",
      "divisible 1\n",
      "must 1\n",
      "listed 1\n",
      "much 1\n",
      "least 1\n",
      "system 1\n",
      "ordered 1\n",
      "three 1\n",
      "or 1\n",
      "let 1\n",
      "respectively 1\n",
      "occurs 1\n",
      "consecutive 1\n",
      "smallest 1\n",
      "written 1\n",
      "even 1\n",
      "picked 1\n",
      "often 1\n",
      "each 1\n",
      "twice 1\n",
      "solution 1\n",
      "represents 1\n",
      "not 1\n",
      "every 1\n",
      "cannot 1\n",
      "real 1\n",
      "except 1\n",
      "also 1\n",
      "147\n"
     ]
    }
   ],
   "source": [
    "import re\n",
    "import operator\n",
    "sentences = []\n",
    "cleaned = []\n",
    "for question in questions:\n",
    "    sentences.append(question[2])\n",
    "for sentence in sentences: \n",
    "    sentence = sentence.replace(\"\\n\", \" \")\n",
    "    sentence = re.sub('[-/-=*+()^<>!,{}?.]', \"\", sentence)\n",
    "    #sentence = re.sub('[xyzhmk]', \"\", sentence)\n",
    "    sentence = re.sub('[123456789]', \"\", sentence)\n",
    "    \n",
    "    cleaned.append(sentence)\n",
    "\n",
    "words = []\n",
    "for sentence in cleaned:\n",
    "    temp = re.split(\" \", sentence)\n",
    "    words += temp\n",
    "\n",
    "words2 = []\n",
    "for word in words:\n",
    "    try:\n",
    "        temp = WordNetLemmatizer().lemmatize(word.lower())\n",
    "        if d.check(temp):\n",
    "            words2.append(temp)\n",
    "    except:\n",
    "        pass\n",
    "my_words = defaultdict(int)\n",
    "for word in words2:\n",
    "    my_words[word] += 1\n",
    "sorted_x = reversed(sorted(my_words.items(), key=operator.itemgetter(1)))\n",
    "sorted_x = list(sorted_x)\n",
    "for item in sorted_x:\n",
    "    item = item[0]\n",
    "    print item, my_words[item]\n",
    "print len(set(words))"
   ]
  },
  {
   "cell_type": "code",
   "execution_count": null,
   "metadata": {
    "collapsed": false
   },
   "outputs": [],
   "source": []
  },
  {
   "cell_type": "markdown",
   "metadata": {},
   "source": [
    "Now, given what we just found, how many questions are made up only of a subset of those words? Ie, given a set of n words, how many questions are made up soely of those n words? Conclusion: although there's only 150 words, you need most all of those to be able to handle most questions."
   ]
  },
  {
   "cell_type": "code",
   "execution_count": 12,
   "metadata": {
    "collapsed": false
   },
   "outputs": [
    {
     "name": "stdout",
     "output_type": "stream",
     "text": [
      "[]\n",
      "9\n",
      "9\n"
     ]
    }
   ],
   "source": [
    "top_words = [x[0] for x in sorted_x[:100]]\n",
    "print top_words\n",
    "\n",
    "bad = 0\n",
    "for sentence in cleaned:\n",
    "    temp = re.split(\" \", sentence)\n",
    "    for word in temp:\n",
    "        if (word.lower() not in top_words):\n",
    "            #print word.lower()\n",
    "            bad += 1\n",
    "            #print sentence\n",
    "            break\n",
    "print bad\n",
    "print len(cleaned)"
   ]
  },
  {
   "cell_type": "markdown",
   "metadata": {
    "collapsed": false
   },
   "source": [
    "Before doing this exercise, I was hoping that I could just manually write a language interpreter because of the small subset of language that is used in these problems. But, I think that even a 100-word interpreter with all grammar still used would be quite difficult.."
   ]
  },
  {
   "cell_type": "code",
   "execution_count": null,
   "metadata": {
    "collapsed": false
   },
   "outputs": [],
   "source": []
  },
  {
   "cell_type": "code",
   "execution_count": null,
   "metadata": {
    "collapsed": true
   },
   "outputs": [],
   "source": []
  },
  {
   "cell_type": "markdown",
   "metadata": {
    "collapsed": false
   },
   "source": [
    "Okay, so if we're going to tackle algebra problems, we need a way to deal with algebra. The following functions build up some basic capabilities in this area."
   ]
  },
  {
   "cell_type": "code",
   "execution_count": 171,
   "metadata": {
    "collapsed": true
   },
   "outputs": [],
   "source": [
    "# Substitutes the given substititutions in [(symbol, substitution)..] form into the given equation,\n",
    "# then checks if equation with substitutions is true. Also handles inequalities. \n",
    "def evaluate_equation(equation, substitutions):\n",
    "    \n",
    "    lhs = equation.lhs\n",
    "    rhs = equation.rhs\n",
    "    \n",
    "    if type(equation) == Equality:\n",
    "        return simplify(lhs.subs(substitutions) - rhs.subs(substitutions)) == 0\n",
    "    \n",
    "    elif type(equation) == StrictGreaterThan:\n",
    "        return simplify(lhs.subs(substitutions) - rhs.subs(substitutions)) > 0\n",
    "    \n",
    "    elif type(equation) == StrictLessThan:\n",
    "        return simplify(lhs.subs(substitutions) - rhs.subs(substitutions)) < 0"
   ]
  },
  {
   "cell_type": "markdown",
   "metadata": {},
   "source": [
    "It's surprisingly hard to write an automatic closed-form solver with sympy. Since nearly all SAT problems have integer or common-fraction solutions, we'll first write a simple numeric solver. "
   ]
  },
  {
   "cell_type": "code",
   "execution_count": 202,
   "metadata": {
    "collapsed": false
   },
   "outputs": [],
   "source": [
    "# Solves the given list of equations (given a solution form) and returns the desired result, if the solution \n",
    "# is in the range tested by this function.\n",
    "def numerical_solve_equations(equations, solution_form):\n",
    "    integers = list(numpy.arange(-25, 50, .5))\n",
    "\n",
    "    symbols = []\n",
    "    for equation in equations:\n",
    "        symbols += equation.free_symbols\n",
    "    symbols = list(set(symbols))\n",
    "    \n",
    "    variable_solutions = []\n",
    "    result_solutions = []\n",
    "    \n",
    "    if len(symbols) == 0:\n",
    "        print \"no variables found in equations!\"\n",
    "    elif len(symbols) == 1:\n",
    "        symbol = symbols[0]\n",
    "        for a in integers:\n",
    "            all_true = True\n",
    "            for equation in equations:\n",
    "                if not evaluate_equation(equation, [(symbol, a)]):\n",
    "                    all_true = False\n",
    "            if all_true:\n",
    "                variable_solutions.append(a)\n",
    "        \n",
    "                if set(symbols).issubset(solution_form.free_symbols):\n",
    "                    result_solutions.append(solution_form.subs(symbol, a))\n",
    "                else:\n",
    "                    print \"solution form has symbol not in equations!\"\n",
    "\n",
    "        return (variable_solutions, result_solutions)\n",
    "    \n",
    "    elif len(symbols) == 2:\n",
    "        symbol1 = symbols[0]\n",
    "        symbol2 = symbols[1]\n",
    "        for a in integers:\n",
    "            for b in integers:\n",
    "                all_true = True\n",
    "                for equation in equations:\n",
    "                    if not evaluate_equation(equation, [(symbol1, a), (symbol2, b)]):\n",
    "                        all_true = False\n",
    "                if all_true:\n",
    "                    variable_solutions.append((a, b))\n",
    "                    if set(symbols).issubset(solution_form.free_symbols):\n",
    "                        result_solutions.append(solution_form.subs([(symbol1, a), (symbol2, b)]))\n",
    "                    else:\n",
    "                        print \"solution form has symbol not in equations!\"\n",
    "\n",
    "        return (variable_solutions, result_solutions)\n",
    "    \n"
   ]
  },
  {
   "cell_type": "markdown",
   "metadata": {},
   "source": [
    "Then, once we have a solution (or solutions), we need to match it with the given solutions. "
   ]
  },
  {
   "cell_type": "code",
   "execution_count": 235,
   "metadata": {
    "collapsed": true
   },
   "outputs": [],
   "source": [
    "# Given a solution (or solutions), an a list of choices, return the index of the correct solution.\n",
    "def match_solution(solutions, choices):\n",
    "    all_numeric = True\n",
    "    for choice in choices:\n",
    "        try:\n",
    "            test = choice + 1\n",
    "        except:\n",
    "            # All solutions aren't numeric!\n",
    "            all_numeric = False            \n",
    "    \n",
    "    solutions = [x for x in solutions if not math.isnan(x)]\n",
    "    \n",
    "    # CHeck if there are multiple nearly identical solutions\n",
    "    if len(solutions) > 5:\n",
    "        if abs(np.mean(solutions) - mode(solutions).mode[0]) < np.mean(solutions) / 100: # this might not work if solns are 0\n",
    "            # If so, collapse them to the average\n",
    "            solutions = [mode(solutions).mode[0]]\n",
    "            print \"collapsed solutions!\"\n",
    "    \n",
    "    # If all solutions are numbers, match with choices\n",
    "    if all_numeric:\n",
    "        if len(solutions) == 1:          \n",
    "            for index, choice in enumerate(choices):\n",
    "                if abs(solutions[0] - choice) < (solutions[0] + choice) / 100: \n",
    "                    return index\n",
    "                if solutions[0] - choice == 0:\n",
    "                    return index\n",
    "        else:\n",
    "            solution_matches = []\n",
    "            for solution in solutions:\n",
    "                if solution in choices:\n",
    "                    solution_matches.append(solution)\n",
    "            if len(solution_matches) == 1:\n",
    "                return choices.index(solution_matches[0])"
   ]
  },
  {
   "cell_type": "markdown",
   "metadata": {},
   "source": [
    "Okay, so we've got to extract equations from the question text. The following functions locate and return the equations from a question."
   ]
  },
  {
   "cell_type": "code",
   "execution_count": 174,
   "metadata": {
    "collapsed": false
   },
   "outputs": [],
   "source": [
    "# A recursive function that finds all equations in a given string. \n",
    "def extract_equations_recursive(question, index, equations):\n",
    "    \n",
    "    if index >= len(question):\n",
    "        return []\n",
    "\n",
    "\n",
    "    if maybe_equation(question, index):\n",
    "        done = False\n",
    "        new_index = index\n",
    "        while not done:\n",
    "            new_index += 1\n",
    "            if new_index >= len(question):\n",
    "                break\n",
    "            done = not ( maybe_equation(question, new_index) or question[new_index] == \" \")\n",
    "           \n",
    "        equations = extract_equations_recursive(question, new_index, equations)\n",
    "        equations.append(question[index:new_index])\n",
    "        return equations\n",
    "    else:\n",
    "        equations = extract_equations_recursive(question, index+1, equations)\n",
    "        return equations\n",
    "\n",
    "# Helper function that determines if a given index in a string might be part (or the start?) of an equation\n",
    "def maybe_equation(question, index):\n",
    "    if index >= len(question) - 1:\n",
    "        return False\n",
    "    letter = question[index]\n",
    "    if letter in letters:\n",
    "        if question[index-1] not in letters and question[index+1] not in letters:\n",
    "            return True\n",
    "    elif letter in (math_symbols + numbers):\n",
    "        return True\n",
    "    return False\n"
   ]
  },
  {
   "cell_type": "code",
   "execution_count": 175,
   "metadata": {
    "collapsed": true
   },
   "outputs": [],
   "source": [
    "# The function above returns some false positives. Filter these.\n",
    "def extract_equations(question):\n",
    "    question = \" \" + question + \" \"\n",
    "    equations = []\n",
    "    equations = extract_equations_recursive(question, 0, equations)\n",
    "    equations = reversed(equations)\n",
    "    equations = [equation.strip() for equation in equations]\n",
    "    equations2 = []\n",
    "    for equation in equations:\n",
    "        equations2 += equation.split(\"  \")\n",
    "    equations2 = [equation.strip() for equation in equations2]\n",
    "    return equations2\n",
    "\n",
    "# Further filtering..\n",
    "def extract_only_equations(question):\n",
    "    question = \" \" + question + \" \"\n",
    "    equations = extract_equations(question)\n",
    "    actual_equations = []\n",
    "    for equation in equations:\n",
    "        if len(equation) > 2:\n",
    "            for symbol in math_symbols:\n",
    "                if symbol in equation:\n",
    "                    actual_equations.append(equation)\n",
    "                    break\n",
    "    return actual_equations"
   ]
  },
  {
   "cell_type": "code",
   "execution_count": 176,
   "metadata": {
    "collapsed": false
   },
   "outputs": [
    {
     "name": "stdout",
     "output_type": "stream",
     "text": [
      "['x+y+3z = 600', 'x+y+z = 400', 'x+y']\n"
     ]
    }
   ],
   "source": [
    "# Demonstrate equation extraction\n",
    "print extract_equations(\" x+y+3z = 600  x+y+z = 400  In the system of equations above, what is the value of x+y?\")"
   ]
  },
  {
   "cell_type": "markdown",
   "metadata": {},
   "source": [
    "Now we're ready to tackle the \"ones\" questions. The following function takes a look at all of the extracted equations, decides which are constraints and which is the desired solution, and then automates the usage of all the previous functions to solve the equations and match the solution with the choices."
   ]
  },
  {
   "cell_type": "code",
   "execution_count": 181,
   "metadata": {
    "collapsed": false
   },
   "outputs": [],
   "source": [
    "# This function compiles all of the process of solving a question in the \"ones\" category.\n",
    "def solve_ones(question):\n",
    "\n",
    "    question_text = question[2]\n",
    "    choices = question[3]\n",
    "\n",
    "    print \"question: \", question_text\n",
    "    print \"choices: \", choices\n",
    "\n",
    "    junk = extract_equations(question_text)\n",
    "    equations =  extract_only_equations(question_text)\n",
    "\n",
    "    print \"junk: \", junk\n",
    "    print \"equations: \", equations\n",
    "\n",
    "    sympy_equations = []\n",
    "    for equation in equations:\n",
    "        sympy_equations += my_sympify(equation) \n",
    "\n",
    "    sympy_junk = []\n",
    "    for equation in junk:\n",
    "        sympy_junk += my_sympify(equation) \n",
    "\n",
    "    # We hypothesize that, if there's not a real equation at the end of the junk, the solution form is a junk variable. \n",
    "    #Else, it's a real equation.\n",
    "    last_real_equation = sympy_equations[-1:][0]\n",
    "    junk_index = sympy_junk.index(last_real_equation)\n",
    "\n",
    "    if len(sympy_junk) > junk_index + 1:\n",
    "        solution_form = sympy_junk[-1:][0]\n",
    "        sympy_equations = sympy_equations\n",
    "    else:\n",
    "        solution_form = sympy_equations[-1:][0]\n",
    "        sympy_equations = sympy_equations[:-1]\n",
    "\n",
    "\n",
    "\n",
    "    print \"Sympy equations: \", sympy_equations\n",
    "    print \"solution form: \", solution_form\n",
    "\n",
    "\n",
    "    solutions = numerical_solve_equations(sympy_equations, solution_form)\n",
    "    print \"Solutions: \", solutions\n",
    "    print \"Matched Solution: \", match_solution(solutions[1], choices)\n",
    "\n",
    "    try:\n",
    "        print \"Correct solution: \", question[4]\n",
    "    except:\n",
    "        pass"
   ]
  },
  {
   "cell_type": "markdown",
   "metadata": {},
   "source": [
    "Here's some samples of this code in operation. "
   ]
  },
  {
   "cell_type": "code",
   "execution_count": 184,
   "metadata": {
    "collapsed": false
   },
   "outputs": [
    {
     "name": "stdout",
     "output_type": "stream",
     "text": [
      "question:  If n and k are positive integers and 8^n = 2^k, what is the value of n/k?\n",
      "choices:  [0.25, 0.3333333333333333, 0.5, 3, 4]\n",
      "junk:  ['n', 'k', '8^n = 2^k', 'n/k']\n",
      "equations:  ['8^n = 2^k', 'n/k']\n",
      "Sympy equations:  [8**n == 2**k]\n",
      "solution form:  n/k\n",
      "Solutions:  ([(-24, -8), (-21, -7), (-18, -6), (-15, -5), (-12, -4), (-9, -3), (-6, -2), (-3, -1), (0, 0), (3, 1), (6, 2), (9, 3), (12, 4), (15, 5), (18, 6), (21, 7), (24, 8)], [1/3, 1/3, 1/3, 1/3, 1/3, 1/3, 1/3, 1/3, nan, 1/3, 1/3, 1/3, 1/3, 1/3, 1/3, 1/3, 1/3])\n",
      "Matched Solution:  collapsed solutions!\n",
      "1\n",
      "Correct solution:  1\n"
     ]
    }
   ],
   "source": [
    "solve_ones(questions[0])"
   ]
  },
  {
   "cell_type": "code",
   "execution_count": 183,
   "metadata": {
    "collapsed": false
   },
   "outputs": [
    {
     "name": "stdout",
     "output_type": "stream",
     "text": [
      "question:  If p and n are integers such that p > n > 0 and\n",
      "p^2 - n^2 = 12, which of the following can be the value of p - n?\n",
      "choices:  POSSIBLY MULTIPLE ANSWERS\n",
      "junk:  ['p', 'n', 'p > n > 0', 'p^2 - n^2 = 12', 'p - n']\n",
      "equations:  ['p > n > 0', 'p^2 - n^2 = 12', 'p - n']\n",
      "Sympy equations:  [p > n, n > 0, -n**2 + p**2 == 12]\n",
      "solution form:  -n + p\n",
      "Solutions:  ([(2, 4)], [2])\n",
      "Matched Solution:  None\n",
      "Correct solution:  [1, 2, 4]\n"
     ]
    }
   ],
   "source": [
    "solve_ones(questions[1])"
   ]
  },
  {
   "cell_type": "code",
   "execution_count": 186,
   "metadata": {
    "collapsed": false
   },
   "outputs": [
    {
     "name": "stdout",
     "output_type": "stream",
     "text": [
      " question:  If (x-2)^2 = 49, then x could be\n",
      "choices:  [-9, -7, 2, 5, 9]\n",
      "junk:  ['(x-2)^2 = 49', 'x']\n",
      "equations:  ['(x-2)^2 = 49']\n",
      "Sympy equations:  [(x - 2)**2 == 49]\n",
      "solution form:  x\n",
      "Solutions:  ([-5, 9], [-5, 9])\n",
      "Matched Solution:  4\n",
      "Correct solution:  4\n"
     ]
    }
   ],
   "source": [
    "solve_ones(questions[3])"
   ]
  },
  {
   "cell_type": "markdown",
   "metadata": {},
   "source": [
    "Next, we progress to the \"twos\" category. These are similar to the \"ones\", except that the equations are at least partially expressed in natural lanugage. They will be tackled by converting the natural language down into equation form and then using the same solvers from the previous section."
   ]
  },
  {
   "cell_type": "code",
   "execution_count": 241,
   "metadata": {
    "collapsed": false
   },
   "outputs": [],
   "source": [
    "# Twos\n",
    "questions = []\n",
    "\n",
    "# 2\n",
    "questions.append((2, 1, \"If 10 + x is 5 more than 10, what is the value of 2*x?\", [-5, 5, 10, 25, 50], 2))\n",
    "\n",
    "# 2\n",
    "questions.append((2, 2, \"\"\"The result when a number is divided by 2 is equal to the result when that same number is \n",
    "divided by 4. What is that number?\"\"\", [-4, -2, 0, 2, 4], 2))\n",
    "\n",
    "# 2\n",
    "questions.append((2, 13, \"\"\"If t is a number greater than 1, then t^2 is how much\n",
    "greater than t?\"\"\", [\"1\", \"2\", \"t\", \"t * (t-1)\", \"(t-1) * (t+1)\"], 3))\n",
    "\n",
    "# 2\n",
    "questions.append((6, 10, \"\"\"Three more than twice a number is equal to 4.\n",
    "What is the number?\"\"\", \"NO CHOICES\"))\n",
    "\n",
    "# 2\n",
    "questions.append((8, 3, \"\"\"If 3 times a number is equal to 3/2, what is the number?\"\"\", [1/3,1/2,2/3,2,3], 1))\n"
   ]
  },
  {
   "cell_type": "markdown",
   "metadata": {},
   "source": [
    "So, the two's are very similar in form to the one's - the difference being that some of the equations are written into the question text. Thus, we can't simply extract the equations and discard the text as we did for the one's. However, once the equations are extracted, solving the rest of the problem is exactly identical."
   ]
  },
  {
   "cell_type": "code",
   "execution_count": 223,
   "metadata": {
    "collapsed": false
   },
   "outputs": [],
   "source": [
    "# This function compiles all of the process of solving a question in the \"twos\" category. It's nearly identical to the \"ones\" solver.\n",
    "def solve_twos(question_text, choices, correct_solution):\n",
    "\n",
    "    #print \"question: \", question_text\n",
    "    print \"choices: \", choices\n",
    "\n",
    "\n",
    "    sympy_equations = []\n",
    "    for equation in question_text:\n",
    "        sympy_equations += my_sympify(equation) \n",
    "\n",
    "    equation = sympy_equations[0]\n",
    "    solution_form = sympy_equations[1]\n",
    "        \n",
    "    print \"equation: \", equation\n",
    "    print \"solution form: \", solution_form\n",
    "\n",
    "\n",
    "    solutions = numerical_solve_equations([equation], solution_form)\n",
    "    print solutions\n",
    "    print match_solution(solutions[1], choices)\n",
    "\n",
    "    try:\n",
    "        print \"correct solution: \", correct_solution\n",
    "    except:\n",
    "        pass"
   ]
  },
  {
   "cell_type": "markdown",
   "metadata": {},
   "source": [
    "This function handles converting the math-speak natural language into equations. It takes advantage of the fact that\n",
    "all questions in the \"twos\" categories have similar format (two clauses separated by punctionation, with the desired solution\n",
    "in the second clause)."
   ]
  },
  {
   "cell_type": "code",
   "execution_count": 128,
   "metadata": {
    "collapsed": false
   },
   "outputs": [],
   "source": [
    "# Another character set, of common math variables\n",
    "math_letters = [\"x\", \"y\", \"n\", \"t\"]\n",
    "\n",
    "# Converts natural language \"twos\" question to equation\n",
    "def math_speak(question):\n",
    "    \n",
    "    split = question.split(\".\")\n",
    "    \n",
    "    if(len(split) <= 1):\n",
    "        split = question.split(\",\")\n",
    "        if(len(split) <= 1):\n",
    "            print \"question cannot be split!\"\n",
    "            return \n",
    "    \n",
    "    result = []\n",
    "    for half in split:\n",
    "        \n",
    "        half = half.lower()\n",
    "        half = half.replace(\"?\", \"\")\n",
    "        \n",
    "        half = half.replace(\"one\", \"1\")\n",
    "        half = half.replace(\"two\", \"2\")\n",
    "        half = half.replace(\"three\", \"3\")\n",
    "        half = half.replace(\"four\", \"4\")\n",
    "        half = half.replace(\"five\", \"5\")\n",
    "        half = half.replace(\"six\", \"6\")\n",
    "        half = half.replace(\"seven\", \"7\")\n",
    "        half = half.replace(\"eight\", \"8\")\n",
    "        half = half.replace(\"nine\", \"9\")\n",
    "        \n",
    "        \n",
    "        half = half.replace(\"\\n\", \"\")\n",
    "        half = half.replace(\"what is\", \"\")\n",
    "        half = half.replace(\"is divided by\", \"/\")\n",
    "        half = half.replace(\"divided by\", \"/\")\n",
    "        half = half.replace(\"greater than\", \">\")\n",
    "        half = half.replace(\"more than\", \"+\")\n",
    "        half = half.replace(\"less than\", \"<\")\n",
    "        half = half.replace(\"is equal\", \"=\")\n",
    "        half = half.replace(\"equals\", \"=\")\n",
    "        half = half.replace(\"equal\", \"=\")\n",
    "        \n",
    "        half = half.replace(\"times\", \"*\")\n",
    "        half = half.replace(\"twice\", \"2*\")\n",
    "\n",
    "        half = half.replace(\"a number\", \"x\")\n",
    "        half = half.replace(\"number\", \"x\")\n",
    "    \n",
    "        half = half.replace(\"is\", \"=\")\n",
    "        \n",
    "        print half\n",
    "        \n",
    "        sub_result = \"\"\n",
    "        for word in half.split(\" \"):\n",
    "            #print word\n",
    "            clean = True\n",
    "            for char in word:\n",
    "                if char in math_symbols + numbers:\n",
    "                    clean = False\n",
    "            if len(word) == 1:\n",
    "                if word[0] in math_letters:\n",
    "                    clean = False\n",
    "            if not clean:\n",
    "                sub_result += word\n",
    "        result.append(sub_result)\n",
    "    return result"
   ]
  },
  {
   "cell_type": "code",
   "execution_count": 208,
   "metadata": {
    "collapsed": false
   },
   "outputs": [
    {
     "name": "stdout",
     "output_type": "stream",
     "text": [
      "the result when x / 2 = to the result when that same x / 4\n",
      "  that x\n"
     ]
    },
    {
     "data": {
      "text/plain": [
       "['x/2=x/4', 'x']"
      ]
     },
     "execution_count": 208,
     "metadata": {},
     "output_type": "execute_result"
    }
   ],
   "source": [
    "# An example of the execution of this function\n",
    "math_speak(\"\"\"The result when a number is divided by 2 is equal to the result when that same number is \n",
    "divided by 4. What is that number?\"\"\")"
   ]
  },
  {
   "cell_type": "markdown",
   "metadata": {},
   "source": [
    "The following are examples of some of the \"twos\" being processed."
   ]
  },
  {
   "cell_type": "code",
   "execution_count": 227,
   "metadata": {
    "collapsed": false
   },
   "outputs": [
    {
     "name": "stdout",
     "output_type": "stream",
     "text": [
      "Original Text:  If 10 + x is 5 more than 10, what is the value of 2*x?\n",
      "if 10 + x = 5 + 10\n",
      "  the value of 2*x\n",
      "Edited Text:  ['10+x=5+10', '2*x']\n",
      "choices:  [-5, 5, 10, 25, 50]\n",
      "equation:  x + 10 == 15\n",
      "solution form:  2*x\n",
      "([5.0], [10.0000000000000])\n",
      "2\n",
      "correct solution:  2\n"
     ]
    }
   ],
   "source": [
    "current = questions[0]\n",
    "text = current[2]\n",
    "choices = current[3]\n",
    "correct_solution = current[4]\n",
    "\n",
    "print \"Original Text: \", text\n",
    "text = math_speak(text)\n",
    "print \"Edited Text: \", text\n",
    "\n",
    "solve_twos(text, choices, correct_solution)"
   ]
  },
  {
   "cell_type": "code",
   "execution_count": 237,
   "metadata": {
    "collapsed": false
   },
   "outputs": [
    {
     "name": "stdout",
     "output_type": "stream",
     "text": [
      "Original Text:  The result when a number is divided by 2 is equal to the result when that same number is \n",
      "divided by 4. What is that number?\n",
      "the result when x / 2 = to the result when that same x / 4\n",
      "  that x\n",
      "Edited Text:  ['x/2=x/4', 'x']\n",
      "choices:  [-4, -2, 0, 2, 4]\n",
      "equation:  x/2 == x/4\n",
      "solution form:  x\n",
      "([0.0], [0.0])\n",
      "2\n",
      "correct solution:  2\n"
     ]
    }
   ],
   "source": [
    "current = questions[1]\n",
    "text = current[2]\n",
    "choices = current[3]\n",
    "correct_solution = current[4]\n",
    "\n",
    "print \"Original Text: \", text\n",
    "text = math_speak(text)\n",
    "print \"Edited Text: \", text\n",
    "\n",
    "solve_twos(text, choices, correct_solution)"
   ]
  },
  {
   "cell_type": "code",
   "execution_count": 251,
   "metadata": {
    "collapsed": false
   },
   "outputs": [
    {
     "name": "stdout",
     "output_type": "stream",
     "text": [
      "Original Text:  If t is a number greater than 1, then t^2 is how much\n",
      "greater than t?\n",
      "if t = x > 1\n",
      " then t^2 = how much> t\n",
      "Edited Text:  ['t=x>1', 't^2=much>t']\n"
     ]
    }
   ],
   "source": [
    "# This one doesn't work - the parser assumes that the keyword \"number\" refers to a variable not mentioned in the text,\n",
    "# whereas this one is labelled as t already. \n",
    "current = questions[2]\n",
    "text = current[2]\n",
    "choices = current[3]\n",
    "correct_solution = current[4]\n",
    "\n",
    "print \"Original Text: \", text\n",
    "text = math_speak(text)\n",
    "print \"Edited Text: \", text\n"
   ]
  },
  {
   "cell_type": "code",
   "execution_count": 247,
   "metadata": {
    "collapsed": false
   },
   "outputs": [
    {
     "name": "stdout",
     "output_type": "stream",
     "text": [
      "Original Text:  Three more than twice a number is equal to 4.\n",
      "What is the number?\n",
      "3 + 2* x = to 4\n",
      " the x\n",
      "Edited Text:  ['3+2*x=4', 'x']\n",
      "choices:  NO CHOICES\n",
      "equation:  2*x + 3 == 4\n",
      "solution form:  x\n",
      "([0.5], [0.500000000000000])\n",
      "None\n",
      "correct solution:  NO CHOICES\n"
     ]
    }
   ],
   "source": [
    "current = questions[3]\n",
    "text = current[2]\n",
    "choices = current[3]\n",
    "#correct_solution = current[4]\n",
    "\n",
    "print \"Original Text: \", text\n",
    "text = math_speak(text)\n",
    "print \"Edited Text: \", text\n",
    "\n",
    "solve_twos(text, choices, \"NO CHOICES\")"
   ]
  },
  {
   "cell_type": "code",
   "execution_count": 250,
   "metadata": {
    "collapsed": false
   },
   "outputs": [
    {
     "name": "stdout",
     "output_type": "stream",
     "text": [
      "Original Text:  If 3 times a number is equal to 3/2, what is the number?\n",
      "if 3 * x = to 3/2\n",
      "  the x\n",
      "Edited Text:  ['3*x=3/2', 'x']\n",
      "choices:  [0.3333333333333333, 0.5, 0.6666666666666666, 2, 3]\n",
      "equation:  3*x == 3/2\n",
      "solution form:  x\n",
      "([0.5], [0.500000000000000])\n",
      "1\n",
      "correct solution:  1\n"
     ]
    }
   ],
   "source": [
    "current = questions[4]\n",
    "text = current[2]\n",
    "choices = current[3]\n",
    "correct_solution = current[4]\n",
    "\n",
    "print \"Original Text: \", text\n",
    "text = math_speak(text)\n",
    "print \"Edited Text: \", text\n",
    "\n",
    "solve_twos(text, choices, correct_solution)"
   ]
  },
  {
   "cell_type": "code",
   "execution_count": null,
   "metadata": {
    "collapsed": true
   },
   "outputs": [],
   "source": []
  }
 ],
 "metadata": {
  "kernelspec": {
   "display_name": "Python 2",
   "language": "python",
   "name": "python2"
  },
  "language_info": {
   "codemirror_mode": {
    "name": "ipython",
    "version": 2
   },
   "file_extension": ".py",
   "mimetype": "text/x-python",
   "name": "python",
   "nbconvert_exporter": "python",
   "pygments_lexer": "ipython2",
   "version": "2.7.10"
  }
 },
 "nbformat": 4,
 "nbformat_minor": 0
}
