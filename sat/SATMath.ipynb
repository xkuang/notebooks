{
 "cells": [
  {
   "cell_type": "code",
   "execution_count": 10,
   "metadata": {
    "collapsed": false
   },
   "outputs": [],
   "source": [
    "from nltk.stem import WordNetLemmatizer\n",
    "wnl = WordNetLemmatizer()\n",
    "from nltk.corpus import wordnet as wn\n",
    "from difflib import get_close_matches as gcm\n",
    "from gensim.models.word2vec import Word2Vec\n",
    "from pyemd import emd\n",
    "import numpy as np\n",
    "import math\n",
    "from parse import *\n",
    "from sympy import *\n",
    "#init_printing(use_unicode=True)\n",
    "from funcy import *\n",
    "import urllib2"
   ]
  },
  {
   "cell_type": "code",
   "execution_count": null,
   "metadata": {
    "collapsed": false
   },
   "outputs": [],
   "source": []
  },
  {
   "cell_type": "code",
   "execution_count": null,
   "metadata": {
    "collapsed": true
   },
   "outputs": [],
   "source": []
  },
  {
   "cell_type": "code",
   "execution_count": null,
   "metadata": {
    "collapsed": true
   },
   "outputs": [],
   "source": [
    "### Word2Vec and Word Mover Distance Stuff"
   ]
  },
  {
   "cell_type": "code",
   "execution_count": 7,
   "metadata": {
    "collapsed": false
   },
   "outputs": [
    {
     "ename": "IOError",
     "evalue": "[Errno 2] No such file or directory: 'word2vec.bin'",
     "output_type": "error",
     "traceback": [
      "\u001b[1;31m---------------------------------------------------------------------------\u001b[0m",
      "\u001b[1;31mIOError\u001b[0m                                   Traceback (most recent call last)",
      "\u001b[1;32m<ipython-input-7-ce31f771975f>\u001b[0m in \u001b[0;36m<module>\u001b[1;34m()\u001b[0m\n\u001b[1;32m----> 1\u001b[1;33m \u001b[0mword2vec\u001b[0m \u001b[1;33m=\u001b[0m \u001b[0mWord2Vec\u001b[0m\u001b[1;33m.\u001b[0m\u001b[0mload_word2vec_format\u001b[0m\u001b[1;33m(\u001b[0m\u001b[1;34m'word2vec.bin'\u001b[0m\u001b[1;33m,\u001b[0m \u001b[0mbinary\u001b[0m\u001b[1;33m=\u001b[0m\u001b[0mTrue\u001b[0m\u001b[1;33m)\u001b[0m  \u001b[1;31m# C binary format\u001b[0m\u001b[1;33m\u001b[0m\u001b[0m\n\u001b[0m",
      "\u001b[1;32m/home/ubuntu/anaconda/lib/python2.7/site-packages/gensim/models/word2vec.pyc\u001b[0m in \u001b[0;36mload_word2vec_format\u001b[1;34m(cls, fname, fvocab, binary, norm_only, encoding)\u001b[0m\n\u001b[0;32m    996\u001b[0m \u001b[1;33m\u001b[0m\u001b[0m\n\u001b[0;32m    997\u001b[0m         \u001b[0mlogger\u001b[0m\u001b[1;33m.\u001b[0m\u001b[0minfo\u001b[0m\u001b[1;33m(\u001b[0m\u001b[1;34m\"loading projection weights from %s\"\u001b[0m\u001b[1;33m,\u001b[0m \u001b[0mfname\u001b[0m\u001b[1;33m)\u001b[0m\u001b[1;33m\u001b[0m\u001b[0m\n\u001b[1;32m--> 998\u001b[1;33m         \u001b[1;32mwith\u001b[0m \u001b[0mutils\u001b[0m\u001b[1;33m.\u001b[0m\u001b[0msmart_open\u001b[0m\u001b[1;33m(\u001b[0m\u001b[0mfname\u001b[0m\u001b[1;33m)\u001b[0m \u001b[1;32mas\u001b[0m \u001b[0mfin\u001b[0m\u001b[1;33m:\u001b[0m\u001b[1;33m\u001b[0m\u001b[0m\n\u001b[0m\u001b[0;32m    999\u001b[0m             \u001b[0mheader\u001b[0m \u001b[1;33m=\u001b[0m \u001b[0mutils\u001b[0m\u001b[1;33m.\u001b[0m\u001b[0mto_unicode\u001b[0m\u001b[1;33m(\u001b[0m\u001b[0mfin\u001b[0m\u001b[1;33m.\u001b[0m\u001b[0mreadline\u001b[0m\u001b[1;33m(\u001b[0m\u001b[1;33m)\u001b[0m\u001b[1;33m,\u001b[0m \u001b[0mencoding\u001b[0m\u001b[1;33m=\u001b[0m\u001b[0mencoding\u001b[0m\u001b[1;33m)\u001b[0m\u001b[1;33m\u001b[0m\u001b[0m\n\u001b[0;32m   1000\u001b[0m             \u001b[0mvocab_size\u001b[0m\u001b[1;33m,\u001b[0m \u001b[0mvector_size\u001b[0m \u001b[1;33m=\u001b[0m \u001b[0mmap\u001b[0m\u001b[1;33m(\u001b[0m\u001b[0mint\u001b[0m\u001b[1;33m,\u001b[0m \u001b[0mheader\u001b[0m\u001b[1;33m.\u001b[0m\u001b[0msplit\u001b[0m\u001b[1;33m(\u001b[0m\u001b[1;33m)\u001b[0m\u001b[1;33m)\u001b[0m  \u001b[1;31m# throws for invalid file format\u001b[0m\u001b[1;33m\u001b[0m\u001b[0m\n",
      "\u001b[1;32m/home/ubuntu/anaconda/lib/python2.7/site-packages/smart_open/smart_open_lib.pyc\u001b[0m in \u001b[0;36msmart_open\u001b[1;34m(uri, mode, **kw)\u001b[0m\n\u001b[0;32m     97\u001b[0m         \u001b[1;31m# local files -- both read & write supported\u001b[0m\u001b[1;33m\u001b[0m\u001b[1;33m\u001b[0m\u001b[0m\n\u001b[0;32m     98\u001b[0m         \u001b[1;31m# compression, if any, is determined by the filename extension (.gz, .bz2)\u001b[0m\u001b[1;33m\u001b[0m\u001b[1;33m\u001b[0m\u001b[0m\n\u001b[1;32m---> 99\u001b[1;33m         \u001b[1;32mreturn\u001b[0m \u001b[0mfile_smart_open\u001b[0m\u001b[1;33m(\u001b[0m\u001b[0mparsed_uri\u001b[0m\u001b[1;33m.\u001b[0m\u001b[0muri_path\u001b[0m\u001b[1;33m,\u001b[0m \u001b[0mmode\u001b[0m\u001b[1;33m)\u001b[0m\u001b[1;33m\u001b[0m\u001b[0m\n\u001b[0m\u001b[0;32m    100\u001b[0m \u001b[1;33m\u001b[0m\u001b[0m\n\u001b[0;32m    101\u001b[0m     \u001b[1;32mif\u001b[0m \u001b[0mmode\u001b[0m \u001b[1;32min\u001b[0m \u001b[1;33m(\u001b[0m\u001b[1;34m'r'\u001b[0m\u001b[1;33m,\u001b[0m \u001b[1;34m'rb'\u001b[0m\u001b[1;33m)\u001b[0m\u001b[1;33m:\u001b[0m\u001b[1;33m\u001b[0m\u001b[0m\n",
      "\u001b[1;32m/home/ubuntu/anaconda/lib/python2.7/site-packages/smart_open/smart_open_lib.pyc\u001b[0m in \u001b[0;36mfile_smart_open\u001b[1;34m(fname, mode)\u001b[0m\n\u001b[0;32m    377\u001b[0m         \u001b[1;32mreturn\u001b[0m \u001b[0mmake_closing\u001b[0m\u001b[1;33m(\u001b[0m\u001b[0mGzipFile\u001b[0m\u001b[1;33m)\u001b[0m\u001b[1;33m(\u001b[0m\u001b[0mfname\u001b[0m\u001b[1;33m,\u001b[0m \u001b[0mmode\u001b[0m\u001b[1;33m)\u001b[0m\u001b[1;33m\u001b[0m\u001b[0m\n\u001b[0;32m    378\u001b[0m \u001b[1;33m\u001b[0m\u001b[0m\n\u001b[1;32m--> 379\u001b[1;33m     \u001b[1;32mreturn\u001b[0m \u001b[0mopen\u001b[0m\u001b[1;33m(\u001b[0m\u001b[0mfname\u001b[0m\u001b[1;33m,\u001b[0m \u001b[0mmode\u001b[0m\u001b[1;33m)\u001b[0m\u001b[1;33m\u001b[0m\u001b[0m\n\u001b[0m\u001b[0;32m    380\u001b[0m \u001b[1;33m\u001b[0m\u001b[0m\n\u001b[0;32m    381\u001b[0m \u001b[1;33m\u001b[0m\u001b[0m\n",
      "\u001b[1;31mIOError\u001b[0m: [Errno 2] No such file or directory: 'word2vec.bin'"
     ]
    }
   ],
   "source": [
    "word2vec = Word2Vec.load_word2vec_format('word2vec.bin', binary=True)  # C binary format"
   ]
  },
  {
   "cell_type": "code",
   "execution_count": 73,
   "metadata": {
    "collapsed": true
   },
   "outputs": [],
   "source": [
    "def dist(w1,w2) :\n",
    "    return np.sqrt( np.sum((word2vec[w1]-word2vec[w2])**2) )\n",
    "\n",
    "# WMD Distance between two sentences (doesnt account for grammar/syntax)\n",
    "def wmd(words1,words2) :\n",
    "    allwords = list(set.union(set(words1),set(words2)))\n",
    "    \n",
    "    words=[]\n",
    "    for word in allwords :\n",
    "        if word in word2vec:\n",
    "            words.append(word)\n",
    "    \n",
    "    wmd_word_to_id={}\n",
    "    for i in range(len(words)) :\n",
    "        wmd_word_to_id[words[i]]=i\n",
    "    \n",
    "    tf1=np.zeros((len(words)))\n",
    "    for word in words1 :\n",
    "        if word in word2vec :\n",
    "            tf1[wmd_word_to_id[word]]+=1.0/len(words1)\n",
    "    tf2=np.zeros((len(words)))\n",
    "    for word in words2 :\n",
    "        if word in word2vec :\n",
    "            tf2[wmd_word_to_id[word]]+=1.0/len(words2)\n",
    "        \n",
    "    dist_mat=np.zeros((len(words),len(words)))\n",
    "    for i in range(len(words)) :\n",
    "        for j in range(len(words)) :\n",
    "            dist_mat[i][j]=dist(words[i],words[j])\n",
    "    \n",
    "    distance_matrix = np.array(dist_mat)\n",
    "    wmd_out = emd(tf1,tf2,dist_mat)\n",
    "    return wmd_out"
   ]
  },
  {
   "cell_type": "code",
   "execution_count": 74,
   "metadata": {
    "collapsed": true
   },
   "outputs": [],
   "source": [
    "def deps_dist(dep1,dep2) :\n",
    "    if dep1[0] != dep2[0] :\n",
    "        return 1.0\n",
    "    return np.log( 1+dist(dep1[1],dep2[1])+dist(dep1[2],dep2[2]) )\n",
    "\n",
    "# WMD distance between sentences (with grammar/syntax)\n",
    "def wmd_deps(deps1,deps2) :\n",
    "    alldeps = list(set.union(set(deps1),set(deps2)))\n",
    "    deps=[]\n",
    "    for dep in alldeps :\n",
    "        if dep[1] in word2vec and dep[2] in word2vec:\n",
    "            deps.append(dep)\n",
    "    \n",
    "    wmd_dep_to_id={}\n",
    "    for i in range(len(deps)) :\n",
    "        wmd_dep_to_id[deps[i]]=i\n",
    "    \n",
    "    tf1=np.zeros((len(deps)))\n",
    "    for dep in deps1 :\n",
    "        if dep[1] in word2vec and dep[2] in word2vec:\n",
    "            tf1[wmd_dep_to_id[dep]]+=1.0/len(deps1)\n",
    "    tf2=np.zeros((len(deps)))\n",
    "    for dep in deps2 :\n",
    "        if dep[1] in word2vec and dep[2] in word2vec:\n",
    "            tf2[wmd_dep_to_id[dep]]+=1.0/len(deps2)\n",
    "        \n",
    "    dist_mat=np.zeros((len(deps),len(deps)))\n",
    "    for i in range(len(deps)) :\n",
    "        for j in range(len(deps)) :\n",
    "            dist_mat[i][j]=deps_dist(deps[i],deps[j])\n",
    "    \n",
    "    distance_matrix = np.array(dist_mat)\n",
    "    wmd_out = emd(tf1,tf2,dist_mat)\n",
    "    return wmd_out"
   ]
  },
  {
   "cell_type": "code",
   "execution_count": null,
   "metadata": {
    "collapsed": true
   },
   "outputs": [],
   "source": []
  },
  {
   "cell_type": "code",
   "execution_count": null,
   "metadata": {
    "collapsed": true
   },
   "outputs": [],
   "source": [
    "### Stanford Parser"
   ]
  },
  {
   "cell_type": "code",
   "execution_count": 12,
   "metadata": {
    "collapsed": true
   },
   "outputs": [],
   "source": [
    "def process_word(word) :\n",
    "    return ''.join(ch for ch in word.lower() if ch.isalpha() or ch=='-')"
   ]
  },
  {
   "cell_type": "code",
   "execution_count": 13,
   "metadata": {
    "collapsed": true
   },
   "outputs": [],
   "source": [
    "def get_stanford_parse(sentence) :\n",
    "    #if sentence in parsed_sents :\n",
    "    #    return parsed_sents[sentence]\n",
    "    response = urllib2.urlopen(\"http://localhost:3000?sentence=\"+sentence.replace(' ','+')).read().replace('\\n',' ')\n",
    "    components = parse('[{}]  [{}] {}', response)\n",
    "    parts = components[0].split(', ')\n",
    "    pos={}\n",
    "    for i in range(len(parts)) :\n",
    "        word_and_pos = parse('{}/{}',parts[i].lower())\n",
    "        pos[ process_word(word_and_pos[0])+'-'+str(i+1) ] = word_and_pos[1]\n",
    "    deps = components[1]\n",
    "    deps = deps.replace('),',')),').split('), ')\n",
    "    deps = [parse('{}({}, {})',dep).fixed for dep in deps]\n",
    "    deps = [(dep[0],dep[1][:dep[1].rfind('-')],dep[1][dep[1].rfind('-')+1:],dep[2][:dep[2].rfind('-')],dep[2][dep[2].rfind('-')+1:]) for dep in deps]\n",
    "    labeled_deps = [(dep[0],process_word(dep[1]),dep[2],process_word(dep[3]),dep[4]) for dep in deps]\n",
    "    deps = [(dep[0],process_word(dep[1]),process_word(dep[3])) for dep in deps]\n",
    "    tree = components[2][:components[2].rfind('-')]\n",
    "    tree = ' '.join(tree.split())\n",
    "    p = components[2][components[2].rfind('-'):]\n",
    "    #tree = response[end1+1:end2]\n",
    "    #tree = ' '.join(tree.split())\n",
    "    #p = float(response[end2:])\n",
    "    #parsed_sents[sentence]=(deps,tree,p)\n",
    "    return (pos,deps,labeled_deps,tree,p)"
   ]
  },
  {
   "cell_type": "code",
   "execution_count": 15,
   "metadata": {
    "collapsed": false
   },
   "outputs": [
    {
     "data": {
      "text/plain": [
       "({'dog-2': 'nn',\n",
       "  'ran-3': 'vbd',\n",
       "  'the-1': 'dt',\n",
       "  'the-5': 'dt',\n",
       "  'to-4': 'to',\n",
       "  'tree-6': 'nn'},\n",
       " [('det', 'dog', 'the'),\n",
       "  ('nsubj', 'ran', 'dog'),\n",
       "  ('root', 'root', 'ran'),\n",
       "  ('det', 'tree', 'the'),\n",
       "  ('prep_to', 'ran', 'tree')],\n",
       " [('det', 'dog', '2', 'the', '1'),\n",
       "  ('nsubj', 'ran', '3', 'dog', '2'),\n",
       "  ('root', 'root', '0', 'ran', '3'),\n",
       "  ('det', 'tree', '6', 'the', '5'),\n",
       "  ('prep_to', 'ran', '3', 'tree', '6')],\n",
       " '(ROOT (S (NP (DT the) (NN dog)) (VP (VBD ran) (PP (TO to) (NP (DT the) (NN tree))))))',\n",
       " '-43.156639099121094 ')"
      ]
     },
     "execution_count": 15,
     "metadata": {},
     "output_type": "execute_result"
    }
   ],
   "source": [
    "get_stanford_parse(\"the dog ran to the tree\")"
   ]
  },
  {
   "cell_type": "code",
   "execution_count": null,
   "metadata": {
    "collapsed": true
   },
   "outputs": [],
   "source": [
    "with open('words.txt','r') as f :\n",
    "    english_words = set(f.read().split('\\n'))"
   ]
  },
  {
   "cell_type": "code",
   "execution_count": null,
   "metadata": {
    "collapsed": true
   },
   "outputs": [],
   "source": [
    "def remove_punc(word) :\n",
    "    return word.replace(',','').replace('.','').replace(';','').replace(';','')"
   ]
  },
  {
   "cell_type": "code",
   "execution_count": null,
   "metadata": {
    "collapsed": true
   },
   "outputs": [],
   "source": []
  },
  {
   "cell_type": "code",
   "execution_count": null,
   "metadata": {
    "collapsed": true
   },
   "outputs": [],
   "source": [
    "### Extract Equations and Format Questions"
   ]
  },
  {
   "cell_type": "code",
   "execution_count": null,
   "metadata": {
    "collapsed": true
   },
   "outputs": [],
   "source": [
    "def only_alphabet(word) :\n",
    "    return word.replace(',','').replace('.','').replace('?','').replace('\\n','').replace('(','').replace(')','')"
   ]
  },
  {
   "cell_type": "code",
   "execution_count": null,
   "metadata": {
    "collapsed": true
   },
   "outputs": [],
   "source": [
    "def extract_expressions(question) :\n",
    "    expressions = []\n",
    "    #print question\n",
    "    question = question.replace(',',' ,').replace('?',' ?')\n",
    "    eqs=[]\n",
    "    cur_word=''\n",
    "    cur_eq=''\n",
    "    start_eq=0\n",
    "    for i in range(len(question)) :\n",
    "        c=question[i]\n",
    "        #if c in ['\\n',',','?'] :\n",
    "        #    cur_word=''\n",
    "        #    cur_eq=''\n",
    "        if c.isalpha() or c in ['?',',','\\n','.'] :\n",
    "            cur_word+=c\n",
    "            cur_eq+=c\n",
    "        elif c in [' '] :\n",
    "            if cur_word!='' and (only_alphabet(cur_word.lower()) in english_words or cur_word in ['\\n','?',',']) :\n",
    "                #print cur_eq, cur_word\n",
    "                if cur_eq[:-len(cur_word)]!='' :\n",
    "                    expressions.append( (start_eq,i-len(cur_word)) )\n",
    "                    eqs.append( cur_eq[:-len(cur_word)] ) # equation goes up to start of current word\n",
    "                cur_eq=''\n",
    "                start_eq=i+1\n",
    "            cur_word=''\n",
    "        else : # non alpha or spaces\n",
    "            cur_word=''\n",
    "            cur_eq+=c\n",
    "            \n",
    "    if cur_word!='' and (only_alphabet(cur_word.lower()) in english_words or cur_word in ['\\n','?',',']) :\n",
    "        if cur_eq[:-len(cur_word)]!='' :\n",
    "            expressions.append( (start_eq,i-len(cur_word)) )\n",
    "            eqs.append( cur_eq[:-len(cur_word)] ) # equation goes up to start of current word\n",
    "    else :\n",
    "        expressions.append( (start_eq,len(question)) )\n",
    "        eqs.append(cur_eq)\n",
    "    \n",
    "    # replace expressions with pointer\n",
    "    #print question\n",
    "    #expressions = list(set(expressions))\n",
    "    #for i in range(len(expressions)) :\n",
    "    #    question = question.replace(expressions[i],'&'+str(i)+'&')\n",
    "    #print question\n",
    "    #print question\n",
    "    #print [ question[i[0]:i[1]] for i in expressions ]\n",
    "    #for i in expressions :\n",
    "    #    print question[i[0]:i[1]]\n",
    "    nquestion=question\n",
    "    expressions.sort(reverse=True)\n",
    "    equations={}\n",
    "    for i in range(len(expressions)) :\n",
    "        (s,e) = expressions[i]\n",
    "        equations[i]=question[s:e]\n",
    "        nquestion=nquestion[:s]+'&'+str(i)+'& '+nquestion[e:]\n",
    "    return (nquestion, equations)\n",
    "    #questions2.append( nquestion )\n",
    "    #all_equations.append( equations )"
   ]
  },
  {
   "cell_type": "code",
   "execution_count": null,
   "metadata": {
    "collapsed": true
   },
   "outputs": [],
   "source": [
    "# replace equations with 'this' or 'that' so parses correctly\n",
    "def format_question_for_parser(question, equations) :\n",
    "    nquestion=question+''\n",
    "    for i in range(len(equations)) :\n",
    "        eq = equations[i]\n",
    "        if eq.endswith('=') or '=' not in eq :\n",
    "            nquestion = nquestion.replace('&'+str(i)+'&','that')\n",
    "        else :\n",
    "            nquestion = nquestion.replace('&'+str(i)+'&','this')\n",
    "    return nquestion"
   ]
  },
  {
   "cell_type": "code",
   "execution_count": null,
   "metadata": {
    "collapsed": true
   },
   "outputs": [],
   "source": []
  },
  {
   "cell_type": "code",
   "execution_count": null,
   "metadata": {
    "collapsed": true
   },
   "outputs": [],
   "source": []
  },
  {
   "cell_type": "code",
   "execution_count": null,
   "metadata": {
    "collapsed": true
   },
   "outputs": [],
   "source": [
    "### Sympy System of Equations Solving"
   ]
  },
  {
   "cell_type": "code",
   "execution_count": null,
   "metadata": {
    "collapsed": true
   },
   "outputs": [],
   "source": [
    "def is_number(s):\n",
    "    try:\n",
    "        float(s)\n",
    "        return True\n",
    "    except ValueError:\n",
    "        return False\n",
    "\n",
    "# see if equation pattern matches our question\n",
    "def test_pattern(pattern, phrase) :\n",
    "    ans = parse(pattern, phrase)\n",
    "    if ans is None :\n",
    "        return False\n",
    "    parts=[]\n",
    "    for part in ans :\n",
    "        if is_number(part)==False :\n",
    "            return False\n",
    "        parts.append(int(part))\n",
    "    return parts"
   ]
  },
  {
   "cell_type": "code",
   "execution_count": null,
   "metadata": {
    "collapsed": true
   },
   "outputs": [],
   "source": [
    "def single_spaces(s) :\n",
    "    return ' '.join(s.split())"
   ]
  },
  {
   "cell_type": "code",
   "execution_count": null,
   "metadata": {
    "collapsed": true
   },
   "outputs": [],
   "source": [
    "# fix format of equation to something sympy understands\n",
    "def make_eq_nice(eq) :\n",
    "    eq=eq.replace(' ','')\n",
    "    if eq.endswith('=') :\n",
    "        eq=eq[:-1]\n",
    "    eq = eq.replace('\\xc2\\xb2','^2').replace('\\xe2\\x88\\x9a','sqrt')\n",
    "    add_mult=[ (i+1) for i in range(len(eq)-1) if (eq[i].isalpha() and eq[i+1].isalpha()) or\n",
    "          (eq[i].isdigit() and eq[i+1].isalpha()) or\n",
    "          (eq[i].isalpha() and eq[i+1].isdigit()) or\n",
    "          (eq[i]==')' and eq[i+1] not in ['+','-','/','*','^']) or\n",
    "          (eq[i+1]=='(' and eq[i] not in ['+','-','/','*','^'])  ]\n",
    "    add_mult.sort(reverse=True)\n",
    "    for i in add_mult :\n",
    "        eq=eq[:i]+'*'+eq[i:]\n",
    "    return eq\n",
    "    \n",
    "# solve equation with no variables\n",
    "def solve_no_vars(eq) :\n",
    "    return sympify(eq)\n",
    "\n",
    "# convert string equation form to sympy form\n",
    "def str_eq_to_sym_eq(str_eq) :\n",
    "    print str_eq\n",
    "    sides = str_eq.split('=')\n",
    "    return Eq(sympify(sides[0]),sympify(sides[1]))\n",
    "\n",
    "# systems of equations (only warks for solving single variable)\n",
    "def solve_soe(eqs,var_to_solve) :\n",
    "    vars_list = set([c for eq in eqs for c in eq if c.isalpha()])\n",
    "    #print vars_list\n",
    "    x = S('x'.split())\n",
    "    equations = [str_eq_to_sym_eq(eq) for eq in eqs]\n",
    "    #print solve(equations)\n",
    "    #[{vf: -35, t: -4, a: 10, vi: 5, d: 60}, {vf: 35, t: 3, a: 10, vi: 5, d: 60}]\n",
    "    #print equations,sympify(var_to_solve)\n",
    "    print solve(equations)\n",
    "    print solve(equations, [sympify(var_to_solve)])\n",
    "    #return solve(equations)[0][sympify(var_to_solve)]\n",
    "    #[(10, -4, 5, -35, 60), (10, 3, 5, 35, 60)]"
   ]
  },
  {
   "cell_type": "code",
   "execution_count": null,
   "metadata": {
    "collapsed": true
   },
   "outputs": [],
   "source": [
    "def test_formats(eqs,q)\n",
    "    q = single_spaces(q.lower().replace(',','').replace('?','')).strip()\n",
    "\n",
    "    eq_nums = test_pattern('&{}&',q)\n",
    "    if eq_nums != False :\n",
    "        print solve_no_vars(make_eq_nice(eqs[0])) \n",
    "    \n",
    "    eq_nums = test_pattern('if &{}& then &{}&',q)\n",
    "    if eq_nums != False :\n",
    "        print solve_soe([ make_eq_nice(eqs[eq_nums[0]]) ], make_eq_nice(eqs[eq_nums[1]]) )\n",
    "    \n",
    "    eq_nums = test_pattern('if &{}& what is the value of &{}&',q)\n",
    "    if eq_nums != False :\n",
    "        print solve_soe([ make_eq_nice(eqs[eq_nums[0]]) ], make_eq_nice(eqs[eq_nums[1]]) )\n",
    "    \n",
    "    eq_nums = test_pattern('&{}& and &{}& . find the value of &{}&',q)\n",
    "    if eq_nums != False :\n",
    "        print solve_soe([ make_eq_nice(eqs[eq_nums[0]]), make_eq_nice(eqs[eq_nums[1]]) ], make_eq_nice(eqs[eq_nums[2]]) )\n",
    "    \n",
    "    eq_nums = test_pattern('if &{}& and &{}& what is the value of &{}&',q)\n",
    "    if eq_nums != False :\n",
    "        print solve_soe([ make_eq_nice(eqs[eq_nums[0]]), make_eq_nice(eqs[eq_nums[1]]) ], make_eq_nice(eqs[eq_nums[2]]) )\n",
    "    \n",
    "    eq_nums = test_pattern('if &{}& and &{}& then &{}&',q)\n",
    "    if eq_nums != False :\n",
    "        print solve_soe([ make_eq_nice(eqs[eq_nums[0]]), make_eq_nice(eqs[eq_nums[1]]) ], make_eq_nice(eqs[eq_nums[2]]) )\n",
    "    \n",
    "    eq_nums = test_pattern('if &{}& then &{}& could be',q)\n",
    "    if eq_nums != False :\n",
    "        print solve_soe([ make_eq_nice(eqs[eq_nums[0]]) ], make_eq_nice(eqs[eq_nums[1]]) )\n",
    "    \n",
    "    eq_nums = test_pattern('&{}& &{}& In the system of equations above what is the value of &{}&',q)\n",
    "    if eq_nums != False :\n",
    "        print solve_soe([ make_eq_nice(eqs[eq_nums[0]]), make_eq_nice(eqs[eq_nums[1]]) ], make_eq_nice(eqs[eq_nums[2]]) )\n",
    "        \n",
    "\n"
   ]
  },
  {
   "cell_type": "code",
   "execution_count": null,
   "metadata": {
    "collapsed": true
   },
   "outputs": [],
   "source": []
  },
  {
   "cell_type": "code",
   "execution_count": 75,
   "metadata": {
    "collapsed": false
   },
   "outputs": [
    {
     "name": "stdout",
     "output_type": "stream",
     "text": [
      "If &2& and &1& , what is the value of &0&  ?\n",
      "{0: '1/2j', 1: 'k = 23 ', 2: 'j/k = 32 '}\n",
      "If this and this , what is the value of that  ?\n",
      "[('prep_if', 'is', 'this'), ('conj_and', 'this', 'this'), ('prep_if', 'is', 'this'), ('attr', 'is', 'what'), ('root', 'root', 'is'), ('det', 'value', 'the'), ('nsubj', 'is', 'value'), ('prep_of', 'value', 'that')]\n",
      "0.725396848422\n"
     ]
    }
   ],
   "source": [
    "### example of seeing question similarity\n",
    "(q,eqs) = extract_expressions('If j/k = 32 and k = 23, what is the value of 1/2j?')\n",
    "print q\n",
    "print eqs\n",
    "\n",
    "formatted_q = format_question_for_parser(q,eqs)\n",
    "print formatted_q\n",
    "\n",
    "(_,deps1,_,_,_) = get_stanford_parse(formatted_q)\n",
    "print deps1\n",
    "\n",
    "(q,eqs) = extract_expressions('If j/k = 32, what is 1/2j?')\n",
    "formatted_q = format_question_for_parser(q,eqs)\n",
    "(_,deps2,_,_,_) = get_stanford_parse(formatted_q)\n",
    "\n",
    "sentence_distance = wmd_deps(deps1,deps2)\n",
    "print sentence_distance"
   ]
  },
  {
   "cell_type": "code",
   "execution_count": null,
   "metadata": {
    "collapsed": true
   },
   "outputs": [],
   "source": []
  },
  {
   "cell_type": "code",
   "execution_count": null,
   "metadata": {
    "collapsed": true
   },
   "outputs": [],
   "source": [
    "# this question set should get you pretty far along-- possibly easier if you obtain more questions though\n",
    "questions = [ 'If x² - y² = 55, and x - y = 11, then y =',\n",
    "             #'If y ¤ x = y²x for all positive integers, then (3 ¤ 4) ¤ 2 =',\n",
    "             #'If x and y are integers, and 3x + 2y = 13, which of the following could be the value of y ?',\n",
    "             '(3 * 104) + (2 * 10²) + (4 * 10) =',\n",
    "             #'Which of the following integers is in the solution set of │1 – 3x│ < 5 ?',\n",
    "             '3x + y = 19 , and x + 3y = 1. Find the value of 2x + 2y',\n",
    "             #'Which of the following could be a solution of the equation │x│ = │4x - 3│',\n",
    "             #'(a^2 - b^2) / (a+b) . If a and b are both positive, which of the following is a simplification of the expression above?',\n",
    "             #'The number 0.127 is how much greater than 1/8 ?',\n",
    "             'If V = 12R / (r + R) , then R =',\n",
    "             #'If f(3) = 15 and f(5) = 45, which of the following could be f(x)?',\n",
    "             ' If a² = 12, then a^4 =',\n",
    "             #'If f(x) = x² – 3, where x is an integer, which of the following could be a value of f(x)?',\n",
    "             '(6^5 - 6^4 ) / 5',\n",
    "             #'√5 percent of 5√5 =',\n",
    "             #'If f(x) = (x + 2) / (x-2) for all integers except x=2, which of the following has the greatest value?',\n",
    "             '2^30 + 2^30 + 2^30 + 2^30 =',\n",
    "             '( √2 - √3 )² =',\n",
    "             #'If f(x) = │(x² – 50)│, what is the value of f(-5) ?',\n",
    "             #'If 3 times a number is equal to 3 , what is the number?',\n",
    "             'If (2m)k = 6, then mk =',\n",
    "             'x + y + 3z = 600 \\n x+y+ z=400 \\n In the system of equations above, what is the value of x + y ?',\n",
    "             #'If the function f is defined by f(x)=3x+4, then 2f(x)+4 is',\n",
    "             #'If n and k are positive integers and 8^n=2^k, what is the value of n/k',\n",
    "             #'If 10+x is 5 more than 10, what is the value of 2x?',\n",
    "             #'The result when a number is divided by 2 is equal to the result when that same number is divided by 4. What is that number?',\n",
    "             #'If x and y are positive integers, which of the following is equivalent to 2x^3y ￼- 2x^y ?',\n",
    "             'If ( x + 2 ) ^ 2 = 49, then x could be',\n",
    "             #'The average (arithmetic mean) of t and y is 15, and the average of w and x is 15. What is the average of t, w, x,and y?',\n",
    "             #'Each of the following is equivalent to a/b(bc + k ) EXCEPT',\n",
    "             #'Three more than twice a number is equal to 4. What is the number?',\n",
    "             'If j/k = 32 and k = 23, what is the value of 1/2j?'\n",
    "]"
   ]
  },
  {
   "cell_type": "code",
   "execution_count": null,
   "metadata": {
    "collapsed": true
   },
   "outputs": [],
   "source": []
  },
  {
   "cell_type": "code",
   "execution_count": null,
   "metadata": {
    "collapsed": true
   },
   "outputs": [],
   "source": [
    "### EVERYTHING BELOW IS GARBAGE ###"
   ]
  },
  {
   "cell_type": "code",
   "execution_count": null,
   "metadata": {
    "collapsed": true
   },
   "outputs": [],
   "source": [
    "### EVERYTHING BELOW IS GARBAGE ###"
   ]
  },
  {
   "cell_type": "code",
   "execution_count": null,
   "metadata": {
    "collapsed": true
   },
   "outputs": [],
   "source": [
    "### EVERYTHING BELOW IS GARBAGE ###"
   ]
  },
  {
   "cell_type": "code",
   "execution_count": null,
   "metadata": {
    "collapsed": true
   },
   "outputs": [],
   "source": []
  },
  {
   "cell_type": "code",
   "execution_count": null,
   "metadata": {
    "collapsed": true
   },
   "outputs": [],
   "source": []
  },
  {
   "cell_type": "code",
   "execution_count": null,
   "metadata": {
    "collapsed": true
   },
   "outputs": [],
   "source": []
  },
  {
   "cell_type": "code",
   "execution_count": null,
   "metadata": {
    "collapsed": true
   },
   "outputs": [],
   "source": []
  },
  {
   "cell_type": "code",
   "execution_count": 37,
   "metadata": {
    "collapsed": false
   },
   "outputs": [
    {
     "data": {
      "text/plain": [
       "1.294753"
      ]
     },
     "execution_count": 37,
     "metadata": {},
     "output_type": "execute_result"
    }
   ],
   "source": [
    "dist('root','can')"
   ]
  },
  {
   "cell_type": "code",
   "execution_count": 47,
   "metadata": {
    "collapsed": false
   },
   "outputs": [
    {
     "name": "stdout",
     "output_type": "stream",
     "text": [
      "[('dep', 'then', 'that'), ('root', 'root', 'then'), ('prep_if', 'value', 'this'), ('prep_of', 'value', 'that'), ('root', 'root', 'value'), ('det', 'value', 'the'), ('nsubj', 'value', 'what'), ('conj_and', 'this', 'this'), ('prep_if', 'then', 'this'), ('cop', 'value', 'is'), ('advmod', 'what', 'then')]\n",
      "('dep', 'then', 'that') ('dep', 'then', 'that')\n",
      "('root', 'root', 'then') ('root', 'root', 'then')\n",
      "('root', 'root', 'then') ('root', 'root', 'value')\n",
      "('prep_if', 'value', 'this') ('prep_if', 'value', 'this')\n",
      "('prep_if', 'value', 'this') ('prep_if', 'then', 'this')\n",
      "('prep_of', 'value', 'that') ('prep_of', 'value', 'that')\n",
      "('root', 'root', 'value') ('root', 'root', 'then')\n",
      "('root', 'root', 'value') ('root', 'root', 'value')\n",
      "('det', 'value', 'the') ('det', 'value', 'the')\n",
      "('nsubj', 'value', 'what') ('nsubj', 'value', 'what')\n",
      "('conj_and', 'this', 'this') ('conj_and', 'this', 'this')\n",
      "('prep_if', 'then', 'this') ('prep_if', 'value', 'this')\n",
      "('prep_if', 'then', 'this') ('prep_if', 'then', 'this')\n",
      "('cop', 'value', 'is') ('cop', 'value', 'is')\n",
      "('advmod', 'what', 'then') ('advmod', 'what', 'then')\n",
      "[[ 0.          1.          1.          1.          1.          1.          1.\n",
      "   1.          1.          1.          1.        ]\n",
      " [ 1.          0.          1.          1.          0.85830899  1.          1.\n",
      "   1.          1.          1.          1.        ]\n",
      " [ 1.          1.          0.          1.          1.          1.          1.\n",
      "   1.          0.85830899  1.          1.        ]\n",
      " [ 1.          1.          1.          0.          1.          1.          1.\n",
      "   1.          1.          1.          1.        ]\n",
      " [ 1.          0.85830899  1.          1.          0.          1.          1.\n",
      "   1.          1.          1.          1.        ]\n",
      " [ 1.          1.          1.          1.          1.          0.          1.\n",
      "   1.          1.          1.          1.        ]\n",
      " [ 1.          1.          1.          1.          1.          1.          0.\n",
      "   1.          1.          1.          1.        ]\n",
      " [ 1.          1.          1.          1.          1.          1.          1.\n",
      "   0.          1.          1.          1.        ]\n",
      " [ 1.          1.          0.85830899  1.          1.          1.          1.\n",
      "   1.          0.          1.          1.        ]\n",
      " [ 1.          1.          1.          1.          1.          1.          1.\n",
      "   1.          1.          0.          1.        ]\n",
      " [ 1.          1.          1.          1.          1.          1.          1.\n",
      "   1.          1.          1.          0.        ]]\n"
     ]
    },
    {
     "data": {
      "text/plain": [
       "0.8416577138970004"
      ]
     },
     "execution_count": 47,
     "metadata": {},
     "output_type": "execute_result"
    }
   ],
   "source": [
    "s1 = 'If this, and this, then that.'\n",
    "s2 = 'If this and this, then what is the value of that.'\n",
    "(_,deps1,_,_,_) = get_stanford_parse(s1)\n",
    "(_,deps2,_,_,_) = get_stanford_parse(s2)\n",
    "wmd_deps(deps1,deps2)"
   ]
  },
  {
   "cell_type": "code",
   "execution_count": null,
   "metadata": {
    "collapsed": true
   },
   "outputs": [],
   "source": []
  },
  {
   "cell_type": "code",
   "execution_count": 1,
   "metadata": {
    "collapsed": true
   },
   "outputs": [],
   "source": [
    "def sentence_sim(s1deps,s2deps) :\n",
    "    s1_tokens=s1.split()\n",
    "    s2_tokens=s2.split()\n",
    "    s1_bigrams = zip(s1_tokens, s1_tokens[1:])\n",
    "    s2_bigrams = zip(s2_tokens, s2_tokens[1:])\n",
    "    print s1_bigrams, s2_bigrams"
   ]
  },
  {
   "cell_type": "code",
   "execution_count": 2,
   "metadata": {
    "collapsed": false
   },
   "outputs": [
    {
     "name": "stdout",
     "output_type": "stream",
     "text": [
      "[('there', 'are'), ('are', 'many'), ('many', 'dogs')] [('here', 'are'), ('are', 'the'), ('the', 'nice'), ('nice', 'kids')]\n"
     ]
    }
   ],
   "source": [
    "sentence_sim([('number', 'times', ''), ('num', 'number', 'times'), ('det', 'number', 'a'), ('nsubj', 'equal', 'number'), ('cop', 'equal', 'is'), ('root', 'root', 'equal'), ('prep_to', 'equal', '')], [('number', 'times', ''), ('num', 'number', 'times'), ('det', 'number', 'a'), ('nsubj', 'equal', 'number'), ('cop', 'equal', 'is'), ('root', 'root', 'equal'), ('prep_to', 'equal', '')])"
   ]
  },
  {
   "cell_type": "code",
   "execution_count": null,
   "metadata": {
    "collapsed": true
   },
   "outputs": [],
   "source": []
  },
  {
   "cell_type": "code",
   "execution_count": null,
   "metadata": {
    "collapsed": true
   },
   "outputs": [],
   "source": [
    "What is the result when 436921 is rounded to the nearest thousand and then expressed in scientific notation?\n",
    "\n",
    "436921 rounded to nearest thousand\n",
    "result expressed in scientific notation"
   ]
  },
  {
   "cell_type": "code",
   "execution_count": null,
   "metadata": {
    "collapsed": true
   },
   "outputs": [],
   "source": [
    "The positive integer n is not divisible by 7. The remainder when n^2 \n",
    "is divided by 7 and the remainder when n is divided by 7 are each equal to k. What is k. \n",
    "\n",
    "n%7 = k\n",
    "(n^2)%7 = k"
   ]
  },
  {
   "cell_type": "code",
   "execution_count": null,
   "metadata": {
    "collapsed": true
   },
   "outputs": [],
   "source": [
    "The set S consists of all multiples of 6. Which of the following sets are contained within S?\n",
    "I.   The set of all multiples of 3\n",
    "II.  The set of all multiples of 9\n",
    "III. The set of all multiples of 12"
   ]
  },
  {
   "cell_type": "code",
   "execution_count": null,
   "metadata": {
    "collapsed": true
   },
   "outputs": [],
   "source": [
    "At the beginning of 2006, both Alan and Dave were taller than Boris, \n",
    "and Boris was taller than Charles. During the year, Alan grew 2 inches, \n",
    "Boris and Dave each grew 4 inches, and Charles grew 3 inches. \n",
    "Of the following, which could NOT have been true at the beginning of 2007?\n",
    "\n",
    "Alan > Boris\n",
    "Dave > Boris\n",
    "Boris > Charles\n",
    "Alan ++, Boris ++, Dave ++, Charles ++\n"
   ]
  },
  {
   "cell_type": "code",
   "execution_count": null,
   "metadata": {
    "collapsed": true
   },
   "outputs": [],
   "source": [
    "If n is an integer and n^2 is an integer, which must always be positive?"
   ]
  },
  {
   "cell_type": "code",
   "execution_count": null,
   "metadata": {
    "collapsed": true
   },
   "outputs": [],
   "source": []
  },
  {
   "cell_type": "code",
   "execution_count": null,
   "metadata": {
    "collapsed": true
   },
   "outputs": [],
   "source": []
  },
  {
   "cell_type": "code",
   "execution_count": null,
   "metadata": {
    "collapsed": true
   },
   "outputs": [],
   "source": []
  },
  {
   "cell_type": "code",
   "execution_count": null,
   "metadata": {
    "collapsed": true
   },
   "outputs": [],
   "source": []
  },
  {
   "cell_type": "code",
   "execution_count": null,
   "metadata": {
    "collapsed": true
   },
   "outputs": [],
   "source": [
    "Substitution and simplifying algebraic expressions\n",
    "Properties of exponents\n",
    "Algebraic word problems\n",
    "Solutions of linear equations and inequalities\n",
    "Systems of equations and inequalities\n",
    "Quadratic equations\n",
    "Rational and radical equations\n",
    "Equations of lines\n",
    "Absolute value\n",
    "Direct and inverse variation\n",
    "Concepts of algebraic functions\n",
    "Newly defined symbols based on commonly used operations"
   ]
  },
  {
   "cell_type": "code",
   "execution_count": null,
   "metadata": {
    "collapsed": true
   },
   "outputs": [],
   "source": []
  },
  {
   "cell_type": "code",
   "execution_count": null,
   "metadata": {
    "collapsed": true
   },
   "outputs": [],
   "source": []
  },
  {
   "cell_type": "code",
   "execution_count": null,
   "metadata": {
    "collapsed": true
   },
   "outputs": [],
   "source": [
    "2^30 + 2^30 + 2^30 + 2^30 =\n",
    "\n",
    "A. 8^120 \n",
    "B. 8^30 \n",
    "C. 2^32 \n",
    "D. 2^30 \n",
    "E. 2^26"
   ]
  },
  {
   "cell_type": "code",
   "execution_count": null,
   "metadata": {
    "collapsed": true
   },
   "outputs": [],
   "source": [
    "( sqrt(2)-sqrt(3) ) ^ 2\n",
    "A. 5 - 2√6 \n",
    "B. 5 - √6 \n",
    "C. 1 - 2√6 \n",
    "D. 1 - √2 \n",
    "E. 1"
   ]
  },
  {
   "cell_type": "code",
   "execution_count": null,
   "metadata": {
    "collapsed": true
   },
   "outputs": [],
   "source": [
    "If f(x) = │(x² – 50)│, what is the value of f(-5) ?\n",
    "\n",
    "A. 75 \n",
    "B. 25 \n",
    "C. 0 \n",
    "D. -25 \n",
    "E. -75"
   ]
  },
  {
   "cell_type": "code",
   "execution_count": null,
   "metadata": {
    "collapsed": true
   },
   "outputs": [],
   "source": [
    "Of the following, which is greater than ½ ?\n",
    "\n",
    "A. 2/5 \n",
    "B. 4/7 \n",
    "C. 4/9 \n",
    "D. 5/11 \n",
    "E. 6/13"
   ]
  },
  {
   "cell_type": "code",
   "execution_count": null,
   "metadata": {
    "collapsed": true
   },
   "outputs": [],
   "source": [
    " If an object travels at five feet per second, how many feet does it travel in one hour?\n",
    "\n",
    "A. 30 \n",
    "B. 300 \n",
    "C. 720 \n",
    "D. 1800 \n",
    "E. 18000"
   ]
  },
  {
   "cell_type": "code",
   "execution_count": null,
   "metadata": {
    "collapsed": true
   },
   "outputs": [],
   "source": [
    "What is the average (arithmetic mean) of all the multiples of ten from 10 to 190 inclusive?\n",
    "\n",
    "A. 90 \n",
    "B. 95 \n",
    "C. 100 \n",
    "D. 105 \n",
    "E. 110"
   ]
  },
  {
   "cell_type": "code",
   "execution_count": null,
   "metadata": {
    "collapsed": true
   },
   "outputs": [],
   "source": [
    "A cubical block of metal weighs 6 pounds. How much will another cube of the same metal weigh if its sides are twice as long?\n",
    "\n",
    "A. 48 \n",
    "B. 32 \n",
    "C. 24 \n",
    "D. 18 \n",
    "E. 12"
   ]
  },
  {
   "cell_type": "code",
   "execution_count": null,
   "metadata": {
    "collapsed": true
   },
   "outputs": [],
   "source": []
  },
  {
   "cell_type": "code",
   "execution_count": null,
   "metadata": {
    "collapsed": true
   },
   "outputs": [],
   "source": []
  },
  {
   "cell_type": "code",
   "execution_count": null,
   "metadata": {
    "collapsed": true
   },
   "outputs": [],
   "source": []
  },
  {
   "cell_type": "code",
   "execution_count": null,
   "metadata": {
    "collapsed": true
   },
   "outputs": [],
   "source": []
  },
  {
   "cell_type": "code",
   "execution_count": null,
   "metadata": {
    "collapsed": true
   },
   "outputs": [],
   "source": []
  },
  {
   "cell_type": "code",
   "execution_count": null,
   "metadata": {
    "collapsed": true
   },
   "outputs": [],
   "source": []
  },
  {
   "cell_type": "code",
   "execution_count": null,
   "metadata": {
    "collapsed": true
   },
   "outputs": [],
   "source": []
  },
  {
   "cell_type": "code",
   "execution_count": null,
   "metadata": {
    "collapsed": true
   },
   "outputs": [],
   "source": []
  },
  {
   "cell_type": "code",
   "execution_count": 40,
   "metadata": {
    "collapsed": true
   },
   "outputs": [],
   "source": [
    "from parse import *\n",
    "import urllib2\n",
    "import pickle\n",
    "import re\n",
    "from nltk.stem import WordNetLemmatizer\n",
    "wnl = WordNetLemmatizer()\n",
    "from nltk.corpus import wordnet as wn\n",
    "from difflib import get_close_matches as gcm"
   ]
  },
  {
   "cell_type": "code",
   "execution_count": 42,
   "metadata": {
    "collapsed": true
   },
   "outputs": [],
   "source": []
  },
  {
   "cell_type": "code",
   "execution_count": 4,
   "metadata": {
    "collapsed": true
   },
   "outputs": [],
   "source": [
    "with open('words.txt','r') as f :\n",
    "    english_words = set(f.read().split('\\n'))"
   ]
  },
  {
   "cell_type": "code",
   "execution_count": 5,
   "metadata": {
    "collapsed": true
   },
   "outputs": [],
   "source": [
    "def remove_punc(word) :\n",
    "    return word.replace(',','').replace('.','').replace(';','').replace(';','')"
   ]
  },
  {
   "cell_type": "code",
   "execution_count": 7,
   "metadata": {
    "collapsed": true
   },
   "outputs": [],
   "source": [
    "def extract_eqs(s) :\n",
    "    for word in s.split(' ') :\n",
    "        word = remove_punc(word.lower())\n",
    "        if word not in english_words :\n",
    "            print word"
   ]
  },
  {
   "cell_type": "code",
   "execution_count": 9,
   "metadata": {
    "collapsed": false
   },
   "outputs": [
    {
     "name": "stdout",
     "output_type": "stream",
     "text": [
      "({'times-2': 'nns', 'equal-6': 'jj', 'to-7': 'to', '-1': 'cd', 'is-5': 'vbz', 'number-4': 'nn', 'a-3': 'dt', '-8': 'cd'}, [('number', 'times', ''), ('num', 'number', 'times'), ('det', 'number', 'a'), ('nsubj', 'equal', 'number'), ('cop', 'equal', 'is'), ('root', 'root', 'equal'), ('prep_to', 'equal', '')], [('number', 'times', '2', '', '1'), ('num', 'number', '4', 'times', '2'), ('det', 'number', '4', 'a', '3'), ('nsubj', 'equal', '6', 'number', '4'), ('cop', 'equal', '6', 'is', '5'), ('root', 'root', '0', 'equal', '6'), ('prep_to', 'equal', '6', '', '8')], '(ROOT (S (NP (QP (CD 3) (NNS times)) (DT a) (NN number)) (VP (VBZ is) (ADJP (JJ equal) (PP (TO to) (NP (CD 3)))))))', '-58.037967681884766 ')\n"
     ]
    }
   ],
   "source": [
    "print get_stanford_parse('3 times a number is equal to 3')"
   ]
  },
  {
   "cell_type": "code",
   "execution_count": null,
   "metadata": {
    "collapsed": true
   },
   "outputs": [],
   "source": [
    "tests = ['f(x)=3x+4',\n",
    "         '2f(x)+4',\n",
    "        '8^n=2^k',\n",
    "         'n/k',\n",
    "         '10+x',\n",
    "         '5',\n",
    "         '10',\n",
    "         '2x',\n",
    "         '2x^3y ￼- 2x^y',\n",
    "         '( x + 2 ) ^ 2 = 49',\n",
    "         'x + y + 3z = 600',\n",
    "         'a/b(bc + k )'\n",
    "        ]"
   ]
  },
  {
   "cell_type": "code",
   "execution_count": null,
   "metadata": {
    "collapsed": true
   },
   "outputs": [],
   "source": [
    "(ROOT (SBARQ (SBAR (IN If) (S (NP (NN n) (CC and) (NN k)) \n",
    "(VP (VBP are) (NP (JJ positive) (NNS integers) (CC and) (NNS eq1)))\n",
    ")) (, ,) (WHNP (WP what)) (SQ (VBZ is) (NP (NP (DT the) (NN value)) (PP (IN of) (NP (CD eq2)))))))"
   ]
  },
  {
   "cell_type": "code",
   "execution_count": 26,
   "metadata": {
    "collapsed": true
   },
   "outputs": [],
   "source": [
    "def match_phrase(match,s) :\n",
    "    res = parse(match,s)\n",
    "    if res==None :\n",
    "        return False\n",
    "    return res.fixed"
   ]
  },
  {
   "cell_type": "code",
   "execution_count": 27,
   "metadata": {
    "collapsed": false
   },
   "outputs": [
    {
     "name": "stdout",
     "output_type": "stream",
     "text": [
      "False\n"
     ]
    }
   ],
   "source": [
    "print match_phrase('If {},','If the function f is defined by f(x)=3x+4, then 2f(x)+4 is')"
   ]
  },
  {
   "cell_type": "code",
   "execution_count": null,
   "metadata": {
    "collapsed": true
   },
   "outputs": [],
   "source": []
  },
  {
   "cell_type": "code",
   "execution_count": null,
   "metadata": {
    "collapsed": true
   },
   "outputs": [],
   "source": []
  },
  {
   "cell_type": "code",
   "execution_count": 22,
   "metadata": {
    "collapsed": false
   },
   "outputs": [
    {
     "name": "stdout",
     "output_type": "stream",
     "text": [
      "('x and y',)\n"
     ]
    },
    {
     "ename": "AttributeError",
     "evalue": "'NoneType' object has no attribute 'fixed'",
     "output_type": "error",
     "traceback": [
      "\u001b[0;31m---------------------------------------------------------------------------\u001b[0m",
      "\u001b[0;31mAttributeError\u001b[0m                            Traceback (most recent call last)",
      "\u001b[0;32m<ipython-input-22-d3261e78371b>\u001b[0m in \u001b[0;36m<module>\u001b[0;34m()\u001b[0m\n\u001b[1;32m      1\u001b[0m \u001b[0ms\u001b[0m \u001b[0;34m=\u001b[0m \u001b[0;34m'x and y are positive integers'\u001b[0m\u001b[0;34m\u001b[0m\u001b[0m\n\u001b[1;32m      2\u001b[0m \u001b[0;32mprint\u001b[0m \u001b[0mparse\u001b[0m\u001b[0;34m(\u001b[0m\u001b[0;34m'{} are positive integers'\u001b[0m\u001b[0;34m,\u001b[0m\u001b[0ms\u001b[0m\u001b[0;34m)\u001b[0m\u001b[0;34m.\u001b[0m\u001b[0mfixed\u001b[0m\u001b[0;34m\u001b[0m\u001b[0m\n\u001b[0;32m----> 3\u001b[0;31m \u001b[0;32mprint\u001b[0m \u001b[0mparse\u001b[0m\u001b[0;34m(\u001b[0m\u001b[0;34m'{} is a positive integer'\u001b[0m\u001b[0;34m,\u001b[0m\u001b[0ms\u001b[0m\u001b[0;34m)\u001b[0m\u001b[0;34m.\u001b[0m\u001b[0mfixed\u001b[0m\u001b[0;34m\u001b[0m\u001b[0m\n\u001b[0m",
      "\u001b[0;31mAttributeError\u001b[0m: 'NoneType' object has no attribute 'fixed'"
     ]
    }
   ],
   "source": [
    "s = 'x and y are positive integers'\n",
    "print parse('{} are positive integers',s).fixed\n",
    "print parse('{} is a positive integer',s).fixed"
   ]
  },
  {
   "cell_type": "code",
   "execution_count": null,
   "metadata": {
    "collapsed": true
   },
   "outputs": [],
   "source": []
  },
  {
   "cell_type": "code",
   "execution_count": null,
   "metadata": {
    "collapsed": true
   },
   "outputs": [],
   "source": [
    "* are positive integers\n",
    "* is a positive integer"
   ]
  },
  {
   "cell_type": "code",
   "execution_count": null,
   "metadata": {
    "collapsed": true
   },
   "outputs": [],
   "source": [
    "what is the value of *\n",
    "calculate *\n",
    "* is \\end\n"
   ]
  },
  {
   "cell_type": "code",
   "execution_count": null,
   "metadata": {
    "collapsed": true
   },
   "outputs": [],
   "source": [
    "If the function f is defined by f(x)=3x+4, then 2f(x)+4 is"
   ]
  },
  {
   "cell_type": "code",
   "execution_count": null,
   "metadata": {
    "collapsed": true
   },
   "outputs": [],
   "source": [
    "If n and k are positive integers and 8^n=2^k, what is the value of n/k"
   ]
  },
  {
   "cell_type": "code",
   "execution_count": null,
   "metadata": {
    "collapsed": true
   },
   "outputs": [],
   "source": [
    "If 10+x is 5 more than 10, what is the value of 2x?"
   ]
  },
  {
   "cell_type": "code",
   "execution_count": null,
   "metadata": {
    "collapsed": true
   },
   "outputs": [],
   "source": [
    "The result when a number is divided by 2 is equal to the result when that same number is divided by 4. What is that number?"
   ]
  },
  {
   "cell_type": "code",
   "execution_count": null,
   "metadata": {
    "collapsed": true
   },
   "outputs": [],
   "source": [
    "If x and y are positive integers, which of the following is equivalent to 2x^3y ￼- 2x^y ?"
   ]
  },
  {
   "cell_type": "code",
   "execution_count": null,
   "metadata": {
    "collapsed": true
   },
   "outputs": [],
   "source": [
    "If ( x + 2 ) ^ 2 = 49, then x could be"
   ]
  },
  {
   "cell_type": "code",
   "execution_count": null,
   "metadata": {
    "collapsed": true
   },
   "outputs": [],
   "source": [
    "The average (arithmetic mean) of t and y is 15, and the average of w and x is 15. What is the average of t, w, x,and y?"
   ]
  },
  {
   "cell_type": "code",
   "execution_count": null,
   "metadata": {
    "collapsed": true
   },
   "outputs": [],
   "source": [
    "Each of the following is equivalent to a/b(bc + k ) EXCEPT"
   ]
  },
  {
   "cell_type": "code",
   "execution_count": null,
   "metadata": {
    "collapsed": true
   },
   "outputs": [],
   "source": [
    "Three more than twice a number is equal to 4. What is the number?"
   ]
  },
  {
   "cell_type": "code",
   "execution_count": null,
   "metadata": {
    "collapsed": true
   },
   "outputs": [],
   "source": [
    "If j/k = 32 and k = 23, what is the value of 1/2 j?"
   ]
  },
  {
   "cell_type": "code",
   "execution_count": null,
   "metadata": {
    "collapsed": true
   },
   "outputs": [],
   "source": [
    "x + y + 3z = 600\n",
    "x+y+ z=400\n",
    "In the system of equations above, what is the value\n",
    "of x + y ?"
   ]
  },
  {
   "cell_type": "code",
   "execution_count": null,
   "metadata": {
    "collapsed": true
   },
   "outputs": [],
   "source": [
    "If (2m)k = 6, then mk ="
   ]
  },
  {
   "cell_type": "code",
   "execution_count": null,
   "metadata": {
    "collapsed": true
   },
   "outputs": [],
   "source": [
    "If 3 times a number is equal to 3 , what is the number?"
   ]
  },
  {
   "cell_type": "code",
   "execution_count": null,
   "metadata": {
    "collapsed": true
   },
   "outputs": [],
   "source": [
    "If f(x) = │(x² – 50)│, what is the value of f(-5) ?"
   ]
  },
  {
   "cell_type": "code",
   "execution_count": null,
   "metadata": {
    "collapsed": true
   },
   "outputs": [],
   "source": [
    "( √2 - √3 )² ="
   ]
  },
  {
   "cell_type": "code",
   "execution_count": null,
   "metadata": {
    "collapsed": true
   },
   "outputs": [],
   "source": [
    "2^30 + 2^30 + 2^30 + 2^30 ="
   ]
  },
  {
   "cell_type": "code",
   "execution_count": null,
   "metadata": {
    "collapsed": true
   },
   "outputs": [],
   "source": [
    "If f(x) = (x + 2) / (x-2) for all integers except x=2, which of the following has the greatest value?\n",
    "A. f(-1) \n",
    "B. f(0) \n",
    "C. f(1) \n",
    "D. f(3) \n",
    "E. f(4)"
   ]
  },
  {
   "cell_type": "code",
   "execution_count": null,
   "metadata": {
    "collapsed": true
   },
   "outputs": [],
   "source": [
    "√5 percent of 5√5 ="
   ]
  },
  {
   "cell_type": "code",
   "execution_count": null,
   "metadata": {
    "collapsed": true
   },
   "outputs": [],
   "source": [
    "(6^5 - 6^4 ) / 5"
   ]
  },
  {
   "cell_type": "code",
   "execution_count": null,
   "metadata": {
    "collapsed": true
   },
   "outputs": [],
   "source": [
    "If f(x) = x² – 3, where x is an integer, which of the following could be a value of f(x)?\n",
    "I\t6\n",
    "II\t0\n",
    "III\t-6"
   ]
  },
  {
   "cell_type": "code",
   "execution_count": null,
   "metadata": {
    "collapsed": true
   },
   "outputs": [],
   "source": [
    " If a² = 12, then a^4 ="
   ]
  },
  {
   "cell_type": "code",
   "execution_count": null,
   "metadata": {
    "collapsed": true
   },
   "outputs": [],
   "source": [
    "If f(3) = 15 and f(5) = 45, which of the following could be f(x)?"
   ]
  },
  {
   "cell_type": "code",
   "execution_count": null,
   "metadata": {
    "collapsed": true
   },
   "outputs": [],
   "source": [
    "If V = 12R / (r + R) , then R ="
   ]
  },
  {
   "cell_type": "code",
   "execution_count": null,
   "metadata": {
    "collapsed": true
   },
   "outputs": [],
   "source": [
    "The number 0.127 is how much greater than 1/8 ?"
   ]
  },
  {
   "cell_type": "code",
   "execution_count": null,
   "metadata": {
    "collapsed": true
   },
   "outputs": [],
   "source": [
    "(a^2 - b^2) / (a+b)\n",
    "If a and b are both positive, which of the following is a simplification of the expression above?"
   ]
  },
  {
   "cell_type": "code",
   "execution_count": null,
   "metadata": {
    "collapsed": true
   },
   "outputs": [],
   "source": [
    "Which of the following could be a solution of the equation │x│ = │4x - 3│"
   ]
  },
  {
   "cell_type": "code",
   "execution_count": null,
   "metadata": {
    "collapsed": true
   },
   "outputs": [],
   "source": [
    "3x + y = 19 , and x + 3y = 1.\n",
    "Find the value of 2x + 2y"
   ]
  },
  {
   "cell_type": "code",
   "execution_count": null,
   "metadata": {
    "collapsed": true
   },
   "outputs": [],
   "source": [
    "Which of the following integers is in the solution set of │1 – 3x│ < 5 ?\n",
    "I\t-1\n",
    "II\t1\n",
    "III\t2"
   ]
  },
  {
   "cell_type": "code",
   "execution_count": null,
   "metadata": {
    "collapsed": true
   },
   "outputs": [],
   "source": [
    "(3 x 104) + (2 x 10²) + (4 x 10) ="
   ]
  },
  {
   "cell_type": "code",
   "execution_count": null,
   "metadata": {
    "collapsed": true
   },
   "outputs": [],
   "source": [
    "If x and y are integers, and 3x + 2y = 13, which of the following could be the value of y ?\n",
    "\n",
    "A. 0 \n",
    "B. 1 \n",
    "C. 2 \n",
    "D. 3 \n",
    "E. 4"
   ]
  },
  {
   "cell_type": "code",
   "execution_count": null,
   "metadata": {
    "collapsed": true
   },
   "outputs": [],
   "source": [
    " If x² - y² = 55, and x - y = 11, then y =\n",
    "\n",
    "A. 8 \n",
    "B. 5 \n",
    "C. 3 \n",
    "D. -8 \n",
    "E. -3"
   ]
  },
  {
   "cell_type": "code",
   "execution_count": null,
   "metadata": {
    "collapsed": true
   },
   "outputs": [],
   "source": [
    "If y ¤ x = y2x for all positive integers, then (3 ¤ 4) ¤ 2 ="
   ]
  },
  {
   "cell_type": "code",
   "execution_count": null,
   "metadata": {
    "collapsed": true
   },
   "outputs": [],
   "source": [
    "(3x + 2) (2x - 5) = ax² + kx + n .\n",
    "What is the value of a - n + k ?"
   ]
  },
  {
   "cell_type": "code",
   "execution_count": null,
   "metadata": {
    "collapsed": true
   },
   "outputs": [],
   "source": []
  },
  {
   "cell_type": "code",
   "execution_count": null,
   "metadata": {
    "collapsed": true
   },
   "outputs": [],
   "source": []
  },
  {
   "cell_type": "code",
   "execution_count": 19,
   "metadata": {
    "collapsed": false
   },
   "outputs": [],
   "source": [
    "from parse import *\n",
    "from sympy import *\n",
    "#init_printing(use_unicode=True)\n",
    "from funcy import *"
   ]
  },
  {
   "cell_type": "code",
   "execution_count": 33,
   "metadata": {
    "collapsed": true
   },
   "outputs": [],
   "source": [
    "questions = [ 'If x² - y² = 55, and x - y = 11, then y =',\n",
    "             #'If y ¤ x = y²x for all positive integers, then (3 ¤ 4) ¤ 2 =',\n",
    "             #'If x and y are integers, and 3x + 2y = 13, which of the following could be the value of y ?',\n",
    "             '(3 * 104) + (2 * 10²) + (4 * 10) =',\n",
    "             #'Which of the following integers is in the solution set of │1 – 3x│ < 5 ?',\n",
    "             '3x + y = 19 , and x + 3y = 1. Find the value of 2x + 2y',\n",
    "             #'Which of the following could be a solution of the equation │x│ = │4x - 3│',\n",
    "             #'(a^2 - b^2) / (a+b) . If a and b are both positive, which of the following is a simplification of the expression above?',\n",
    "             #'The number 0.127 is how much greater than 1/8 ?',\n",
    "             'If V = 12R / (r + R) , then R =',\n",
    "             #'If f(3) = 15 and f(5) = 45, which of the following could be f(x)?',\n",
    "             ' If a² = 12, then a^4 =',\n",
    "             #'If f(x) = x² – 3, where x is an integer, which of the following could be a value of f(x)?',\n",
    "             '(6^5 - 6^4 ) / 5',\n",
    "             #'√5 percent of 5√5 =',\n",
    "             #'If f(x) = (x + 2) / (x-2) for all integers except x=2, which of the following has the greatest value?',\n",
    "             '2^30 + 2^30 + 2^30 + 2^30 =',\n",
    "             '( √2 - √3 )² =',\n",
    "             #'If f(x) = │(x² – 50)│, what is the value of f(-5) ?',\n",
    "             #'If 3 times a number is equal to 3 , what is the number?',\n",
    "             'If (2m)k = 6, then mk =',\n",
    "             'x + y + 3z = 600 \\n x+y+ z=400 \\n In the system of equations above, what is the value of x + y ?',\n",
    "             #'If the function f is defined by f(x)=3x+4, then 2f(x)+4 is',\n",
    "             #'If n and k are positive integers and 8^n=2^k, what is the value of n/k',\n",
    "             #'If 10+x is 5 more than 10, what is the value of 2x?',\n",
    "             #'The result when a number is divided by 2 is equal to the result when that same number is divided by 4. What is that number?',\n",
    "             #'If x and y are positive integers, which of the following is equivalent to 2x^3y ￼- 2x^y ?',\n",
    "             'If ( x + 2 ) ^ 2 = 49, then x could be',\n",
    "             #'The average (arithmetic mean) of t and y is 15, and the average of w and x is 15. What is the average of t, w, x,and y?',\n",
    "             #'Each of the following is equivalent to a/b(bc + k ) EXCEPT',\n",
    "             #'Three more than twice a number is equal to 4. What is the number?',\n",
    "             'If j/k = 32 and k = 23, what is the value of 1/2j?'\n",
    "]"
   ]
  },
  {
   "cell_type": "code",
   "execution_count": 53,
   "metadata": {
    "collapsed": true
   },
   "outputs": [],
   "source": [
    "with open('words.txt','r') as f :\n",
    "    english_words = set(f.read().split('\\n'))"
   ]
  },
  {
   "cell_type": "code",
   "execution_count": 52,
   "metadata": {
    "collapsed": true
   },
   "outputs": [],
   "source": [
    "def only_alphabet(word) :\n",
    "    return word.replace(',','').replace('.','').replace('?','').replace('\\n','').replace('(','').replace(')','')"
   ]
  },
  {
   "cell_type": "code",
   "execution_count": 65,
   "metadata": {
    "collapsed": true
   },
   "outputs": [],
   "source": [
    "def extract_expressions(question) :\n",
    "    expressions = []\n",
    "    #print question\n",
    "    question = question.replace(',',' ,').replace('?',' ?')\n",
    "    eqs=[]\n",
    "    cur_word=''\n",
    "    cur_eq=''\n",
    "    start_eq=0\n",
    "    for i in range(len(question)) :\n",
    "        c=question[i]\n",
    "        #if c in ['\\n',',','?'] :\n",
    "        #    cur_word=''\n",
    "        #    cur_eq=''\n",
    "        if c.isalpha() or c in ['?',',','\\n','.'] :\n",
    "            cur_word+=c\n",
    "            cur_eq+=c\n",
    "        elif c in [' '] :\n",
    "            if cur_word!='' and (only_alphabet(cur_word.lower()) in english_words or cur_word in ['\\n','?',',']) :\n",
    "                #print cur_eq, cur_word\n",
    "                if cur_eq[:-len(cur_word)]!='' :\n",
    "                    expressions.append( (start_eq,i-len(cur_word)) )\n",
    "                    eqs.append( cur_eq[:-len(cur_word)] ) # equation goes up to start of current word\n",
    "                cur_eq=''\n",
    "                start_eq=i+1\n",
    "            cur_word=''\n",
    "        else : # non alpha or spaces\n",
    "            cur_word=''\n",
    "            cur_eq+=c\n",
    "            \n",
    "    if cur_word!='' and (only_alphabet(cur_word.lower()) in english_words or cur_word in ['\\n','?',',']) :\n",
    "        if cur_eq[:-len(cur_word)]!='' :\n",
    "            expressions.append( (start_eq,i-len(cur_word)) )\n",
    "            eqs.append( cur_eq[:-len(cur_word)] ) # equation goes up to start of current word\n",
    "    else :\n",
    "        expressions.append( (start_eq,len(question)) )\n",
    "        eqs.append(cur_eq)\n",
    "    \n",
    "    # replace expressions with pointer\n",
    "    #print question\n",
    "    #expressions = list(set(expressions))\n",
    "    #for i in range(len(expressions)) :\n",
    "    #    question = question.replace(expressions[i],'&'+str(i)+'&')\n",
    "    #print question\n",
    "    #print question\n",
    "    #print [ question[i[0]:i[1]] for i in expressions ]\n",
    "    #for i in expressions :\n",
    "    #    print question[i[0]:i[1]]\n",
    "    nquestion=question\n",
    "    expressions.sort(reverse=True)\n",
    "    equations={}\n",
    "    for i in range(len(expressions)) :\n",
    "        (s,e) = expressions[i]\n",
    "        equations[i]=question[s:e]\n",
    "        nquestion=nquestion[:s]+'&'+str(i)+'& '+nquestion[e:]\n",
    "    return (nquestion, equations)\n",
    "    #questions2.append( nquestion )\n",
    "    #all_equations.append( equations )"
   ]
  },
  {
   "cell_type": "code",
   "execution_count": 66,
   "metadata": {
    "collapsed": false
   },
   "outputs": [],
   "source": [
    "def format_question_for_parser(question, equations) :\n",
    "    nquestion=question+''\n",
    "    for i in range(len(equations)) :\n",
    "        eq = equations[i]\n",
    "        if eq.endswith('=') or '=' not in eq :\n",
    "            nquestion = nquestion.replace('&'+str(i)+'&','that')\n",
    "        else :\n",
    "            nquestion = nquestion.replace('&'+str(i)+'&','this')\n",
    "    return nquestion"
   ]
  },
  {
   "cell_type": "code",
   "execution_count": 69,
   "metadata": {
    "collapsed": false
   },
   "outputs": [
    {
     "name": "stdout",
     "output_type": "stream",
     "text": [
      "If &2& and &1& , what is the value of &0&  ?\n",
      "{0: '1/2j', 1: 'k = 23 ', 2: 'j/k = 32 '}\n",
      "If this and this , what is the value of that  ?\n"
     ]
    }
   ],
   "source": [
    "(q,eqs) = extract_expressions('If j/k = 32 and k = 23, what is the value of 1/2j?')\n",
    "print q\n",
    "print eqs\n",
    "formatted_q = format_question_for_parser(q,eqs)\n",
    "print formatted_q"
   ]
  },
  {
   "cell_type": "code",
   "execution_count": null,
   "metadata": {
    "collapsed": true
   },
   "outputs": [],
   "source": []
  },
  {
   "cell_type": "code",
   "execution_count": 34,
   "metadata": {
    "collapsed": false,
    "scrolled": true
   },
   "outputs": [
    {
     "name": "stdout",
     "output_type": "stream",
     "text": [
      "If x² - y² = 55 , and x - y = 11 , then y =\n",
      "If &2& , and &1& , then &0&  {0: 'y =', 1: 'x - y = 11 ', 2: 'x\\xc2\\xb2 - y\\xc2\\xb2 = 55 '}\n",
      "(3 * 104) + (2 * 10²) + (4 * 10) =\n",
      "&0&  {0: '(3 * 104) + (2 * 10\\xc2\\xb2) + (4 * 10) ='}\n",
      "3x + y = 19  , and x + 3y = 1. Find the value of 2x + 2y\n",
      "&2& , and &1& . Find the value of &0&  {0: '2x + 2y', 1: 'x + 3y = 1', 2: '3x + y = 19  '}\n",
      "If V = 12R / (r + R)  , then R =\n",
      "If &1& , then &0&  {0: 'R =', 1: 'V = 12R / (r + R)  '}\n",
      " If a² = 12 , then a^4 =\n",
      " If &1& , then &0&  {0: 'a^4 =', 1: 'a\\xc2\\xb2 = 12 '}\n",
      "(6^5 - 6^4 ) / 5\n",
      "&0&  {0: '(6^5 - 6^4 ) / 5'}\n",
      "2^30 + 2^30 + 2^30 + 2^30 =\n",
      "&0&  {0: '2^30 + 2^30 + 2^30 + 2^30 ='}\n",
      "( √2 - √3 )² =\n",
      "&0&  {0: '( \\xe2\\x88\\x9a2 - \\xe2\\x88\\x9a3 )\\xc2\\xb2 ='}\n",
      "If (2m)k = 6 , then mk =\n",
      "If &1& , then &0&  {0: 'mk =', 1: '(2m)k = 6 '}\n",
      "x + y + 3z = 600 \n",
      " x+y+ z=400 \n",
      " In the system of equations above , what is the value of x + y  ?\n",
      "&2& \n",
      " &1& \n",
      " In the system of equations above , what is the value of &0&  ? {0: 'x + y ', 1: 'x+y+ z=400 ', 2: 'x + y + 3z = 600 '}\n",
      "If ( x + 2 ) ^ 2 = 49 , then x could be\n",
      "If &1& , then &0& could be {0: 'x ', 1: '( x + 2 ) ^ 2 = 49 '}\n",
      "If j/k = 32 and k = 23 , what is the value of 1/2j ?\n",
      "If &2& and &1& , what is the value of &0&  ? {0: '1/2j', 1: 'k = 23 ', 2: 'j/k = 32 '}\n"
     ]
    }
   ],
   "source": [
    "questions2=[]\n",
    "all_equations=[]\n",
    "for question in questions :\n",
    "    expressions = []\n",
    "    #print question\n",
    "    question = question.replace(',',' ,').replace('?',' ?')\n",
    "    eqs=[]\n",
    "    cur_word=''\n",
    "    cur_eq=''\n",
    "    start_eq=0\n",
    "    for i in range(len(question)) :\n",
    "        c=question[i]\n",
    "        #if c in ['\\n',',','?'] :\n",
    "        #    cur_word=''\n",
    "        #    cur_eq=''\n",
    "        if c.isalpha() or c in ['?',',','\\n','.'] :\n",
    "            cur_word+=c\n",
    "            cur_eq+=c\n",
    "        elif c in [' '] :\n",
    "            if cur_word!='' and (only_alphabet(cur_word.lower()) in english_words or cur_word in ['\\n','?',',']) :\n",
    "                #print cur_eq, cur_word\n",
    "                if cur_eq[:-len(cur_word)]!='' :\n",
    "                    expressions.append( (start_eq,i-len(cur_word)) )\n",
    "                    eqs.append( cur_eq[:-len(cur_word)] ) # equation goes up to start of current word\n",
    "                cur_eq=''\n",
    "                start_eq=i+1\n",
    "            cur_word=''\n",
    "        else : # non alpha or spaces\n",
    "            cur_word=''\n",
    "            cur_eq+=c\n",
    "            \n",
    "    if cur_word!='' and (only_alphabet(cur_word.lower()) in english_words or cur_word in ['\\n','?',',']) :\n",
    "        if cur_eq[:-len(cur_word)]!='' :\n",
    "            expressions.append( (start_eq,i-len(cur_word)) )\n",
    "            eqs.append( cur_eq[:-len(cur_word)] ) # equation goes up to start of current word\n",
    "    else :\n",
    "        expressions.append( (start_eq,len(question)) )\n",
    "        eqs.append(cur_eq)\n",
    "    \n",
    "    # replace expressions with pointer\n",
    "    #print question\n",
    "    #expressions = list(set(expressions))\n",
    "    #for i in range(len(expressions)) :\n",
    "    #    question = question.replace(expressions[i],'&'+str(i)+'&')\n",
    "    #print question\n",
    "    #print question\n",
    "    #print [ question[i[0]:i[1]] for i in expressions ]\n",
    "    #for i in expressions :\n",
    "    #    print question[i[0]:i[1]]\n",
    "    print question\n",
    "    nquestion=question\n",
    "    expressions.sort(reverse=True)\n",
    "    equations={}\n",
    "    for i in range(len(expressions)) :\n",
    "        (s,e) = expressions[i]\n",
    "        equations[i]=question[s:e]\n",
    "        nquestion=nquestion[:s]+'&'+str(i)+'& '+nquestion[e:]\n",
    "    print nquestion, equations\n",
    "    questions2.append( nquestion )\n",
    "    all_equations.append( equations )"
   ]
  },
  {
   "cell_type": "code",
   "execution_count": null,
   "metadata": {
    "collapsed": true
   },
   "outputs": [],
   "source": []
  },
  {
   "cell_type": "code",
   "execution_count": 22,
   "metadata": {
    "collapsed": false,
    "scrolled": true
   },
   "outputs": [
    {
     "data": {
      "text/plain": [
       "[{0: 'y =', 1: 'x - y = 11 ', 2: 'x\\xc2\\xb2 - y\\xc2\\xb2 = 55 '},\n",
       " {0: '(3 \\xc2\\xa4 4) \\xc2\\xa4 2 =', 1: 'y \\xc2\\xa4 x = y\\xc2\\xb2x '},\n",
       " {0: '', 1: '3x + 2y = 13 ', 2: 'y ', 3: 'x '},\n",
       " {0: '(3 * 104) + (2 * 10\\xc2\\xb2) + (4 * 10) ='},\n",
       " {0: '\\xe2\\x94\\x821 \\xe2\\x80\\x93 3x\\xe2\\x94\\x82 < '},\n",
       " {0: '2x + 2y', 1: 'x + 3y = 1', 2: '3x + y = 19  '},\n",
       " {0: '\\xe2\\x94\\x82x\\xe2\\x94\\x82 = \\xe2\\x94\\x824x - 3\\xe2\\x94\\x82'},\n",
       " {0: 'b ', 1: '(a^2 - b^2) / (a+b) '},\n",
       " {0: '1/', 1: '0.127 '},\n",
       " {0: 'R =', 1: 'V = 12R / (r + R)  '},\n",
       " {0: 'f(', 1: 'f(5) = 45 ', 2: 'f(3) = 15 '},\n",
       " {0: 'a^4 =', 1: 'a\\xc2\\xb2 = 12 '},\n",
       " {0: 'f(', 1: 'x ', 2: 'f(x) = x\\xc2\\xb2 \\xe2\\x80\\x93 3 '},\n",
       " {0: '(6^5 - 6^4 ) / 5'},\n",
       " {0: '5\\xe2\\x88\\x9a5 =', 1: '\\xe2\\x88\\x9a5 '},\n",
       " {0: 'x=2 ', 1: 'f(x) = (x + 2) / (x-2) '},\n",
       " {0: '2^30 + 2^30 + 2^30 + 2^30 ='},\n",
       " {0: '( \\xe2\\x88\\x9a2 - \\xe2\\x88\\x9a3 )\\xc2\\xb2 ='},\n",
       " {0: 'f(-5', 1: 'f(x) = \\xe2\\x94\\x82(x\\xc2\\xb2 \\xe2\\x80\\x93 50)\\xe2\\x94\\x82 '},\n",
       " {0: '3  ', 1: '3 '},\n",
       " {0: 'mk =', 1: '(2m)k = 6 '},\n",
       " {0: 'x + ', 1: 'x+y+ z=400 ', 2: 'x + y + 3z = 600 '},\n",
       " {0: '2f(x)+', 1: 'f(x)=3x+4 ', 2: 'f '},\n",
       " {0: 'n/k', 1: '8^n=2^k ', 2: 'k ', 3: 'n '},\n",
       " {0: '2x?', 1: '10 ', 2: '5 ', 3: '10+x '},\n",
       " {0: '4', 1: '2 '},\n",
       " {0: '2x^3y \\xef\\xbf\\xbc- 2x^', 1: 'y ', 2: 'x '},\n",
       " {0: 'x ', 1: '( x + 2 ) ^ 2 = 49 '},\n",
       " {0: 'y?',\n",
       "  1: 'x ',\n",
       "  2: 'w ',\n",
       "  3: 't ',\n",
       "  4: '15',\n",
       "  5: 'x ',\n",
       "  6: 'w ',\n",
       "  7: '15 ',\n",
       "  8: 'y ',\n",
       "  9: 't ',\n",
       "  10: 'mean) ',\n",
       "  11: '('},\n",
       " {0: 'a/b(bc + k '},\n",
       " {0: '4'},\n",
       " {0: '1/2j?', 1: 'k = 23 ', 2: 'j/k = 32 '}]"
      ]
     },
     "execution_count": 22,
     "metadata": {},
     "output_type": "execute_result"
    }
   ],
   "source": [
    "all_equations"
   ]
  },
  {
   "cell_type": "code",
   "execution_count": 12,
   "metadata": {
    "collapsed": false,
    "scrolled": true
   },
   "outputs": [
    {
     "data": {
      "text/plain": [
       "['If &2& , and &1& , then &0& ',\n",
       " 'If &1& for all positive integers , then &0& ',\n",
       " 'If &3& and &2& are integers , and &1& , which of the following could be the value of &0&  ?',\n",
       " '&0& ',\n",
       " 'Which of the following integers is in the solution set of &0&  ?',\n",
       " '&2& , and &1& . Find the value of &0& ',\n",
       " 'Which of the following could be a solution of the equation &0& ',\n",
       " '&1& . If a and &0& are both positive , which of the following is a simplification of the expression above?',\n",
       " 'The number &1& is how much greater than &0&  ?',\n",
       " 'If &1& , then &0& ',\n",
       " 'If &2& and &1& , which of the following could be &0& )?',\n",
       " ' If &1& , then &0& ',\n",
       " 'If &2& , where &1& is an integer , which of the following could be a value of &0& )?',\n",
       " '&0& ',\n",
       " '&1& percent of &0& ',\n",
       " 'If &1& for all integers except &0& , which of the following has the greatest value?',\n",
       " '&0& ',\n",
       " '&0& ',\n",
       " 'If &1& , what is the value of &0&  ?',\n",
       " 'If &1& times a number is equal to &0& , what is the number?',\n",
       " 'If &1& , then &0& ',\n",
       " '&2& \\n &1& \\n In the system of equations above , what is the value of &0&  ?',\n",
       " 'If the function &2& is defined by &1& , then &0&  is',\n",
       " 'If &3& and &2& are positive integers and &1& , what is the value of &0& ',\n",
       " 'If &3& is &2& more than &1& , what is the value of &0& ',\n",
       " 'The result when a number is divided by &1& is equal to the result when that same number is divided by &0& . What is that number?',\n",
       " 'If &2& and &1& are positive integers , which of the following is equivalent to &0&  ?',\n",
       " 'If &1& , then &0& could be',\n",
       " 'The average &11& arithmetic &10& of &9& and &8& is &7& , and the average of &6& and &5& is &4& . What is the average of &3& , &2& , &1& ,and &0& ',\n",
       " 'Each of the following is equivalent to &0&  EXCEPT',\n",
       " 'Three more than twice a number is equal to &0& . What is the number?',\n",
       " 'If &2& and &1& , what is the value of &0& ']"
      ]
     },
     "execution_count": 12,
     "metadata": {},
     "output_type": "execute_result"
    }
   ],
   "source": [
    "questions2"
   ]
  },
  {
   "cell_type": "code",
   "execution_count": null,
   "metadata": {
    "collapsed": true
   },
   "outputs": [],
   "source": [
    "If &1& , what is the value of &0&  ?\n",
    "If &2& and &1& , what is the value of &0&\n",
    "If &2& , and &1& , then &0&\n",
    "&2& \\n &1& \\n In the system of equations above , what is the value of &0&"
   ]
  },
  {
   "cell_type": "code",
   "execution_count": 13,
   "metadata": {
    "collapsed": false
   },
   "outputs": [],
   "source": [
    "def is_number(s):\n",
    "    try:\n",
    "        float(s)\n",
    "        return True\n",
    "    except ValueError:\n",
    "        return False\n",
    "\n",
    "def test_pattern(pattern, phrase) :\n",
    "    ans = parse(pattern, phrase)\n",
    "    if ans is None :\n",
    "        return False\n",
    "    parts=[]\n",
    "    for part in ans :\n",
    "        if is_number(part)==False :\n",
    "            return False\n",
    "        parts.append(int(part))\n",
    "    return parts"
   ]
  },
  {
   "cell_type": "code",
   "execution_count": 22,
   "metadata": {
    "collapsed": false
   },
   "outputs": [
    {
     "data": {
      "text/plain": [
       "False"
      ]
     },
     "execution_count": 22,
     "metadata": {},
     "output_type": "execute_result"
    }
   ],
   "source": [
    "test_pattern('if &{}&, then &{}&','if &6&, then &7& sdffd&j&')"
   ]
  },
  {
   "cell_type": "code",
   "execution_count": 163,
   "metadata": {
    "collapsed": false
   },
   "outputs": [
    {
     "data": {
      "text/plain": [
       "'12*R/(r+R)'"
      ]
     },
     "execution_count": 163,
     "metadata": {},
     "output_type": "execute_result"
    }
   ],
   "source": [
    "make_eq_nice('12R / (r + R)')"
   ]
  },
  {
   "cell_type": "code",
   "execution_count": 159,
   "metadata": {
    "collapsed": false
   },
   "outputs": [
    {
     "name": "stdout",
     "output_type": "stream",
     "text": [
      "[3, 6, 7]\n"
     ]
    }
   ],
   "source": [
    "eq='256a+5ba-6'\n",
    "add_mult=[ (i+1) for i in range(len(eq)-1) if (eq[i].isalpha() and eq[i+1].isalpha()) or\n",
    "          (eq[i].isdigit() and eq[i+1].isalpha()) or\n",
    "          (eq[i].isalpha() and eq[i+1].isdigit()) ]\n",
    "print add_mult"
   ]
  },
  {
   "cell_type": "code",
   "execution_count": 14,
   "metadata": {
    "collapsed": true
   },
   "outputs": [],
   "source": [
    "def single_spaces(s) :\n",
    "    return ' '.join(s.split())"
   ]
  },
  {
   "cell_type": "code",
   "execution_count": 31,
   "metadata": {
    "collapsed": false
   },
   "outputs": [],
   "source": [
    "def make_eq_nice(eq) :\n",
    "    eq=eq.replace(' ','')\n",
    "    if eq.endswith('=') :\n",
    "        eq=eq[:-1]\n",
    "    eq = eq.replace('\\xc2\\xb2','^2').replace('\\xe2\\x88\\x9a','sqrt')\n",
    "    add_mult=[ (i+1) for i in range(len(eq)-1) if (eq[i].isalpha() and eq[i+1].isalpha()) or\n",
    "          (eq[i].isdigit() and eq[i+1].isalpha()) or\n",
    "          (eq[i].isalpha() and eq[i+1].isdigit()) or\n",
    "          (eq[i]==')' and eq[i+1] not in ['+','-','/','*','^']) or\n",
    "          (eq[i+1]=='(' and eq[i] not in ['+','-','/','*','^'])  ]\n",
    "    add_mult.sort(reverse=True)\n",
    "    for i in add_mult :\n",
    "        eq=eq[:i]+'*'+eq[i:]\n",
    "    return eq\n",
    "    \n",
    "def solve_no_vars(eq) :\n",
    "    return sympify(eq)\n",
    "\n",
    "def str_eq_to_sym_eq(str_eq) :\n",
    "    print str_eq\n",
    "    sides = str_eq.split('=')\n",
    "    return Eq(sympify(sides[0]),sympify(sides[1]))\n",
    "\n",
    "def solve_soe(eqs,var_to_solve) :\n",
    "    vars_list = set([c for eq in eqs for c in eq if c.isalpha()])\n",
    "    #print vars_list\n",
    "    x = S('x'.split())\n",
    "    equations = [str_eq_to_sym_eq(eq) for eq in eqs]\n",
    "    #print solve(equations)\n",
    "    #[{vf: -35, t: -4, a: 10, vi: 5, d: 60}, {vf: 35, t: 3, a: 10, vi: 5, d: 60}]\n",
    "    #print equations,sympify(var_to_solve)\n",
    "    print solve(equations)\n",
    "    print solve(equations, [sympify(var_to_solve)])\n",
    "    #return solve(equations)[0][sympify(var_to_solve)]\n",
    "    #[(10, -4, 5, -35, 60), (10, 3, 5, 35, 60)]"
   ]
  },
  {
   "cell_type": "code",
   "execution_count": 37,
   "metadata": {
    "collapsed": false
   },
   "outputs": [
    {
     "name": "stdout",
     "output_type": "stream",
     "text": [
      "\n",
      "\n",
      "if &2& and &1& then &0& {0: 'y =', 1: 'x - y = 11 ', 2: 'x\\xc2\\xb2 - y\\xc2\\xb2 = 55 '}\n",
      "x^2-y^2=55\n",
      "x-y=11\n",
      "[{x: 8, y: -3}]\n",
      "[]\n",
      "None\n",
      "\n",
      "\n",
      "&0& {0: '(3 * 104) + (2 * 10\\xc2\\xb2) + (4 * 10) ='}\n",
      "552\n",
      "\n",
      "\n",
      "&2& and &1& . find the value of &0& {0: '2x + 2y', 1: 'x + 3y = 1', 2: '3x + y = 19  '}\n",
      "3*x+y=19\n",
      "x+3*y=1\n",
      "{x: 7, y: -2}\n",
      "[]\n",
      "None\n",
      "\n",
      "\n",
      "if &1& then &0& {0: 'R =', 1: 'V = 12R / (r + R)  '}\n",
      "V=12*R/(r+R)\n",
      "[{R: -V*r/(V - 12)}]\n",
      "{R: -V*r/(V - 12)}\n",
      "None\n",
      "\n",
      "\n",
      "if &1& then &0& {0: 'a^4 =', 1: 'a\\xc2\\xb2 = 12 '}\n",
      "a^2=12\n",
      "[{a: -2*sqrt(3)}, {a: 2*sqrt(3)}]\n",
      "[]\n",
      "None\n",
      "\n",
      "\n",
      "&0& {0: '(6^5 - 6^4 ) / 5'}\n",
      "1296\n",
      "\n",
      "\n",
      "&0& {0: '2^30 + 2^30 + 2^30 + 2^30 ='}\n",
      "4294967296\n",
      "\n",
      "\n",
      "&0& {0: '( \\xe2\\x88\\x9a2 - \\xe2\\x88\\x9a3 )\\xc2\\xb2 ='}\n",
      "q**2*r**2*s**2*t**2\n",
      "\n",
      "\n",
      "if &1& then &0& {0: 'mk =', 1: '(2m)k = 6 '}\n",
      "(2*m)*k=6\n",
      "[{k: 3/m}]\n",
      "{k*m: 3}\n",
      "None\n",
      "\n",
      "\n",
      "&2& &1& in the system of equations above what is the value of &0& {0: 'x + y ', 1: 'x+y+ z=400 ', 2: 'x + y + 3z = 600 '}\n",
      "x+y+3*z=600\n",
      "x+y+z=400\n",
      "{x: -y + 300, z: 100}\n",
      "[]\n",
      "None\n",
      "\n",
      "\n",
      "if &1& then &0& could be {0: 'x ', 1: '( x + 2 ) ^ 2 = 49 '}\n",
      "(x+2)^2=49\n",
      "[{x: -9}, {x: 5}]\n",
      "[(-9,), (5,)]\n",
      "None\n",
      "\n",
      "\n",
      "if &2& and &1& what is the value of &0& {0: '1/2j', 1: 'k = 23 ', 2: 'j/k = 32 '}\n",
      "j/k=32\n",
      "k=23\n",
      "{k: 23, j: 736}\n",
      "[]\n",
      "None\n"
     ]
    }
   ],
   "source": [
    "for i in range(len(questions2)) :\n",
    "    #print q\n",
    "    eqs = all_equations[i]\n",
    "    q = single_spaces(questions2[i].lower().replace(',','').replace('?','')).strip()\n",
    "    \n",
    "    #if q in ['if &1& what is the value of &0&'] :\n",
    "    #    continue\n",
    "    \n",
    "    #print q\n",
    "    #if q!='if &2& and &1& what is the value of &0&' :\n",
    "    #    continue\n",
    "    print '\\n'\n",
    "    \n",
    "    print q,eqs\n",
    "    \n",
    "    eq_nums = test_pattern('&{}&',q)\n",
    "    if eq_nums != False :\n",
    "        print solve_no_vars(make_eq_nice(eqs[0])) \n",
    "    \n",
    "    eq_nums = test_pattern('if &{}& then &{}&',q)\n",
    "    if eq_nums != False :\n",
    "        print solve_soe([ make_eq_nice(eqs[eq_nums[0]]) ], make_eq_nice(eqs[eq_nums[1]]) )\n",
    "    \n",
    "    eq_nums = test_pattern('if &{}& what is the value of &{}&',q)\n",
    "    if eq_nums != False :\n",
    "        print solve_soe([ make_eq_nice(eqs[eq_nums[0]]) ], make_eq_nice(eqs[eq_nums[1]]) )\n",
    "    \n",
    "    eq_nums = test_pattern('&{}& and &{}& . find the value of &{}&',q)\n",
    "    if eq_nums != False :\n",
    "        print solve_soe([ make_eq_nice(eqs[eq_nums[0]]), make_eq_nice(eqs[eq_nums[1]]) ], make_eq_nice(eqs[eq_nums[2]]) )\n",
    "    \n",
    "    eq_nums = test_pattern('if &{}& and &{}& what is the value of &{}&',q)\n",
    "    if eq_nums != False :\n",
    "        print solve_soe([ make_eq_nice(eqs[eq_nums[0]]), make_eq_nice(eqs[eq_nums[1]]) ], make_eq_nice(eqs[eq_nums[2]]) )\n",
    "    \n",
    "    eq_nums = test_pattern('if &{}& and &{}& then &{}&',q)\n",
    "    if eq_nums != False :\n",
    "        print solve_soe([ make_eq_nice(eqs[eq_nums[0]]), make_eq_nice(eqs[eq_nums[1]]) ], make_eq_nice(eqs[eq_nums[2]]) )\n",
    "    \n",
    "    eq_nums = test_pattern('if &{}& then &{}& could be',q)\n",
    "    if eq_nums != False :\n",
    "        print solve_soe([ make_eq_nice(eqs[eq_nums[0]]) ], make_eq_nice(eqs[eq_nums[1]]) )\n",
    "    \n",
    "    eq_nums = test_pattern('&{}& &{}& In the system of equations above what is the value of &{}&',q)\n",
    "    if eq_nums != False :\n",
    "        print solve_soe([ make_eq_nice(eqs[eq_nums[0]]), make_eq_nice(eqs[eq_nums[1]]) ], make_eq_nice(eqs[eq_nums[2]]) )\n",
    "        \n"
   ]
  },
  {
   "cell_type": "code",
   "execution_count": 73,
   "metadata": {
    "collapsed": false
   },
   "outputs": [
    {
     "name": "stdout",
     "output_type": "stream",
     "text": [
      "(3 * 104) + (2 * 10^2) + (4 * 10) \n"
     ]
    },
    {
     "data": {
      "image/png": "[encoded data removed]",
      "text/latex": [
       "$$\\left(- \\sqrt{3} + \\sqrt{2}\\right)^{2}$$"
      ],
      "text/plain": [
       "                 2\n",
       "⎛    ___     ___⎞ \n",
       "⎝- ╲╱ 3  + ╲╱ 2 ⎠ "
      ]
     },
     "execution_count": 73,
     "metadata": {},
     "output_type": "execute_result"
    }
   ],
   "source": [
    "print make_eq_nice('(3 x 104) + (2 x 10\\xc2\\xb2) + (4 x 10) =')\n",
    "solve_no_vars('(sqrt(2)-sqrt(3))^2') "
   ]
  },
  {
   "cell_type": "code",
   "execution_count": 41,
   "metadata": {
    "collapsed": true
   },
   "outputs": [],
   "source": [
    "from sympy import *\n",
    "x, y, z = symbols('x y z')\n",
    "init_printing(use_unicode=True)"
   ]
  },
  {
   "cell_type": "code",
   "execution_count": 42,
   "metadata": {
    "collapsed": false
   },
   "outputs": [
    {
     "data": {
      "image/png": "[encoded data removed]",
      "text/latex": [
       "$$\\left [ -1, \\quad 1\\right ]$$"
      ],
      "text/plain": [
       "[-1, 1]"
      ]
     },
     "execution_count": 42,
     "metadata": {},
     "output_type": "execute_result"
    }
   ],
   "source": [
    "solve(Eq(x**2, 1), x)"
   ]
  },
  {
   "cell_type": "code",
   "execution_count": 54,
   "metadata": {
    "collapsed": false
   },
   "outputs": [
    {
     "data": {
      "text/plain": [
       "True"
      ]
     },
     "execution_count": 54,
     "metadata": {},
     "output_type": "execute_result"
    }
   ],
   "source": [
    "float(sympify('(6/2)-9'))"
   ]
  },
  {
   "cell_type": "code",
   "execution_count": 127,
   "metadata": {
    "collapsed": false
   },
   "outputs": [
    {
     "name": "stdout",
     "output_type": "stream",
     "text": [
      "-2\n"
     ]
    }
   ],
   "source": [
    "from sympy import S, Eq, solve\n",
    "R, V = S('R V'.split())\n",
    "equations = [Eq( sympify('R+1'), sympify('V') ), Eq( sympify('2*V+1'), sympify('V') )]\n",
    "#print solve(equations)\n",
    "#[{vf: -35, t: -4, a: 10, vi: 5, d: 60}, {vf: 35, t: 3, a: 10, vi: 5, d: 60}]\n",
    "print solve(equations)[R]\n",
    "#[(10, -4, 5, -35, 60), (10, 3, 5, 35, 60)]"
   ]
  },
  {
   "cell_type": "code",
   "execution_count": 94,
   "metadata": {
    "collapsed": false
   },
   "outputs": [
    {
     "data": {
      "image/png": "[encoded data removed]",
      "text/latex": [
       "$$\\left [ 1, \\quad 3\\right ]$$"
      ],
      "text/plain": [
       "[1, 3]"
      ]
     },
     "execution_count": 94,
     "metadata": {},
     "output_type": "execute_result"
    }
   ],
   "source": [
    "select(odd, [1, 2, 3])"
   ]
  },
  {
   "cell_type": "code",
   "execution_count": 197,
   "metadata": {
    "collapsed": false
   },
   "outputs": [
    {
     "data": {
      "text/plain": [
       "'I*f*j/k=32*a*n*d*k=23,w*h*a*t*i*s*t*h*e*v*a*l*u*e*o*f*1/2*j?'"
      ]
     },
     "execution_count": 197,
     "metadata": {},
     "output_type": "execute_result"
    }
   ],
   "source": [
    "make_eq_nice('If j/k = 32 and k = 23, what is the value of 1/2j?')"
   ]
  },
  {
   "cell_type": "code",
   "execution_count": 42,
   "metadata": {
    "collapsed": false
   },
   "outputs": [
    {
     "name": "stdout",
     "output_type": "stream",
     "text": [
      "{k: 96, j: 4}\n",
      "96\n",
      "[]\n",
      "[{j: -k}]\n"
     ]
    }
   ],
   "source": [
    "j, k = S('j k'.split())\n",
    "equations = [Eq(j, 4), Eq(k/j, 24)]\n",
    "print solve(equations)\n",
    "print solve(equations)[k]\n",
    "#[{vf: -35, t: -4, a: 10, vi: 5, d: 60}, {vf: 35, t: 3, a: 10, vi: 5, d: 60}]\n",
    "print solve(equations, [k/2])\n",
    "print solve(k+j)\n",
    "#[(10, -4, 5, -35, 60), (10, 3, 5, 35, 60)]"
   ]
  },
  {
   "cell_type": "code",
   "execution_count": 50,
   "metadata": {
    "collapsed": false
   },
   "outputs": [
    {
     "data": {
      "text/plain": [
       "[]"
      ]
     },
     "execution_count": 50,
     "metadata": {},
     "output_type": "execute_result"
    }
   ],
   "source": [
    "from sympy.abc import x, y, z, a, b\n",
    "solve([x + 2 + sqrt(3), y-3], x+y)"
   ]
  },
  {
   "cell_type": "code",
   "execution_count": 65,
   "metadata": {
    "collapsed": false
   },
   "outputs": [
    {
     "name": "stdout",
     "output_type": "stream",
     "text": [
      "[(12, 3)]\n",
      "[]\n"
     ]
    }
   ],
   "source": [
    "eqs = (x*y-36, x-12)\n",
    "print solve(eqs, x, y)\n",
    "#{y: -sqrt(3)/(x + 3), x + 2: (-2*x - 6 + sqrt(3))/(x + 3)}\n",
    "print solve(eqs, x, x/2)"
   ]
  },
  {
   "cell_type": "code",
   "execution_count": null,
   "metadata": {
    "collapsed": true
   },
   "outputs": [],
   "source": []
  },
  {
   "cell_type": "code",
   "execution_count": null,
   "metadata": {
    "collapsed": true
   },
   "outputs": [],
   "source": []
  }
 ],
 "metadata": {
  "kernelspec": {
   "display_name": "Python 2",
   "language": "python",
   "name": "python2"
  },
  "language_info": {
   "codemirror_mode": {
    "name": "ipython",
    "version": 2
   },
   "file_extension": ".py",
   "mimetype": "text/x-python",
   "name": "python",
   "nbconvert_exporter": "python",
   "pygments_lexer": "ipython2",
   "version": "2.7.8"
  }
 },
 "nbformat": 4,
 "nbformat_minor": 0
}
