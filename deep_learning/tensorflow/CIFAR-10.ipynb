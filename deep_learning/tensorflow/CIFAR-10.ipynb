{
 "cells": [
  {
   "cell_type": "code",
   "execution_count": 1,
   "metadata": {
    "collapsed": false
   },
   "outputs": [],
   "source": [
    "import tensorflow as tf\n",
    "import xml\n",
    "import numpy as np\n",
    "from pylab import *\n",
    "%matplotlib inline\n",
    "import xml.etree.ElementTree as ET\n",
    "import cv2\n",
    "import os\n",
    "from matplotlib import patches\n",
    "from random import shuffle, randint"
   ]
  },
  {
   "cell_type": "code",
   "execution_count": 2,
   "metadata": {
    "collapsed": false
   },
   "outputs": [],
   "source": [
    "home_dir = os.path.expanduser('~') + \"/\"\n",
    "datasets_dir = home_dir + \"external_drive/\"\n",
    "cifar_dir = datasets_dir + \"cifar10/cifar-10-batches-bin\"\n",
    "\n",
    "NUM_EXAMPLES_PER_EPOCH_FOR_TRAIN = 50000\n",
    "NUM_EXAMPLES_PER_EPOCH_FOR_EVAL = 10000\n",
    "min_fraction_of_examples_in_queue = 0.1\n",
    "\n",
    "# TURN THESE INTO TENSORFLOW VARIABLES SO THEY CAN BE DYNAMICALLY CHANGED\n",
    "\n",
    "# The width and height of the image\n",
    "image_size = 24 # Must be divisible by the pooling layers\n",
    "# Image depth\n",
    "image_depth = 3\n",
    "# The batch size\n",
    "batch_size = 128\n",
    "test_batch_size = 256\n",
    "# number of classes\n",
    "num_classes = 10"
   ]
  },
  {
   "cell_type": "code",
   "execution_count": 4,
   "metadata": {
    "collapsed": false
   },
   "outputs": [
    {
     "data": {
      "text/plain": [
       "<tf.Tensor 'ImageSummary:0' shape=() dtype=string>"
      ]
     },
     "execution_count": 4,
     "metadata": {},
     "output_type": "execute_result"
    }
   ],
   "source": [
    "\n",
    "\"\"\"Reads and parses examples from CIFAR10 data files.\n",
    "Recommendation: if you want N-way read parallelism, call this function\n",
    "N times.  This will give you N independent Readers reading different\n",
    "files & positions within those files, which will give better mixing of\n",
    "examples.\n",
    "Args:\n",
    "filename_queue: A queue of strings with the filenames to read from.\n",
    "Returns:\n",
    "An object representing a single example, with the following fields:\n",
    "  height: number of rows in the result (32)\n",
    "  width: number of columns in the result (32)\n",
    "  depth: number of color channels in the result (3)\n",
    "  key: a scalar string Tensor describing the filename & record number\n",
    "    for this example.\n",
    "  label: an int32 Tensor with the label in the range 0..9.\n",
    "  uint8image: a [height, width, depth] uint8 Tensor with the image data\n",
    "\"\"\"\n",
    "class CIFAR10Record(object):\n",
    "    pass\n",
    "\n",
    "\n",
    "\n",
    "\n",
    "\n",
    "\n",
    "\"\"\"Construct input for CIFAR evaluation using the Reader ops.\n",
    "Args:\n",
    "data_dir: Path to the CIFAR-10 data directory.\n",
    "batch_size: Number of images per batch.\n",
    "Returns:\n",
    "images: Images. 4D tensor of [batch_size, IMAGE_SIZE, IMAGE_SIZE, 3] size.\n",
    "labels: Labels. 1D tensor of [batch_size] size.\n",
    "\"\"\"\n",
    "    \n",
    "filenames = [os.path.join(cifar_dir, 'data_batch_%d.bin' % i)\n",
    "             for i in range(1, 6)]\n",
    "\n",
    "num_examples_per_epoch = NUM_EXAMPLES_PER_EPOCH_FOR_TRAIN\n",
    "\n",
    "for f in filenames:\n",
    "    if not tf.gfile.Exists(f):\n",
    "        raise ValueError('Failed to find file: ' + f)\n",
    "        \n",
    "# Create a queue that produces the filenames to read.\n",
    "filename_queue = tf.train.string_input_producer(filenames) # this doesn't work at the moment! bug?\n",
    "\"\"\"filename_queue = tf.RandomShuffleQueue(1000, 1, tf.string)\n",
    "enqueue_ops = []\n",
    "for x in range(100):\n",
    "    for item in filenames:\n",
    "        enqueue_ops.append(filename_queue.enqueue(item))\n",
    "\"\"\"\n",
    "\n",
    "\n",
    "result = CIFAR10Record()\n",
    "\n",
    "# Dimensions of the images in the CIFAR-10 dataset.\n",
    "# See http://www.cs.toronto.edu/~kriz/cifar.html for a description of the\n",
    "# input format.\n",
    "label_bytes = 1  # 2 for CIFAR-100\n",
    "result.height = 32\n",
    "result.width = 32\n",
    "result.depth = 3\n",
    "image_bytes = result.height * result.width * result.depth # 3072\n",
    "\n",
    "\n",
    "\n",
    "# Every record consists of a label followed by the image, with a\n",
    "# fixed number of bytes for each.\n",
    "record_bytes = label_bytes + image_bytes #3073\n",
    "\n",
    "\n",
    "\n",
    "# Read a record, getting filenames from the filename_queue.  No\n",
    "# header or footer in the CIFAR-10 format, so we leave header_bytes\n",
    "# and footer_bytes at their default of 0.\n",
    "reader = tf.FixedLengthRecordReader(record_bytes=record_bytes)\n",
    "result.key, value = reader.read(filename_queue)\n",
    "\n",
    "\n",
    "\n",
    "# Convert from a string to a vector of uint8 that is record_bytes long.\n",
    "record_bytes = tf.decode_raw(value, tf.uint8)\n",
    "\n",
    "# The first bytes represent the label, which we convert from uint8->int32.\n",
    "result.label = tf.cast(\n",
    "  tf.slice(record_bytes, [0], [label_bytes]), tf.int32)\n",
    "\n",
    "# The remaining bytes after the label represent the image, which we reshape\n",
    "# from [depth * height * width] to [depth, height, width].\n",
    "depth_major = tf.reshape(tf.slice(record_bytes, [label_bytes], [image_bytes]),\n",
    "                       [result.depth, result.height, result.width])\n",
    "# Convert from [depth, height, width] to [height, width, depth].\n",
    "result.uint8image = tf.transpose(depth_major, [1, 2, 0])\n",
    "\n",
    "\n",
    "\n",
    "\n",
    "\n",
    "# Read examples from files in the filename queue.\n",
    "read_input = result\n",
    "reshaped_image = tf.cast(read_input.uint8image, tf.float32)\n",
    "\n",
    "\n",
    "\n",
    "height = image_size\n",
    "width = image_size\n",
    "\n",
    "# Image processing for evaluation.\n",
    "# Crop the central [height, width] of the image.\n",
    "resized_image = tf.image.resize_image_with_crop_or_pad(reshaped_image,\n",
    "                                                     width, height)\n",
    "\n",
    "# Subtract off the mean and divide by the variance of the pixels.\n",
    "float_image = tf.image.per_image_whitening(resized_image)\n",
    "\n",
    "# Ensure that the random shuffling has good mixing properties.\n",
    "\n",
    "min_queue_examples = int(num_examples_per_epoch *\n",
    "                       min_fraction_of_examples_in_queue)\n",
    "\n",
    "num_preprocess_threads = 16\n",
    "x, y_ = tf.train.shuffle_batch(\n",
    "  [float_image, read_input.label],\n",
    "  batch_size=batch_size,\n",
    "  num_threads=num_preprocess_threads,\n",
    "  capacity=min_queue_examples + 3 * batch_size,\n",
    "  min_after_dequeue=min_queue_examples)\n",
    "\n",
    "y_ = tf.reshape(y_, [batch_size])\n",
    "\n",
    "# Display the training images in the visualizer.\n",
    "tf.image_summary('images', x)\n",
    "\n"
   ]
  },
  {
   "cell_type": "code",
   "execution_count": 5,
   "metadata": {
    "collapsed": false
   },
   "outputs": [
    {
     "data": {
      "text/plain": [
       "<tf.Tensor 'Cast:0' shape=(1,) dtype=int32>"
      ]
     },
     "execution_count": 5,
     "metadata": {},
     "output_type": "execute_result"
    }
   ],
   "source": [
    "result.label"
   ]
  },
  {
   "cell_type": "code",
   "execution_count": 7,
   "metadata": {
    "collapsed": false
   },
   "outputs": [
    {
     "data": {
      "text/plain": [
       "<tf.Tensor 'Const_1:0' shape=(1,) dtype=int32>"
      ]
     },
     "execution_count": 7,
     "metadata": {},
     "output_type": "execute_result"
    }
   ],
   "source": [
    "tf.convert_to_tensor([1])"
   ]
  },
  {
   "cell_type": "code",
   "execution_count": 4,
   "metadata": {
    "collapsed": true
   },
   "outputs": [],
   "source": [
    "# Helper functions for defining networks\n",
    "def weight_variable(shape, wd):\n",
    "    initial = tf.truncated_normal(shape, stddev=0.01)\n",
    "    weight_decay = tf.mul(tf.nn.l2_loss(initial), wd)\n",
    "    tf.add_to_collection('losses', weight_decay)\n",
    "    return tf.Variable(initial)\n",
    "\n",
    "def bias_variable(shape, value):\n",
    "    initial = tf.constant(float(value), shape=shape)\n",
    "    return tf.Variable(initial)\n",
    "\n",
    "def conv2d(x, W, stride):\n",
    "    return tf.nn.conv2d(x, W, strides=[1, stride, stride, 1], padding='SAME')\n",
    "\n",
    "def max_pool_2x2(x):\n",
    "    return tf.nn.max_pool(x, ksize=[1, 2, 2, 1],\n",
    "                        strides=[1, 2, 2, 1], padding='SAME')"
   ]
  },
  {
   "cell_type": "code",
   "execution_count": 5,
   "metadata": {
    "collapsed": true
   },
   "outputs": [],
   "source": [
    "# Need to implement image resizing!!! (and maybe also various augmentations)\n",
    "# Bring from 0, 255 to 0, 1\n",
    "# Subtract mean\n",
    "# Then, bounding boxes will need re-scaled also..\n",
    "\n",
    "# Mostly, but not completely, done. Also, image means might be slightly wrong due to BGR vs RGB ordering"
   ]
  },
  {
   "cell_type": "code",
   "execution_count": null,
   "metadata": {
    "collapsed": true
   },
   "outputs": [],
   "source": [
    "\n"
   ]
  },
  {
   "cell_type": "code",
   "execution_count": 6,
   "metadata": {
    "collapsed": false
   },
   "outputs": [],
   "source": [
    "# Something like Alexnet\n",
    "sess = tf.InteractiveSession()\n",
    "\n",
    "# Placeholder for the image size\n",
    "#image_size_variable = tf.placeholder(tf.float32)\n",
    "\n",
    "# Batched input\n",
    "#x = tf.placeholder(tf.float32, shape=[None, image_size, image_size, image_depth], name=\"Input_Image_Batch\") # batch size, image size, image size, image depth\n",
    "#y_ = tf.placeholder(tf.float32, shape=[None, num_classes], name=\"Input_Classes\") # batch size, num_classes\n",
    "\n",
    "#x, y_ = inputs(cifar_dir, batch_size)\n",
    "\n",
    "# First Convolutional Layer\n",
    "# Variables\n",
    "W_conv1 = weight_variable([5, 5, image_depth, 64], 0) # filter size, filter size, input channels (image depth), output channels\n",
    "b_conv1 = bias_variable([64], 0)\n",
    "# Layers\n",
    "h_conv1 = tf.nn.relu(conv2d(x, W_conv1, stride=1) + b_conv1)\n",
    "h_pool1 = max_pool_2x2(h_conv1)\n",
    "\n",
    "# Second Convolutional Layer\n",
    "# Variables\n",
    "W_conv2 = weight_variable([5, 5, 64, 64], 0)\n",
    "b_conv2 = bias_variable([64], 0)\n",
    "# Layers\n",
    "h_conv2 = tf.nn.relu(conv2d(h_pool1, W_conv2, stride=1) + b_conv2)\n",
    "h_pool2 = max_pool_2x2(h_conv2)\n",
    "\n",
    "# They did some tricky flattening shit here - might need to do that. Might also be faster that way. jk we might already do that\n",
    "\n",
    "# Fully Connected 1\n",
    "# Weights\n",
    "W_fc1 = weight_variable([int(image_size/4) * int(image_size/4) * 64, 384], .004)\n",
    "b_fc1 = bias_variable([384], 0)\n",
    "# Layers\n",
    "h_pool5_flat = tf.reshape(h_pool2, [-1, int(image_size/4) * int(image_size/4)*64])\n",
    "h_fc1 = tf.nn.relu(tf.matmul(h_pool5_flat, W_fc1) + b_fc1)\n",
    "\n",
    "# Fully Connected 2\n",
    "# Weights\n",
    "W_fc2 = weight_variable([384, 192], .004)\n",
    "b_fc2 = bias_variable([192], 0)\n",
    "# Layers\n",
    "h_fc2 = tf.nn.relu(tf.matmul(h_fc1, W_fc2) + b_fc2)\n",
    "\n",
    "# Softmax\n",
    "# Weights\n",
    "W_fc3 = weight_variable([192, num_classes], 0)\n",
    "b_fc3 = bias_variable([num_classes], 0)\n",
    "# Layers\n",
    "softmax_linear = tf.matmul(h_fc2, W_fc3) + b_fc3\n",
    "y_conv=tf.nn.softmax(softmax_linear)\n"
   ]
  },
  {
   "cell_type": "code",
   "execution_count": 7,
   "metadata": {
    "collapsed": false
   },
   "outputs": [],
   "source": [
    "#x, w, b = sess.run([h_pool5_flat, W_fc1, b_fc1])"
   ]
  },
  {
   "cell_type": "code",
   "execution_count": 8,
   "metadata": {
    "collapsed": false
   },
   "outputs": [],
   "source": [
    "#np.dot(x, w) + b"
   ]
  },
  {
   "cell_type": "code",
   "execution_count": 9,
   "metadata": {
    "collapsed": false
   },
   "outputs": [],
   "source": [
    "# Loss function \n",
    "#cross_entropy = -tf.reduce_sum(y_*tf.log(y_conv))\n",
    "#cross_entropy = -tf.reduce_sum(tf.cast(y_, tf.float32)*tf.log(tf.clip_by_value(y_conv,1e-10,1.0))) # this fix was needed for some reason..\n",
    "cross_entropy = tf.nn.sparse_softmax_cross_entropy_with_logits(\n",
    "      softmax_linear, tf.to_int64(y_), name='cross_entropy_per_example')\n",
    "cross_entropy_mean = tf.reduce_mean(cross_entropy, name='cross_entropy_thingy')\n",
    "\n",
    "\n",
    "# Learning rate \n",
    "learning_rate = tf.placeholder(tf.float32)\n",
    "\n",
    "# Optimization Algorithm\n",
    "#train_step = tf.train.MomentumOptimizer(learning_rate, .9).minimize(cross_entropy_mean)\n",
    "train_step = tf.train.GradientDescentOptimizer(learning_rate).minimize(cross_entropy) #should be mean????\n",
    "#train_step = tf.train.AdamOptimizer(learning_rate).minimize(cross_entropy)\n",
    "\n",
    "# Accuracy function\n",
    "#correct_prediction = tf.equal(tf.argmax(y_conv,1), tf.argmax(y_,1))\n",
    "#accuracy = tf.reduce_mean(tf.cast(correct_prediction, tf.float32))\n",
    "correct_prediction = tf.nn.in_top_k(y_conv, y_, 1)\n",
    "accuracy = tf.reduce_sum(tf.cast(correct_prediction, tf.int32)) / batch_size"
   ]
  },
  {
   "cell_type": "code",
   "execution_count": 10,
   "metadata": {
    "collapsed": false
   },
   "outputs": [],
   "source": [
    "# Make summary of cross entropy loss\n",
    "tf.scalar_summary(\"cross entropy\", cross_entropy_mean)\n",
    "\n",
    "# Make a summary of training accuracy\n",
    "tf.scalar_summary(\"accuracy\", accuracy)\n",
    "\n",
    "# Learning rate summary\n",
    "tf.scalar_summary(\"learning rate\", learning_rate)\n",
    "\n",
    "# Make a bunch of histogram summaries\n",
    "tf.histogram_summary(\"image inputs\", x)\n",
    "tf.histogram_summary(\"class inputs\", y_)\n",
    "tf.histogram_summary(\"conv1_weights\", W_conv1)\n",
    "tf.histogram_summary(\"conv1_biases\", b_conv1)\n",
    "tf.histogram_summary(\"conv2_weights\", W_conv2)\n",
    "tf.histogram_summary(\"conv2_biases\", b_conv2)\n",
    "tf.histogram_summary(\"fc1_weights\", W_fc1)\n",
    "tf.histogram_summary(\"fc1_biases\", b_fc1)\n",
    "tf.histogram_summary(\"fc2_weights\", W_fc2)\n",
    "tf.histogram_summary(\"fc2_biases\", b_fc2)\n",
    "tf.histogram_summary(\"softmax_weights\", W_fc3)\n",
    "tf.histogram_summary(\"softmax_biases\", b_fc3)\n",
    "tf.histogram_summary(\"conv1_outputs\", h_conv1)\n",
    "tf.histogram_summary(\"conv2_outputs\", h_conv2)\n",
    "tf.histogram_summary(\"pool1_outputs\", h_pool1)\n",
    "tf.histogram_summary(\"pool2_outputs\", h_pool2)\n",
    "tf.histogram_summary(\"fc1_outputs\", h_fc1)\n",
    "tf.histogram_summary(\"fc2_outputs\", h_fc2)\n",
    "tf.histogram_summary(\"softmax_linear_outputs\", softmax_linear)\n",
    "tf.histogram_summary(\"final_predictions\", y_conv)\n",
    "\n",
    "# Merge all the summaries and write them out to /tmp/mnist_logs\n",
    "merged = tf.merge_all_summaries()\n"
   ]
  },
  {
   "cell_type": "code",
   "execution_count": 11,
   "metadata": {
    "collapsed": true
   },
   "outputs": [],
   "source": [
    "# Fix log directory name"
   ]
  },
  {
   "cell_type": "code",
   "execution_count": 12,
   "metadata": {
    "collapsed": false
   },
   "outputs": [],
   "source": [
    "sess.run(tf.initialize_all_variables())\n",
    "tf.train.start_queue_runners(sess=sess)\n",
    "i = 0\n",
    "save_name = \"cifar_7\"\n",
    "writer = tf.train.SummaryWriter(home_dir + \"projects/deep_learning/tensorflow/tmp/alexnet_logs/\"+save_name, sess.graph_def, flush_secs=10)\n",
    "#saver = tf.train.Saver()"
   ]
  },
  {
   "cell_type": "code",
   "execution_count": null,
   "metadata": {
    "collapsed": false
   },
   "outputs": [],
   "source": []
  },
  {
   "cell_type": "code",
   "execution_count": null,
   "metadata": {
    "collapsed": false
   },
   "outputs": [],
   "source": []
  },
  {
   "cell_type": "code",
   "execution_count": 19,
   "metadata": {
    "collapsed": false,
    "scrolled": true
   },
   "outputs": [
    {
     "name": "stdout",
     "output_type": "stream",
     "text": [
      "Accuracy at step 10605: 1.0\n",
      "Accuracy at step 10610: 1.0\n",
      "Accuracy at step 10615: 1.0\n",
      "Accuracy at step 10620: 1.0\n",
      "Accuracy at step 10625: 1.0\n",
      "Accuracy at step 10630: 1.0\n",
      "Accuracy at step 10635: 1.0\n",
      "Accuracy at step 10640: 1.0\n",
      "Accuracy at step 10645: 1.0\n",
      "Accuracy at step 10650: 1.0\n",
      "Accuracy at step 10655: 1.0\n",
      "Accuracy at step 10660: 1.0\n",
      "Accuracy at step 10665: 1.0\n",
      "Accuracy at step 10670: 1.0\n",
      "Accuracy at step 10675: 1.0\n",
      "Accuracy at step 10680: 1.0\n",
      "Accuracy at step 10685: 1.0\n",
      "Accuracy at step 10690: 1.0\n",
      "Accuracy at step 10695: 1.0\n",
      "Accuracy at step 10700: 1.0\n",
      "Accuracy at step 10705: 1.0\n",
      "Accuracy at step 10710: 1.0\n",
      "Accuracy at step 10715: 1.0\n",
      "Accuracy at step 10720: 1.0\n",
      "Accuracy at step 10725: 1.0\n",
      "Accuracy at step 10730: 1.0\n",
      "Accuracy at step 10735: 1.0\n"
     ]
    },
    {
     "ename": "KeyboardInterrupt",
     "evalue": "",
     "output_type": "error",
     "traceback": [
      "\u001b[1;31m---------------------------------------------------------------------------\u001b[0m",
      "\u001b[1;31mKeyboardInterrupt\u001b[0m                         Traceback (most recent call last)",
      "\u001b[1;32m<ipython-input-19-f4d5917b66e7>\u001b[0m in \u001b[0;36m<module>\u001b[1;34m()\u001b[0m\n\u001b[0;32m      6\u001b[0m     \u001b[1;32mif\u001b[0m \u001b[0mi\u001b[0m\u001b[1;33m%\u001b[0m\u001b[1;36m5\u001b[0m \u001b[1;33m==\u001b[0m \u001b[1;36m0\u001b[0m\u001b[1;33m:\u001b[0m\u001b[1;33m\u001b[0m\u001b[0m\n\u001b[0;32m      7\u001b[0m         summary, accuracy_value = sess.run([merged, accuracy], \n\u001b[1;32m----> 8\u001b[1;33m                     feed_dict={learning_rate: learning_rate_value})\n\u001b[0m\u001b[0;32m      9\u001b[0m         \u001b[0mwriter\u001b[0m\u001b[1;33m.\u001b[0m\u001b[0madd_summary\u001b[0m\u001b[1;33m(\u001b[0m\u001b[0msummary\u001b[0m\u001b[1;33m,\u001b[0m \u001b[0mi\u001b[0m\u001b[1;33m)\u001b[0m\u001b[1;33m\u001b[0m\u001b[0m\n\u001b[0;32m     10\u001b[0m         \u001b[0mprint\u001b[0m\u001b[1;33m(\u001b[0m\u001b[1;34m\"Accuracy at step %s: %s\"\u001b[0m \u001b[1;33m%\u001b[0m \u001b[1;33m(\u001b[0m\u001b[0mi\u001b[0m\u001b[1;33m,\u001b[0m \u001b[0maccuracy_value\u001b[0m\u001b[1;33m)\u001b[0m\u001b[1;33m)\u001b[0m\u001b[1;33m\u001b[0m\u001b[0m\n",
      "\u001b[1;32m/home/ubuntu/venv/standard/lib/python3.4/site-packages/tensorflow/python/client/session.py\u001b[0m in \u001b[0;36mrun\u001b[1;34m(self, fetches, feed_dict)\u001b[0m\n\u001b[0;32m    313\u001b[0m         \u001b[0;31m`\u001b[0m\u001b[0mTensor\u001b[0m\u001b[0;31m`\u001b[0m \u001b[0mthat\u001b[0m \u001b[0mdoesn\u001b[0m\u001b[0;31m'\u001b[0m\u001b[0mt\u001b[0m \u001b[0mexist\u001b[0m\u001b[1;33m.\u001b[0m\u001b[1;33m\u001b[0m\u001b[0m\n\u001b[0;32m    314\u001b[0m     \"\"\"\n\u001b[1;32m--> 315\u001b[1;33m     \u001b[1;32mreturn\u001b[0m \u001b[0mself\u001b[0m\u001b[1;33m.\u001b[0m\u001b[0m_run\u001b[0m\u001b[1;33m(\u001b[0m\u001b[1;32mNone\u001b[0m\u001b[1;33m,\u001b[0m \u001b[0mfetches\u001b[0m\u001b[1;33m,\u001b[0m \u001b[0mfeed_dict\u001b[0m\u001b[1;33m)\u001b[0m\u001b[1;33m\u001b[0m\u001b[0m\n\u001b[0m\u001b[0;32m    316\u001b[0m \u001b[1;33m\u001b[0m\u001b[0m\n\u001b[0;32m    317\u001b[0m   \u001b[1;32mdef\u001b[0m \u001b[0mpartial_run\u001b[0m\u001b[1;33m(\u001b[0m\u001b[0mself\u001b[0m\u001b[1;33m,\u001b[0m \u001b[0mhandle\u001b[0m\u001b[1;33m,\u001b[0m \u001b[0mfetches\u001b[0m\u001b[1;33m,\u001b[0m \u001b[0mfeed_dict\u001b[0m\u001b[1;33m=\u001b[0m\u001b[1;32mNone\u001b[0m\u001b[1;33m)\u001b[0m\u001b[1;33m:\u001b[0m\u001b[1;33m\u001b[0m\u001b[0m\n",
      "\u001b[1;32m/home/ubuntu/venv/standard/lib/python3.4/site-packages/tensorflow/python/client/session.py\u001b[0m in \u001b[0;36m_run\u001b[1;34m(self, handle, fetches, feed_dict)\u001b[0m\n\u001b[0;32m    509\u001b[0m     \u001b[1;31m# Run request and get response.\u001b[0m\u001b[1;33m\u001b[0m\u001b[1;33m\u001b[0m\u001b[0m\n\u001b[0;32m    510\u001b[0m     results = self._do_run(handle, target_list, unique_fetches,\n\u001b[1;32m--> 511\u001b[1;33m                            feed_dict_string)\n\u001b[0m\u001b[0;32m    512\u001b[0m \u001b[1;33m\u001b[0m\u001b[0m\n\u001b[0;32m    513\u001b[0m     \u001b[1;31m# User may have fetched the same tensor multiple times, but we\u001b[0m\u001b[1;33m\u001b[0m\u001b[1;33m\u001b[0m\u001b[0m\n",
      "\u001b[1;32m/home/ubuntu/venv/standard/lib/python3.4/site-packages/tensorflow/python/client/session.py\u001b[0m in \u001b[0;36m_do_run\u001b[1;34m(self, handle, target_list, fetch_list, feed_dict)\u001b[0m\n\u001b[0;32m    562\u001b[0m     \u001b[1;32mif\u001b[0m \u001b[0mhandle\u001b[0m \u001b[1;32mis\u001b[0m \u001b[1;32mNone\u001b[0m\u001b[1;33m:\u001b[0m\u001b[1;33m\u001b[0m\u001b[0m\n\u001b[0;32m    563\u001b[0m       return self._do_call(_run_fn, self._session, feed_dict, fetch_list,\n\u001b[1;32m--> 564\u001b[1;33m                            target_list)\n\u001b[0m\u001b[0;32m    565\u001b[0m     \u001b[1;32melse\u001b[0m\u001b[1;33m:\u001b[0m\u001b[1;33m\u001b[0m\u001b[0m\n\u001b[0;32m    566\u001b[0m       return self._do_call(_prun_fn, self._session, handle, feed_dict,\n",
      "\u001b[1;32m/home/ubuntu/venv/standard/lib/python3.4/site-packages/tensorflow/python/client/session.py\u001b[0m in \u001b[0;36m_do_call\u001b[1;34m(self, fn, *args)\u001b[0m\n\u001b[0;32m    569\u001b[0m   \u001b[1;32mdef\u001b[0m \u001b[0m_do_call\u001b[0m\u001b[1;33m(\u001b[0m\u001b[0mself\u001b[0m\u001b[1;33m,\u001b[0m \u001b[0mfn\u001b[0m\u001b[1;33m,\u001b[0m \u001b[1;33m*\u001b[0m\u001b[0margs\u001b[0m\u001b[1;33m)\u001b[0m\u001b[1;33m:\u001b[0m\u001b[1;33m\u001b[0m\u001b[0m\n\u001b[0;32m    570\u001b[0m     \u001b[1;32mtry\u001b[0m\u001b[1;33m:\u001b[0m\u001b[1;33m\u001b[0m\u001b[0m\n\u001b[1;32m--> 571\u001b[1;33m       \u001b[1;32mreturn\u001b[0m \u001b[0mfn\u001b[0m\u001b[1;33m(\u001b[0m\u001b[1;33m*\u001b[0m\u001b[0margs\u001b[0m\u001b[1;33m)\u001b[0m\u001b[1;33m\u001b[0m\u001b[0m\n\u001b[0m\u001b[0;32m    572\u001b[0m     \u001b[1;32mexcept\u001b[0m \u001b[0mtf_session\u001b[0m\u001b[1;33m.\u001b[0m\u001b[0mStatusNotOK\u001b[0m \u001b[1;32mas\u001b[0m \u001b[0me\u001b[0m\u001b[1;33m:\u001b[0m\u001b[1;33m\u001b[0m\u001b[0m\n\u001b[0;32m    573\u001b[0m       \u001b[0me_type\u001b[0m\u001b[1;33m,\u001b[0m \u001b[0me_value\u001b[0m\u001b[1;33m,\u001b[0m \u001b[0me_traceback\u001b[0m \u001b[1;33m=\u001b[0m \u001b[0msys\u001b[0m\u001b[1;33m.\u001b[0m\u001b[0mexc_info\u001b[0m\u001b[1;33m(\u001b[0m\u001b[1;33m)\u001b[0m\u001b[1;33m\u001b[0m\u001b[0m\n",
      "\u001b[1;32m/home/ubuntu/venv/standard/lib/python3.4/site-packages/tensorflow/python/client/session.py\u001b[0m in \u001b[0;36m_run_fn\u001b[1;34m(session, feed_dict, fetch_list, target_list)\u001b[0m\n\u001b[0;32m    553\u001b[0m       \u001b[1;31m# Ensure any changes to the graph are reflected in the runtime.\u001b[0m\u001b[1;33m\u001b[0m\u001b[1;33m\u001b[0m\u001b[0m\n\u001b[0;32m    554\u001b[0m       \u001b[0mself\u001b[0m\u001b[1;33m.\u001b[0m\u001b[0m_extend_graph\u001b[0m\u001b[1;33m(\u001b[0m\u001b[1;33m)\u001b[0m\u001b[1;33m\u001b[0m\u001b[0m\n\u001b[1;32m--> 555\u001b[1;33m       \u001b[1;32mreturn\u001b[0m \u001b[0mtf_session\u001b[0m\u001b[1;33m.\u001b[0m\u001b[0mTF_Run\u001b[0m\u001b[1;33m(\u001b[0m\u001b[0msession\u001b[0m\u001b[1;33m,\u001b[0m \u001b[0mfeed_dict\u001b[0m\u001b[1;33m,\u001b[0m \u001b[0mfetch_list\u001b[0m\u001b[1;33m,\u001b[0m \u001b[0mtarget_list\u001b[0m\u001b[1;33m)\u001b[0m\u001b[1;33m\u001b[0m\u001b[0m\n\u001b[0m\u001b[0;32m    556\u001b[0m \u001b[1;33m\u001b[0m\u001b[0m\n\u001b[0;32m    557\u001b[0m     \u001b[1;32mdef\u001b[0m \u001b[0m_prun_fn\u001b[0m\u001b[1;33m(\u001b[0m\u001b[0msession\u001b[0m\u001b[1;33m,\u001b[0m \u001b[0mhandle\u001b[0m\u001b[1;33m,\u001b[0m \u001b[0mfeed_dict\u001b[0m\u001b[1;33m,\u001b[0m \u001b[0mfetch_list\u001b[0m\u001b[1;33m)\u001b[0m\u001b[1;33m:\u001b[0m\u001b[1;33m\u001b[0m\u001b[0m\n",
      "\u001b[1;31mKeyboardInterrupt\u001b[0m: "
     ]
    }
   ],
   "source": [
    "learning_rate_value = .0001\n",
    "dropout = .5\n",
    "\n",
    "while(True):\n",
    "    i += 1\n",
    "    if i%5 == 0:\n",
    "        summary, accuracy_value = sess.run([merged, accuracy], \n",
    "                    feed_dict={learning_rate: learning_rate_value})\n",
    "        writer.add_summary(summary, i)\n",
    "        print(\"Accuracy at step %s: %s\" % (i, accuracy_value))\n",
    "    else:\n",
    "        train_step.run(feed_dict={learning_rate: learning_rate_value})"
   ]
  },
  {
   "cell_type": "code",
   "execution_count": 15,
   "metadata": {
    "collapsed": false
   },
   "outputs": [],
   "source": [
    "saver = tf.train.Saver()"
   ]
  },
  {
   "cell_type": "code",
   "execution_count": 21,
   "metadata": {
    "collapsed": false
   },
   "outputs": [
    {
     "name": "stdout",
     "output_type": "stream",
     "text": [
      "Model saved in file: tmp/checkpoints/cifar_7_1.ckpt\n"
     ]
    }
   ],
   "source": [
    "# Save weights to file\n",
    "save_number = 1\n",
    "save_path = saver.save(sess, \"tmp/checkpoints/{save_name}_{save_number}.ckpt\".format(save_name=save_name, save_number=save_number))\n",
    "print(\"Model saved in file: %s\" % save_path)"
   ]
  },
  {
   "cell_type": "code",
   "execution_count": null,
   "metadata": {
    "collapsed": true
   },
   "outputs": [],
   "source": [
    "# Restore weights from file\n",
    "#saver.restore(sess, \"/tmp/model.ckpt\")"
   ]
  },
  {
   "cell_type": "code",
   "execution_count": null,
   "metadata": {
    "collapsed": true
   },
   "outputs": [],
   "source": [
    "# TODOS\n",
    "# Weight decay, batch normalization, bigger network, different filter sizes, inception filters\n",
    "# sgd with momentum seems standard"
   ]
  },
  {
   "cell_type": "code",
   "execution_count": null,
   "metadata": {
    "collapsed": true
   },
   "outputs": [],
   "source": []
  },
  {
   "cell_type": "code",
   "execution_count": null,
   "metadata": {
    "collapsed": true
   },
   "outputs": [],
   "source": []
  },
  {
   "cell_type": "code",
   "execution_count": null,
   "metadata": {
    "collapsed": true
   },
   "outputs": [],
   "source": []
  },
  {
   "cell_type": "code",
   "execution_count": null,
   "metadata": {
    "collapsed": true
   },
   "outputs": [],
   "source": []
  },
  {
   "cell_type": "code",
   "execution_count": null,
   "metadata": {
    "collapsed": true
   },
   "outputs": [],
   "source": []
  },
  {
   "cell_type": "code",
   "execution_count": null,
   "metadata": {
    "collapsed": true
   },
   "outputs": [],
   "source": []
  },
  {
   "cell_type": "code",
   "execution_count": null,
   "metadata": {
    "collapsed": true
   },
   "outputs": [],
   "source": [
    "def inputs(data_dir, batch_size):\n",
    "    \"\"\"Construct input for CIFAR evaluation using the Reader ops.\n",
    "    Args:\n",
    "    data_dir: Path to the CIFAR-10 data directory.\n",
    "    batch_size: Number of images per batch.\n",
    "    Returns:\n",
    "    images: Images. 4D tensor of [batch_size, IMAGE_SIZE, IMAGE_SIZE, 3] size.\n",
    "    labels: Labels. 1D tensor of [batch_size] size.\n",
    "    \"\"\"\n",
    "    \n",
    "    filenames = [os.path.join(data_dir, 'data_batch_%d.bin' % i)\n",
    "                 for i in range(1, 6)]\n",
    "    num_examples_per_epoch = NUM_EXAMPLES_PER_EPOCH_FOR_TRAIN\n",
    "    \n",
    "    for f in filenames:\n",
    "        if not tf.gfile.Exists(f):\n",
    "            raise ValueError('Failed to find file: ' + f)\n",
    "\n",
    "    # Create a queue that produces the filenames to read.\n",
    "    filename_queue = tf.train.string_input_producer(filenames)\n",
    "\n",
    "    # Read examples from files in the filename queue.\n",
    "    read_input = read_cifar10(filename_queue)\n",
    "    reshaped_image = tf.cast(read_input.uint8image, tf.float32)\n",
    "\n",
    "    height = image_size\n",
    "    width = image_size\n",
    "\n",
    "    # Image processing for evaluation.\n",
    "    # Crop the central [height, width] of the image.\n",
    "    resized_image = tf.image.resize_image_with_crop_or_pad(reshaped_image,\n",
    "                                                         width, height)\n",
    "\n",
    "    # Subtract off the mean and divide by the variance of the pixels.\n",
    "    float_image = tf.image.per_image_whitening(resized_image)\n",
    "\n",
    "    # Ensure that the random shuffling has good mixing properties.\n",
    "    \n",
    "    min_queue_examples = int(num_examples_per_epoch *\n",
    "                           min_fraction_of_examples_in_queue)\n",
    "\n",
    "    # Generate a batch of images and labels by building up a queue of examples.\n",
    "    return _generate_image_and_label_batch(float_image, read_input.label,\n",
    "                                         min_queue_examples, batch_size)"
   ]
  },
  {
   "cell_type": "code",
   "execution_count": null,
   "metadata": {
    "collapsed": true
   },
   "outputs": [],
   "source": [
    "def read_cifar10(filename_queue):\n",
    "    \"\"\"Reads and parses examples from CIFAR10 data files.\n",
    "    Recommendation: if you want N-way read parallelism, call this function\n",
    "    N times.  This will give you N independent Readers reading different\n",
    "    files & positions within those files, which will give better mixing of\n",
    "    examples.\n",
    "    Args:\n",
    "    filename_queue: A queue of strings with the filenames to read from.\n",
    "    Returns:\n",
    "    An object representing a single example, with the following fields:\n",
    "      height: number of rows in the result (32)\n",
    "      width: number of columns in the result (32)\n",
    "      depth: number of color channels in the result (3)\n",
    "      key: a scalar string Tensor describing the filename & record number\n",
    "        for this example.\n",
    "      label: an int32 Tensor with the label in the range 0..9.\n",
    "      uint8image: a [height, width, depth] uint8 Tensor with the image data\n",
    "    \"\"\"\n",
    "    class CIFAR10Record(object):\n",
    "        pass\n",
    "    result = CIFAR10Record()\n",
    "\n",
    "    # Dimensions of the images in the CIFAR-10 dataset.\n",
    "    # See http://www.cs.toronto.edu/~kriz/cifar.html for a description of the\n",
    "    # input format.\n",
    "    label_bytes = 1  # 2 for CIFAR-100\n",
    "    result.height = 32\n",
    "    result.width = 32\n",
    "    result.depth = 3\n",
    "    image_bytes = result.height * result.width * result.depth\n",
    "    # Every record consists of a label followed by the image, with a\n",
    "    # fixed number of bytes for each.\n",
    "    record_bytes = label_bytes + image_bytes\n",
    "\n",
    "    # Read a record, getting filenames from the filename_queue.  No\n",
    "    # header or footer in the CIFAR-10 format, so we leave header_bytes\n",
    "    # and footer_bytes at their default of 0.\n",
    "    reader = tf.FixedLengthRecordReader(record_bytes=record_bytes)\n",
    "    result.key, value = reader.read(filename_queue)\n",
    "\n",
    "    # Convert from a string to a vector of uint8 that is record_bytes long.\n",
    "    record_bytes = tf.decode_raw(value, tf.uint8)\n",
    "\n",
    "    # The first bytes represent the label, which we convert from uint8->int32.\n",
    "    result.label = tf.cast(\n",
    "      tf.slice(record_bytes, [0], [label_bytes]), tf.int32)\n",
    "\n",
    "    # The remaining bytes after the label represent the image, which we reshape\n",
    "    # from [depth * height * width] to [depth, height, width].\n",
    "    depth_major = tf.reshape(tf.slice(record_bytes, [label_bytes], [image_bytes]),\n",
    "                           [result.depth, result.height, result.width])\n",
    "    # Convert from [depth, height, width] to [height, width, depth].\n",
    "    result.uint8image = tf.transpose(depth_major, [1, 2, 0])\n",
    "\n",
    "    return result\n"
   ]
  },
  {
   "cell_type": "code",
   "execution_count": null,
   "metadata": {
    "collapsed": true
   },
   "outputs": [],
   "source": [
    "\n",
    "def _generate_image_and_label_batch(image, label, min_queue_examples,\n",
    "                                    batch_size):\n",
    "    \"\"\"Construct a queued batch of images and labels.\n",
    "    Args:\n",
    "    image: 3-D Tensor of [height, width, 3] of type.float32.\n",
    "    label: 1-D Tensor of type.int32\n",
    "    min_queue_examples: int32, minimum number of samples to retain\n",
    "      in the queue that provides of batches of examples.\n",
    "    batch_size: Number of images per batch.\n",
    "    Returns:\n",
    "    images: Images. 4D tensor of [batch_size, height, width, 3] size.\n",
    "    labels: Labels. 1D tensor of [batch_size] size.\n",
    "    \"\"\"\n",
    "    # Create a queue that shuffles the examples, and then\n",
    "    # read 'batch_size' images + labels from the example queue.\n",
    "    num_preprocess_threads = 16\n",
    "    images, label_batch = tf.train.shuffle_batch(\n",
    "      [image, label],\n",
    "      batch_size=batch_size,\n",
    "      num_threads=num_preprocess_threads,\n",
    "      capacity=min_queue_examples + 3 * batch_size,\n",
    "      #min_after_dequeue=min_queue_examples\n",
    "        min_after_dequeue=1)\n",
    "\n",
    "    # Display the training images in the visualizer.\n",
    "    tf.image_summary('images', images)\n",
    "\n",
    "    #return images, tf.reshape(label_batch, [batch_size])\n",
    "    return images, label_batch"
   ]
  }
 ],
 "metadata": {
  "kernelspec": {
   "display_name": "Python 3",
   "language": "python",
   "name": "python3"
  },
  "language_info": {
   "codemirror_mode": {
    "name": "ipython",
    "version": 3
   },
   "file_extension": ".py",
   "mimetype": "text/x-python",
   "name": "python",
   "nbconvert_exporter": "python",
   "pygments_lexer": "ipython3",
   "version": "3.4.3"
  }
 },
 "nbformat": 4,
 "nbformat_minor": 0
}
