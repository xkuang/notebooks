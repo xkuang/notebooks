{
 "cells": [
  {
   "cell_type": "code",
   "execution_count": 1,
   "metadata": {
    "collapsed": false
   },
   "outputs": [
    {
     "name": "stdout",
     "output_type": "stream",
     "text": [
      "I tensorflow/stream_executor/dso_loader.cc:105] successfully opened CUDA library libcublas.so locally\n",
      "I tensorflow/stream_executor/dso_loader.cc:105] successfully opened CUDA library libcudnn.so locally\n",
      "I tensorflow/stream_executor/dso_loader.cc:105] successfully opened CUDA library libcufft.so locally\n",
      "I tensorflow/stream_executor/dso_loader.cc:105] successfully opened CUDA library libcuda.so locally\n",
      "I tensorflow/stream_executor/dso_loader.cc:105] successfully opened CUDA library libcurand.so locally\n",
      "Traceback (most recent call last):\n",
      "  File \"/home/ubuntu/venv/standard/bin/tensorboard\", line 7, in <module>\n",
      "    from tensorflow.tensorboard.backend.tensorboard import main\n",
      "ImportError: No module named 'tensorflow.tensorboard.backend.tensorboard'\n"
     ]
    }
   ],
   "source": [
    "!tensorboard --logdir=/tmp/mnist_logs"
   ]
  },
  {
   "cell_type": "code",
   "execution_count": null,
   "metadata": {
    "collapsed": true
   },
   "outputs": [],
   "source": []
  }
 ],
 "metadata": {
  "kernelspec": {
   "display_name": "Python 3",
   "language": "python",
   "name": "python3"
  },
  "language_info": {
   "codemirror_mode": {
    "name": "ipython",
    "version": 3
   },
   "file_extension": ".py",
   "mimetype": "text/x-python",
   "name": "python",
   "nbconvert_exporter": "python",
   "pygments_lexer": "ipython3",
   "version": "3.4.3"
  }
 },
 "nbformat": 4,
 "nbformat_minor": 0
}
