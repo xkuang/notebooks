{
 "cells": [
  {
   "cell_type": "code",
   "execution_count": 1,
   "metadata": {
    "collapsed": false
   },
   "outputs": [
    {
     "name": "stderr",
     "output_type": "stream",
     "text": [
      "ERROR (theano.sandbox.cuda): nvcc compiler not found on $PATH. Check your nvcc installation and try again.\n",
      "ERROR:theano.sandbox.cuda:nvcc compiler not found on $PATH. Check your nvcc installation and try again.\n"
     ]
    },
    {
     "name": "stdout",
     "output_type": "stream",
     "text": [
      "Couldn't import dot_parser, loading of dot files will not be possible.\n"
     ]
    }
   ],
   "source": [
    "import glob\n",
    "import pybrain\n",
    "from pybrain.structure import FeedForwardNetwork\n",
    "from pybrain.structure import LinearLayer, SigmoidLayer\n",
    "from pybrain.structure import FullConnection\n",
    "from pybrain.datasets import SupervisedDataSet\n",
    "from pybrain.supervised.trainers import BackpropTrainer\n",
    "import matplotlib.pyplot as plt\n",
    "import datetime\n",
    "%matplotlib inline\n",
    "import random\n",
    "import ast\n",
    "import time\n",
    "import sqlalchemy\n",
    "from sqlalchemy import *\n",
    "from sqlalchemy import event\n",
    "import sqlite3\n",
    "from sqlalchemy.ext.declarative import declarative_base\n",
    "from sqlalchemy.orm import *\n",
    "import urllib2\n",
    "import urllib\n",
    "import json\n",
    "import glob\n",
    "import pprint\n",
    "import dateutil.parser\n",
    "import pprint\n",
    "import re\n",
    "from sklearn import linear_model, datasets\n",
    "import time\n",
    "from sklearn.naive_bayes import GaussianNB\n",
    "import nltk\n",
    "from collections import defaultdict\n",
    "from sklearn import svm\n",
    "pp = pprint.PrettyPrinter(indent=4)\n",
    "\n",
    "\n",
    "import numpy\n",
    "import time\n",
    "import sqlalchemy\n",
    "from sqlalchemy import *\n",
    "from sqlalchemy import event\n",
    "from sqlalchemy.dialects.mysql import LONGTEXT\n",
    "import sqlite3\n",
    "from sqlalchemy.ext.declarative import declarative_base\n",
    "from sqlalchemy.orm import *\n",
    "import urllib2\n",
    "import urllib\n",
    "import json\n",
    "import pprint\n",
    "import dateutil.parser\n",
    "import gevent\n",
    "import datetime\n",
    "import marshal\n",
    "\n",
    "import re, math, collections, itertools\n",
    "import nltk, nltk.classify.util, nltk.metrics\n",
    "from nltk.classify import NaiveBayesClassifier\n",
    "from nltk.metrics import BigramAssocMeasures\n",
    "from nltk.probability import FreqDist, ConditionalFreqDist\n",
    "import numpy as np\n",
    "import csv\n",
    "import re\n",
    "import nltk.classify.util\n",
    "from nltk.classify import NaiveBayesClassifier\n",
    "from nltk.corpus import movie_reviews\n",
    "from sklearn.svm import LinearSVC\n",
    "from nltk.classify.scikitlearn import SklearnClassifier\n",
    "import os\n",
    "import copy\n",
    "\n",
    "from __future__ import division  # Python 2 users only\n",
    "import nltk, re, pprint\n",
    "from nltk import word_tokenize\n",
    "\n",
    "from nltk.stem import WordNetLemmatizer\n",
    "wnl = WordNetLemmatizer()\n",
    "from nltk.corpus import wordnet as wn\n",
    "from difflib import get_close_matches as gcm\n",
    "from gensim.models.word2vec import Word2Vec\n",
    "from pyemd import emd\n",
    "import numpy as np\n",
    "import math\n",
    "from parse import *\n",
    "from sympy import *\n",
    "#init_printing(use_unicode=True)\n",
    "from funcy import *\n",
    "import urllib2\n",
    "\n",
    "import os\n",
    "from nltk.parse import stanford\n",
    "import pydot\n",
    "from nltk.stem.wordnet import WordNetLemmatizer"
   ]
  },
  {
   "cell_type": "markdown",
   "metadata": {},
   "source": [
    "does it even matter if the computer understands the meaning of a word?\n",
    "\n",
    "Goal: convert natural language passage (temporal? ie story?) to an alternative structure that can then be read and used for summarization (as a (hard) example)."
   ]
  },
  {
   "cell_type": "code",
   "execution_count": null,
   "metadata": {
    "collapsed": true
   },
   "outputs": [],
   "source": []
  },
  {
   "cell_type": "code",
   "execution_count": 99,
   "metadata": {
    "collapsed": false
   },
   "outputs": [],
   "source": [
    "raw = u\"\"\"10 + x is 5 more than 10. What is the value of 2x?\"\"\"\n",
    "raw = u\"\"\"Bob is larger than Suzy. What is the value of 2x?\"\"\"\n",
    "#raw = u\"\"\"If tree is 5 more than 10, what is the value of bob?\"\"\""
   ]
  },
  {
   "cell_type": "code",
   "execution_count": 100,
   "metadata": {
    "collapsed": false
   },
   "outputs": [],
   "source": [
    "# Not used, functions kept for reference\n",
    "tokens = word_tokenize(raw)\n",
    "text = nltk.Text(tokens)\n",
    "tags = nltk.pos_tag(text)\n",
    "\n",
    "def ie_preprocess(document):\n",
    "    sentences = nltk.sent_tokenize(document)\n",
    "    sentences = [nltk.word_tokenize(sent) for sent in sentences]\n",
    "    sentences = [nltk.pos_tag(sent) for sent in sentences]\n",
    "    return sentences"
   ]
  },
  {
   "cell_type": "code",
   "execution_count": 101,
   "metadata": {
    "collapsed": false
   },
   "outputs": [],
   "source": [
    "# Divide raw text into sentences\n",
    "sentences = nltk.sent_tokenize(raw)"
   ]
  },
  {
   "cell_type": "code",
   "execution_count": 102,
   "metadata": {
    "collapsed": false
   },
   "outputs": [
    {
     "data": {
      "text/plain": [
       "[u'Bob is larger than Suzy.', u'What is the value of 2x?']"
      ]
     },
     "execution_count": 102,
     "metadata": {},
     "output_type": "execute_result"
    }
   ],
   "source": [
    "sentences[:2]"
   ]
  },
  {
   "cell_type": "code",
   "execution_count": 103,
   "metadata": {
    "collapsed": false
   },
   "outputs": [],
   "source": [
    "# Load up the Stanford Parser. DOESN\"T DO DEPENDENCY TREES (so not currently used)\n",
    "os.environ['STANFORD_PARSER'] = '/home/ubuntu/projects/sat/stanford_parser'\n",
    "os.environ['STANFORD_MODELS'] = '/home/ubuntu/projects/sat/stanford_parser'\n",
    "\n",
    "parser = stanford.StanfordParser(model_path=\"/home/ubuntu/projects/sat/stanford_parser/englishPCFG.ser.gz\")\n",
    "#parsed_sentences = parser.raw_parse_sents((\"Once upon a time, there were three little pigs who went off to build their houses.\", \"The first little pig built his house of straw, which was not very strong.\"))\n",
    "parsed_sentences = parser.raw_parse_sents(sentences)"
   ]
  },
  {
   "cell_type": "code",
   "execution_count": 104,
   "metadata": {
    "collapsed": true
   },
   "outputs": [],
   "source": [
    "# Functions for Stanford Parsing dependency trees. Requires node server running.\n",
    "def process_word(word) :\n",
    "    return ''.join(ch for ch in word.lower() if ch.isalpha() or ch=='-')\n",
    "\n",
    "def get_stanford_parse(sentence):\n",
    "    #if sentence in parsed_sents :\n",
    "    #    return parsed_sents[sentence]\n",
    "    response = urllib2.urlopen(\"http://localhost:3000?sentence=\"+sentence.replace(' ','+')).read().replace('\\n',' ')\n",
    "    components = parse('[{}]  [{}] {}', response)\n",
    "    parts = components[0].split(', ')\n",
    "    pos={}\n",
    "    for i in range(len(parts)) :\n",
    "        word_and_pos = parse('{}/{}',parts[i].lower())\n",
    "        pos[ process_word(word_and_pos[0])+'-'+str(i+1) ] = word_and_pos[1]\n",
    "    deps = components[1]\n",
    "    deps = deps.replace('),',')),').split('), ')\n",
    "    deps = [parse('{}({}, {})',dep).fixed for dep in deps]\n",
    "    deps = [(dep[0],dep[1][:dep[1].rfind('-')],dep[1][dep[1].rfind('-')+1:],dep[2][:dep[2].rfind('-')],dep[2][dep[2].rfind('-')+1:]) for dep in deps]\n",
    "    labeled_deps = [(dep[0],process_word(dep[1]),dep[2],process_word(dep[3]),dep[4]) for dep in deps]\n",
    "    deps = [(dep[0],process_word(dep[1]),process_word(dep[3])) for dep in deps]\n",
    "    tree = components[2][:components[2].rfind('-')]\n",
    "    tree = ' '.join(tree.split())\n",
    "    p = components[2][components[2].rfind('-'):]\n",
    "    #tree = response[end1+1:end2]\n",
    "    #tree = ' '.join(tree.split())\n",
    "    #p = float(response[end2:])\n",
    "    #parsed_sents[sentence]=(deps,tree,p)\n",
    "    #return (pos,deps,labeled_deps,tree,p)\n",
    "    return labeled_deps"
   ]
  },
  {
   "cell_type": "code",
   "execution_count": 105,
   "metadata": {
    "collapsed": false
   },
   "outputs": [],
   "source": [
    "# Parse dependency tree\n",
    "parsed_sentence = get_stanford_parse(sentences[0])"
   ]
  },
  {
   "cell_type": "code",
   "execution_count": 106,
   "metadata": {
    "collapsed": false
   },
   "outputs": [
    {
     "name": "stdout",
     "output_type": "stream",
     "text": [
      "[('nsubj', 'larger', '3', 'bob', '1'), ('cop', 'larger', '3', 'is', '2'), ('root', 'root', '0', 'larger', '3'), ('prep_than', 'larger', '3', 'suzy', '5')]\n"
     ]
    }
   ],
   "source": [
    "print parsed_sentence"
   ]
  },
  {
   "cell_type": "code",
   "execution_count": 107,
   "metadata": {
    "collapsed": false
   },
   "outputs": [],
   "source": [
    "# Convert Dependency Tree to graphical png\n",
    "def draw_dep_tree(original_sentence, parsed_sentence):\n",
    "    print original_sentence\n",
    "    graph = pydot.Dot(graph_type='digraph',font='verdana')\n",
    "    for item in parsed_sentence:\n",
    "        if item[0] == \"root\":\n",
    "            node = pydot.Node(item[3] + \" \" + item[4], style = \"filled\")\n",
    "            graph.add_node(node)\n",
    "        else:\n",
    "            node = pydot.Node(item[3] + \" \" + item[4])\n",
    "            graph.add_node(node)\n",
    "    for item in parsed_sentence:\n",
    "        if item[1] != \"root\":\n",
    "            graph.add_edge(pydot.Edge(item[1] + \" \" + item[2], item[3] + \" \" + item[4], label = item[0]))\n",
    "\n",
    "    graph.write_png('dep_tree.png',prog='dot')"
   ]
  },
  {
   "cell_type": "code",
   "execution_count": 108,
   "metadata": {
    "collapsed": false
   },
   "outputs": [
    {
     "name": "stdout",
     "output_type": "stream",
     "text": [
      "Bob is larger than Suzy.\n"
     ]
    },
    {
     "data": {
      "image/png": "[encoded data removed]",
      "text/plain": [
       "<IPython.core.display.Image object>"
      ]
     },
     "execution_count": 108,
     "metadata": {},
     "output_type": "execute_result"
    }
   ],
   "source": [
    "draw_dep_tree(sentences[0], parsed_sentence)\n",
    "from IPython.display import Image\n",
    "Image('dep_tree.png')"
   ]
  },
  {
   "cell_type": "code",
   "execution_count": null,
   "metadata": {
    "collapsed": false
   },
   "outputs": [],
   "source": []
  },
  {
   "cell_type": "code",
   "execution_count": 125,
   "metadata": {
    "collapsed": false
   },
   "outputs": [],
   "source": [
    "# ('nsubj', 'went', '4', 'pigs', '3')\n",
    "def read_sentence(tree):\n",
    "    for item in tree:\n",
    "        if item[0] == \"root\":\n",
    "            base_index = item[4]\n",
    "    for item in tree:\n",
    "        if item[0] == \"nsubj\" and item[2] == base_index:\n",
    "            process_noun(item[3], tree, item[4])"
   ]
  },
  {
   "cell_type": "code",
   "execution_count": 137,
   "metadata": {
    "collapsed": false
   },
   "outputs": [
    {
     "ename": "SyntaxError",
     "evalue": "invalid syntax (<ipython-input-137-476f1b03922b>, line 10)",
     "output_type": "error",
     "traceback": [
      "\u001b[1;36m  File \u001b[1;32m\"<ipython-input-137-476f1b03922b>\"\u001b[1;36m, line \u001b[1;32m10\u001b[0m\n\u001b[1;33m    noun.count = #convert to number\u001b[0m\n\u001b[1;37m                                   ^\u001b[0m\n\u001b[1;31mSyntaxError\u001b[0m\u001b[1;31m:\u001b[0m invalid syntax\n"
     ]
    }
   ],
   "source": [
    "def process_noun(word, tree, index):\n",
    "    try:\n",
    "        noun = copy.deepcopy(nouns[WordNetLemmatizer().lemmatize(word,'v')])\n",
    "    except:\n",
    "        print(noun + \" not in dictionary\")\n",
    "    \n",
    "    for item in tree:\n",
    "        if item[2] == index:\n",
    "            if item[0] == \"num\":\n",
    "                noun.count = #convert to number\n",
    "            if item[0] == \"amod\": #adjective\n",
    "                process_adj(noun, item[1])"
   ]
  },
  {
   "cell_type": "code",
   "execution_count": 136,
   "metadata": {
    "collapsed": true
   },
   "outputs": [],
   "source": [
    "def process_adj(noun, adjective):\n",
    "    adjectives[adjective](noun)"
   ]
  },
  {
   "cell_type": "code",
   "execution_count": null,
   "metadata": {
    "collapsed": true
   },
   "outputs": [],
   "source": []
  },
  {
   "cell_type": "markdown",
   "metadata": {},
   "source": [
    "Objects:\n",
    "\n",
    "Pigs\n",
    "\n",
    "Actions (time):\n",
    "\n",
    "Went\n",
    "Built\n",
    "\n",
    "Consider verbs as unary or binary operators. Probability of correct interpretation is some function on the properties of the nouns it acts on. \n",
    "\n",
    "Consider adjectives as unary modifiers. They act to update the properties of their subject.\n",
    "\n",
    "Think about things within a state space. Verbs signify motion of an object through state space (probably over time). Adjectives move the location of a noun in state space, but modify the previous location as opposed to making a new instance like a verb would do (as you want to know history for verbs, but not adjectives). Adjectives modify how verbs move nouns through the space. Verbs and adjectives can be considered functions on objects in state space. "
   ]
  },
  {
   "cell_type": "code",
   "execution_count": 115,
   "metadata": {
    "collapsed": false
   },
   "outputs": [],
   "source": [
    "class Object:\n",
    "    proper = False\n",
    "    count = 1\n",
    "    type = None\n",
    "    def Object():\n",
    "       pass\n",
    "\n",
    "class Object_Type:\n",
    "    abstract = False\n",
    "    concrete = False\n",
    "\n",
    "class Concrete:\n",
    "    food = False\n",
    "    complexity = None\n",
    "    entity = False\n",
    "    alive = False\n",
    "    size = None\n",
    "\n",
    "class Alive:\n",
    "    mammal = False\n",
    "    bird = False\n",
    "    fish = False\n",
    "    \n",
    "class Action:\n",
    "    duration = None\n",
    "    motion = False"
   ]
  },
  {
   "cell_type": "code",
   "execution_count": 116,
   "metadata": {
    "collapsed": true
   },
   "outputs": [],
   "source": [
    "generic_object = Object()\n",
    "generic_object.type = Object_Type()\n",
    "\n",
    "concrete_object = copy.deepcopy(generic_object)\n",
    "concrete_object.type.concrete = Concrete()"
   ]
  },
  {
   "cell_type": "code",
   "execution_count": 117,
   "metadata": {
    "collapsed": false
   },
   "outputs": [],
   "source": [
    "animal = copy.deepcopy(concrete_object)\n",
    "animal.type.concrete.alive = Alive()\n",
    "animal.type.concrete.size = 1 # longest dimension, meters\n",
    "animal.type.concrete.complexity = 1000"
   ]
  },
  {
   "cell_type": "code",
   "execution_count": 118,
   "metadata": {
    "collapsed": false
   },
   "outputs": [],
   "source": [
    "pig = copy.deepcopy(animal)\n",
    "animal.type.concrete.size = 1\n",
    "pig.type.concrete.alive.mammal = True\n",
    "\n",
    "house = copy.deepcopy(concrete_object)\n",
    "house.type.concrete.size = 50\n",
    "house.type.concrete.complexity = 10"
   ]
  },
  {
   "cell_type": "code",
   "execution_count": 119,
   "metadata": {
    "collapsed": true
   },
   "outputs": [],
   "source": [
    "nouns = {}\n",
    "nouns[\"animal\"] = animal\n",
    "nouns[\"pig\"] = pig\n",
    "nouns[\"house\"] = house"
   ]
  },
  {
   "cell_type": "code",
   "execution_count": 120,
   "metadata": {
    "collapsed": false
   },
   "outputs": [],
   "source": [
    "go = Action()\n",
    "go.duration = 10 #minutes\n",
    "go.motion = True"
   ]
  },
  {
   "cell_type": "code",
   "execution_count": 121,
   "metadata": {
    "collapsed": false
   },
   "outputs": [],
   "source": [
    "verbs = {}\n",
    "verbs[\"go\"] = go"
   ]
  },
  {
   "cell_type": "code",
   "execution_count": 132,
   "metadata": {
    "collapsed": false
   },
   "outputs": [
    {
     "name": "stdout",
     "output_type": "stream",
     "text": [
      "smaller-->smaller\n",
      "went-->go\n",
      "going-->go\n",
      "dating-->date\n"
     ]
    }
   ],
   "source": [
    "\n",
    "words = ['smaller','went','going','dating']\n",
    "for word in words:\n",
    "    print word+\"-->\"+WordNetLemmatizer().lemmatize(word,'v')"
   ]
  },
  {
   "cell_type": "code",
   "execution_count": 133,
   "metadata": {
    "collapsed": true
   },
   "outputs": [],
   "source": [
    "def little(noun):\n",
    "    noun.type.concrete.size = noun.type.concrete.size * .75"
   ]
  },
  {
   "cell_type": "code",
   "execution_count": 134,
   "metadata": {
    "collapsed": true
   },
   "outputs": [],
   "source": [
    "adjectives = {}\n",
    "adjectives[\"little\"] = little"
   ]
  },
  {
   "cell_type": "code",
   "execution_count": null,
   "metadata": {
    "collapsed": false
   },
   "outputs": [],
   "source": []
  },
  {
   "cell_type": "code",
   "execution_count": null,
   "metadata": {
    "collapsed": true
   },
   "outputs": [],
   "source": []
  }
 ],
 "metadata": {
  "kernelspec": {
   "display_name": "Python 2",
   "language": "python",
   "name": "python2"
  },
  "language_info": {
   "codemirror_mode": {
    "name": "ipython",
    "version": 2
   },
   "file_extension": ".py",
   "mimetype": "text/x-python",
   "name": "python",
   "nbconvert_exporter": "python",
   "pygments_lexer": "ipython2",
   "version": "2.7.8"
  }
 },
 "nbformat": 4,
 "nbformat_minor": 0
}
