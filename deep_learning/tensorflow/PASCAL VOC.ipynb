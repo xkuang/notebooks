{
 "cells": [
  {
   "cell_type": "code",
   "execution_count": 1,
   "metadata": {
    "collapsed": false
   },
   "outputs": [],
   "source": [
    "import tensorflow as tf\n",
    "import xml\n",
    "import numpy as np\n",
    "from pylab import *\n",
    "%matplotlib inline\n",
    "import xml.etree.ElementTree as ET\n",
    "import cv2\n",
    "import os\n",
    "from matplotlib import patches\n",
    "from random import shuffle"
   ]
  },
  {
   "cell_type": "code",
   "execution_count": 2,
   "metadata": {
    "collapsed": false
   },
   "outputs": [],
   "source": [
    "# PASCAL VOC Data import\n",
    "# DO NOT EDIT HERE! Modify in its own file\n",
    "home_dir = os.path.expanduser('~') + \"/\"\n",
    "datasets_dir = home_dir + \"external_drive/\"\n",
    "voc_2012_dir = datasets_dir + \"VOC/VOC2012/VOCdevkit/VOC2012/\"\n",
    "\n",
    "classes_to_index = {\"aeroplane\":1, \"bicycle\":2, \"boat\":3, \"bottle\":4, \"bus\":5, \"car\":6, \"cat\":7,\n",
    "\"chair\":8, \"cow\":9, \"diningtable\":10, \"dog\":11, \"horse\":12, \"motorbike\":13, \"person\":14,\n",
    "\"pottedplant\":15, \"sheep\":16, \"train\":17, \"tvmonitor\":18, \"sofa\":19, \"bird\":20}\n",
    "\n",
    "indexes_to_classes = [0]*21\n",
    "for key, value in classes_to_index.items():\n",
    "    indexes_to_classes[value] = key\n",
    "\n",
    "class bounding_box:\n",
    "    def __init__(self, class_name, xmin, xmax, ymin, ymax):\n",
    "        self.class_name = class_name\n",
    "        #self.bbox_coords = bbox_coords #xmax, xmin, ymax, ymin\n",
    "        self.xmin = xmin\n",
    "        self.xmax = xmax\n",
    "        self.ymin = ymin\n",
    "        self.ymax = ymax\n",
    "\n",
    "# Get list of training images\n",
    "train_filenames = []\n",
    "with open(voc_2012_dir + \"ImageSets/Main/train.txt\", \"r\") as file:\n",
    "    for line in file:\n",
    "        train_filenames.append(line.strip())\n",
    "        \n",
    "# Read an annotation file, return a list of bounding boxes\n",
    "def get_bounding_boxes(filename):\n",
    "    bounding_boxes = []\n",
    "    xmldoc = ET.parse(voc_2012_dir + \"Annotations/{}.xml\".format(filename))\n",
    "    objects = xmldoc.findall('object')\n",
    "    for thing in objects:\n",
    "        name = thing.find('name').text\n",
    "        box = thing.find('bndbox')\n",
    "        xmax = int(box.find('xmax').text)\n",
    "        xmin = int(box.find('xmin').text)\n",
    "        ymax = int(box.find('ymax').text)\n",
    "        ymin = int(box.find('ymin').text)\n",
    "        bounding_boxes.append(bounding_box(name, xmin, xmax, ymin, ymax))\n",
    "    return bounding_boxes\n",
    "\n",
    "\n",
    "memoized_images = {}\n",
    "num_to_memoize = 5000\n",
    "\n",
    "# Returns a [height, width, depth] image in RGB pixel order\n",
    "def read_jpeg_memoized(filename):\n",
    "    try:\n",
    "        image = memoized_images[filename]\n",
    "        #print(\"cache hit\")\n",
    "    except:\n",
    "        image = cv2.imread(voc_2012_dir + \"JPEGImages/{}.jpg\".format(filename))\n",
    "        if len(memoized_images) < num_to_memoize:\n",
    "            memoized_images[filename] = image\n",
    "        #print(\"cache miss\")\n",
    "        #found_filenames.append(filename)\n",
    "    if image is None:\n",
    "        print(\"Failed to read image! This is probably bad\")\n",
    "    # Convert BGR to RGB. \n",
    "    return cv2.cvtColor(image, cv2.COLOR_BGR2RGB)\n",
    "\n",
    "# Returns a [height, width, depth] image in RGB pixel order\n",
    "def read_jpeg(filename):\n",
    "    image = cv2.imread(voc_2012_dir + \"JPEGImages/{}.jpg\".format(filename))\n",
    "    if image is None:\n",
    "        print(\"Failed to read image! This is probably bad\")\n",
    "    # Convert BGR to RGB. \n",
    "    return cv2.cvtColor(image, cv2.COLOR_BGR2RGB)\n",
    "\n",
    "# Plots an image from either filename or numpy array. Optionally draws bounding boxes with class name labels\n",
    "def show_image(image, bounding_boxes = []):\n",
    "    if isinstance(image, str):\n",
    "        image = read_jpeg(image)\n",
    "    fig = plt.figure()\n",
    "    ax = fig.add_subplot(111, aspect='equal')\n",
    "    ax.imshow(image)\n",
    "    for box in bounding_boxes:\n",
    "        ax.add_patch(\n",
    "            patches.Rectangle(\n",
    "                (box.xmin,box.ymin),\n",
    "                box.xmax - box.xmin,\n",
    "                box.ymax - box.ymin,\n",
    "                fill=False, edgecolor=\"red\", linewidth=3    \n",
    "            ))\n",
    "        ax.text(box.xmin + 10,box.ymin + 30, box.class_name, fontsize=16, color = \"red\")\n",
    "        \n",
    "\n",
    "# Gets a batch of images from a given list of filenames\n",
    "def get_batch(filenames, num_images, img_size, num_classes, memoize):\n",
    "    shuffle(filenames)\n",
    "    images = []\n",
    "    classes = []\n",
    "    i = 0\n",
    "    while len(images) < num_images:\n",
    "        filename = filenames[i]\n",
    "        bounding_boxes = get_bounding_boxes(filename)\n",
    "        shuffle(bounding_boxes)\n",
    "        if check_bounding_box(bounding_boxes[0], img_size):\n",
    "            if memoize:\n",
    "                image = read_jpeg_memoized(filename)\n",
    "            else:\n",
    "                image = read_jpeg(filename)\n",
    "            image = crop_resize_image(image, bounding_boxes[0], img_size)\n",
    "            images.append(image)\n",
    "            classes.append(classes_to_index[bounding_boxes[0].class_name])\n",
    "        i += 1\n",
    "    return np.array(images), dense_to_one_hot(np.array(classes), num_classes)\n",
    "\n",
    "# Check if a bounding box has a size and shape similar to the desired dimension\n",
    "def check_bounding_box(bounding_box, desired_dimension):\n",
    "    x = bounding_box.xmin\n",
    "    y = bounding_box.ymin\n",
    "    width = bounding_box.xmax - bounding_box.xmin\n",
    "    height = bounding_box.ymax - bounding_box.ymin\n",
    "    shorter_dimension = min(width, height)\n",
    "    if (desired_dimension - shorter_dimension) / desired_dimension < .5:\n",
    "        if abs(width - height) / width < .5:\n",
    "            return True\n",
    "    return False\n",
    "            \n",
    "# Gets the des_dim x des_dimension scaled version of the top leftmost square of the given bounding box region of the image\n",
    "def crop_resize_image(image, bounding_box, desired_dimension):\n",
    "    x = bounding_box.xmin\n",
    "    y = bounding_box.ymin\n",
    "    width = bounding_box.xmax - bounding_box.xmin\n",
    "    height = bounding_box.ymax - bounding_box.ymin\n",
    "    shorter_dimension = min(width, height)\n",
    "    #if shorter_dimension > desired_dimension:\n",
    "    cropped_image = image[y:y+shorter_dimension, x:x+shorter_dimension]\n",
    "    resized_image = cv2.resize(cropped_image, (desired_dimension, desired_dimension))\n",
    "    return resized_image\n",
    "\n",
    "def dense_to_one_hot(labels_dense, num_classes=10):\n",
    "    \"\"\"Convert class labels from scalars to one-hot vectors.\"\"\"\n",
    "    num_labels = labels_dense.shape[0]\n",
    "    index_offset = np.arange(num_labels) * num_classes\n",
    "    labels_one_hot = np.zeros((num_labels, num_classes))\n",
    "    labels_one_hot.flat[index_offset + labels_dense.ravel()] = 1\n",
    "    return labels_one_hot"
   ]
  },
  {
   "cell_type": "code",
   "execution_count": 7,
   "metadata": {
    "collapsed": false
   },
   "outputs": [
    {
     "data": {
      "text/plain": [
       "176"
      ]
     },
     "execution_count": 7,
     "metadata": {},
     "output_type": "execute_result"
    }
   ],
   "source": [
    "get_bounding_boxes(train_filenames[1])[0].ymax"
   ]
  },
  {
   "cell_type": "code",
   "execution_count": 10,
   "metadata": {
    "collapsed": false
   },
   "outputs": [],
   "source": [
    "with open(\"pascal_voc_train_people.idl\", \"w\") as handle:\n",
    "    lines = []\n",
    "    for filename in train_filenames:\n",
    "        people_boxes = []\n",
    "        for box in get_bounding_boxes(filename):\n",
    "            if box.class_name == \"person\":\n",
    "                people_boxes.append(box)\n",
    "        if len(people_boxes) > 0:\n",
    "            line_to_write = '\"' + voc_2012_dir + \"JPEGImages/{}.jpg\".format(filename) + '\"' + \": \"\n",
    "            bounding_box_strings = []\n",
    "            for box in people_boxes:\n",
    "                bounding_box_strings.append(\"({xmin}.0, {ymin}.0, {xmax}.0, {ymax}.0)\".format(xmin=box.xmin,\n",
    "                                                                         ymin=box.ymin,\n",
    "                                                                         xmax=box.xmax,\n",
    "                                                                         ymax=box.ymax))\n",
    "                #print(box.ymin, box.ymax)\n",
    "            line_to_write += \", \".join(bounding_box_strings)\n",
    "            line_to_write += \";\"\n",
    "            lines.append(line_to_write + \"\\n\")\n",
    "    handle.writelines(lines)"
   ]
  },
  {
   "cell_type": "code",
   "execution_count": 6,
   "metadata": {
    "collapsed": false
   },
   "outputs": [
    {
     "data": {
      "text/plain": [
       "'/home/ubuntu/external_drive/VOC/VOC2012/VOCdevkit/VOC2012/JPEGImages/2008_000015.jpg'"
      ]
     },
     "execution_count": 6,
     "metadata": {},
     "output_type": "execute_result"
    }
   ],
   "source": [
    "voc_2012_dir + \"JPEGImages/{}.jpg\".format(train_filenames[1])"
   ]
  },
  {
   "cell_type": "code",
   "execution_count": 3,
   "metadata": {
    "collapsed": true
   },
   "outputs": [],
   "source": [
    "def weight_variable(shape):\n",
    "    initial = tf.truncated_normal(shape, stddev=0.01)\n",
    "    return tf.Variable(initial)\n",
    "\n",
    "def bias_variable(shape, value):\n",
    "    initial = tf.constant(float(value), shape=shape)\n",
    "    return tf.Variable(initial)\n",
    "\n",
    "def conv2d(x, W, stride):\n",
    "    return tf.nn.conv2d(x, W, strides=[1, stride, stride, 1], padding='SAME')\n",
    "\n",
    "def max_pool_2x2(x):\n",
    "    return tf.nn.max_pool(x, ksize=[1, 2, 2, 1],\n",
    "                        strides=[1, 2, 2, 1], padding='SAME')"
   ]
  },
  {
   "cell_type": "code",
   "execution_count": 4,
   "metadata": {
    "collapsed": true
   },
   "outputs": [],
   "source": [
    "# Need to implement image resizing!!! (and maybe also various augmentations)\n",
    "# Bring from 0, 255 to 0, 1\n",
    "# Subtract mean\n",
    "# Then, bounding boxes will need re-scaled also.."
   ]
  },
  {
   "cell_type": "code",
   "execution_count": 5,
   "metadata": {
    "collapsed": true
   },
   "outputs": [],
   "source": [
    "# TURN THESE INTO TENSORFLOW VARIABLES SO THEY CAN BE DYNAMICALLY CHANGED\n",
    "\n",
    "# The width and height of the image\n",
    "image_size = 160 # Must be divisible by the pooling layers\n",
    "# Image depth\n",
    "image_depth = 3\n",
    "# The batch size\n",
    "batch_size = 128\n",
    "test_batch_size = 256\n",
    "# number of classes\n",
    "num_classes = 21\n"
   ]
  },
  {
   "cell_type": "code",
   "execution_count": 6,
   "metadata": {
    "collapsed": false
   },
   "outputs": [],
   "source": [
    "# Something like Alexnet\n",
    "sess = tf.InteractiveSession()\n",
    "\n",
    "# Placeholder for the image size\n",
    "#image_size_variable = tf.placeholder(tf.float32)\n",
    "\n",
    "# Batched input\n",
    "x = tf.placeholder(tf.float32, shape=[None, image_size, image_size, image_depth]) # batch size, image size, image size, image depth\n",
    "y_ = tf.placeholder(tf.float32, shape=[None, num_classes]) # batch size, num_classes\n",
    "\n",
    "# First Convolutional Layer\n",
    "# Variables\n",
    "W_conv1 = weight_variable([11, 11, image_depth, 96]) # filter size, filter size, input channels (image depth), output channels\n",
    "b_conv1 = bias_variable([96], 0)\n",
    "# Layers\n",
    "h_conv1 = tf.nn.relu(conv2d(x, W_conv1, stride=4) + b_conv1)\n",
    "h_pool1 = max_pool_2x2(h_conv1)\n",
    "\n",
    "# Second Convolutional Layer\n",
    "# Variables\n",
    "W_conv2 = weight_variable([5, 5, 96, 256])\n",
    "b_conv2 = bias_variable([256], 1)\n",
    "# Layers\n",
    "h_conv2 = tf.nn.relu(conv2d(h_pool1, W_conv2, stride=1) + b_conv2)\n",
    "h_pool2 = max_pool_2x2(h_conv2)\n",
    "\n",
    "# Third Convolutional Layer\n",
    "# Variables\n",
    "W_conv3 = weight_variable([3, 3, 256, 384])\n",
    "b_conv3 = bias_variable([384], 0)\n",
    "# Layers\n",
    "h_conv3 = tf.nn.relu(conv2d(h_pool2, W_conv3, stride=1) + b_conv3)\n",
    "\n",
    "# Fourth Convolutional Layer\n",
    "# Variables\n",
    "W_conv4 = weight_variable([3, 3, 384, 384])\n",
    "b_conv4 = bias_variable([384], 1)\n",
    "# Layers\n",
    "h_conv4 = tf.nn.relu(conv2d(h_conv3, W_conv4, stride=1) + b_conv4)\n",
    "\n",
    "# Fifth Convolutional Layer\n",
    "# Variables\n",
    "W_conv5 = weight_variable([3, 3, 384, 256])\n",
    "b_conv5 = bias_variable([256], 1)\n",
    "# Layers\n",
    "h_conv5 = tf.nn.relu(conv2d(h_conv4, W_conv5, stride=1) + b_conv5)\n",
    "h_pool5 = max_pool_2x2(h_conv5)\n",
    "\n",
    "# Fully Connected 1\n",
    "# Weights\n",
    "W_fc1 = weight_variable([int(image_size/32) * int(image_size/32) * 256, 4096])\n",
    "b_fc1 = bias_variable([4096], 1)\n",
    "# Layers\n",
    "h_pool5_flat = tf.reshape(h_pool5, [-1, int(image_size/32) * int(image_size/32)*256])\n",
    "h_fc1 = tf.nn.relu(tf.matmul(h_pool5_flat, W_fc1) + b_fc1)\n",
    "\n",
    "# Fully Connected 2\n",
    "# Weights\n",
    "W_fc2 = weight_variable([4096, 4096])\n",
    "b_fc2 = bias_variable([4096], 1)\n",
    "# Layers\n",
    "h_fc2 = tf.nn.relu(tf.matmul(h_fc1, W_fc2) + b_fc2)\n",
    "\n",
    "# Dropout (fix this and apply to both layers)\n",
    "keep_prob = tf.placeholder(tf.float32)\n",
    "#h_fc2_drop = tf.nn.dropout(h_fc2, keep_prob)\n",
    "\n",
    "# Softmax\n",
    "# Weights\n",
    "W_fc3 = weight_variable([4096, num_classes])\n",
    "b_fc3 = bias_variable([num_classes], 0)\n",
    "# Layers\n",
    "y_conv=tf.nn.softmax(tf.matmul(h_fc2, W_fc3) + b_fc3)\n"
   ]
  },
  {
   "cell_type": "code",
   "execution_count": 7,
   "metadata": {
    "collapsed": false
   },
   "outputs": [],
   "source": [
    "  \n",
    "#cross_entropy = -tf.reduce_sum(y_*tf.log(y_conv))\n",
    "cross_entropy = -tf.reduce_sum(y_*tf.log(tf.clip_by_value(y_conv,1e-10,1.0)))\n",
    "\n",
    "learning_rate = tf.placeholder(tf.float32)\n",
    "train_step = tf.train.MomentumOptimizer(learning_rate, .9).minimize(cross_entropy)\n",
    "#train_step = tf.train.GradientDescentOptimizer(learning_rate).minimize(cross_entropy)\n",
    "#train_step = tf.train.AdamOptimizer(learning_rate).minimize(cross_entropy)\n",
    "\n",
    "\n",
    "correct_prediction = tf.equal(tf.argmax(y_conv,1), tf.argmax(y_,1))\n",
    "accuracy = tf.reduce_mean(tf.cast(correct_prediction, tf.float32))"
   ]
  },
  {
   "cell_type": "code",
   "execution_count": 8,
   "metadata": {
    "collapsed": false
   },
   "outputs": [],
   "source": [
    "# Make summary of cross entropy loss\n",
    "ce_summ = tf.scalar_summary(\"cross entropy\", cross_entropy)\n",
    "\n",
    "# Make a summary of training accuracy\n",
    "#correct_prediction = tf.equal(tf.argmax(y_conv,1), tf.argmax(y_,1))\n",
    "#accuracy = tf.reduce_mean(tf.cast(correct_prediction, tf.float32))\n",
    "accuracy_summary = tf.scalar_summary(\"accuracy\", accuracy)\n",
    "\n",
    "# Learning rate summary\n",
    "learning_rate_summary = tf.scalar_summary(\"learning rate\", learning_rate)\n",
    "\n",
    "# Merge all the summaries and write them out to /tmp/mnist_logs\n",
    "merged = tf.merge_all_summaries()\n"
   ]
  },
  {
   "cell_type": "code",
   "execution_count": null,
   "metadata": {
    "collapsed": false
   },
   "outputs": [],
   "source": [
    "sess.run(tf.initialize_all_variables())\n",
    "i = 0\n",
    "save_name = \"alexnet_4\"\n",
    "writer = tf.train.SummaryWriter(home_dir + \"projects/deep_learning/tensorflow/tmp/mnist_logs/\"+save_name, sess.graph_def, flush_secs=10)"
   ]
  },
  {
   "cell_type": "code",
   "execution_count": null,
   "metadata": {
    "collapsed": false,
    "scrolled": true
   },
   "outputs": [
    {
     "name": "stdout",
     "output_type": "stream",
     "text": [
      "Accuracy at step 10: 0.117188\n",
      "Accuracy at step 20: 0.136719\n",
      "Accuracy at step 30: 0.113281\n",
      "Accuracy at step 40: 0.128906\n",
      "Accuracy at step 50: 0.101562"
     ]
    }
   ],
   "source": [
    "learning_rate_value = .001\n",
    "dropout = .5\n",
    "\n",
    "while(True):\n",
    "    i += 1\n",
    "    if i%10 == 0:\n",
    "        \n",
    "        batch = get_batch(train_filenames, test_batch_size, image_size, num_classes, True)\n",
    "        #train_accuracy = accuracy.eval(feed_dict={x:batch[0], y_: batch[1], keep_prob: 1.0})\n",
    "        #print(\"step %d, training accuracy %g\"%(i, train_accuracy))\n",
    "        #print(sess.run([cross_entropy], feed_dict={x: batch[0], y_: batch[1], keep_prob: 1})[0])\n",
    "        summary, accuracy_value = sess.run([merged, accuracy], \n",
    "                    feed_dict={x: batch[0], y_: batch[1], keep_prob: 1., learning_rate: learning_rate_value})\n",
    "        #print(summary)\n",
    "        writer.add_summary(summary, i)\n",
    "        print(\"Accuracy at step %s: %s\" % (i, accuracy_value))\n",
    "    else:\n",
    "        batch = get_batch(train_filenames, batch_size, image_size, num_classes, True)\n",
    "        train_step.run(feed_dict={x: batch[0], y_: batch[1], keep_prob: dropout, learning_rate: learning_rate_value})\n",
    "\n",
    "#print(\"test accuracy %g\"%accuracy.eval(feed_dict={x: mnist.test.images, y_: mnist.test.labels, keep_prob: 1.0}))"
   ]
  },
  {
   "cell_type": "code",
   "execution_count": null,
   "metadata": {
    "collapsed": false
   },
   "outputs": [],
   "source": [
    "def one_hot_to_class(one_hot):\n",
    "    for key, value in enumerate(one_hot):\n",
    "        if value > 0:\n",
    "            return indexes_to_classes[key]"
   ]
  },
  {
   "cell_type": "code",
   "execution_count": null,
   "metadata": {
    "collapsed": false
   },
   "outputs": [],
   "source": [
    "x_1, y_1 = get_batch(train_filenames, batch_size, image_size, num_classes, True)\n",
    "results = y_conv.eval(feed_dict={x: x_1, y_: y_1, keep_prob: 1., })"
   ]
  },
  {
   "cell_type": "code",
   "execution_count": null,
   "metadata": {
    "collapsed": false
   },
   "outputs": [],
   "source": [
    "for a in range(20):\n",
    "    show_image(x_1[a,:,:,:])\n",
    "    print(\"Actual: \" + one_hot_to_class(y_1[a]))\n",
    "    print(\"Guess: \" + one_hot_to_class(results[a]))"
   ]
  },
  {
   "cell_type": "code",
   "execution_count": null,
   "metadata": {
    "collapsed": false,
    "scrolled": true
   },
   "outputs": [],
   "source": [
    "x_1, y_1 = get_batch(train_filenames, batch_size, image_size, num_classes, True)"
   ]
  },
  {
   "cell_type": "code",
   "execution_count": null,
   "metadata": {
    "collapsed": true
   },
   "outputs": [],
   "source": []
  },
  {
   "cell_type": "code",
   "execution_count": null,
   "metadata": {
    "collapsed": true
   },
   "outputs": [],
   "source": [
    "# Weight decay, batch normalization, bigger network, different filter sizes, inception filters\n",
    "# sgd with momentum seems standard"
   ]
  },
  {
   "cell_type": "code",
   "execution_count": null,
   "metadata": {
    "collapsed": true
   },
   "outputs": [],
   "source": []
  },
  {
   "cell_type": "code",
   "execution_count": null,
   "metadata": {
    "collapsed": true
   },
   "outputs": [],
   "source": []
  },
  {
   "cell_type": "code",
   "execution_count": null,
   "metadata": {
    "collapsed": true
   },
   "outputs": [],
   "source": [
    "# Simple network definition (intended for CIFAR-10?)\n",
    "sess = tf.InteractiveSession()\n",
    "\n",
    "# Placeholder for the image size\n",
    "#image_size_variable = tf.placeholder(tf.float32)\n",
    "\n",
    "# Batched input\n",
    "x = tf.placeholder(tf.float32, shape=[None, image_size, image_size, image_depth]) # batch size, image size, image size, image depth\n",
    "y_ = tf.placeholder(tf.float32, shape=[None, num_classes]) # batch size, num_classes\n",
    "\n",
    "W_conv1 = weight_variable([5, 5, image_depth, 32]) # filter size, filter size, input channels (image depth), output channels\n",
    "b_conv1 = bias_variable([32])\n",
    "\n",
    "#x_image = tf.reshape(x, [batch_size,28,28,1])\n",
    "\n",
    "h_conv1 = tf.nn.relu(conv2d(x, W_conv1) + b_conv1)\n",
    "h_pool1 = max_pool_2x2(h_conv1)\n",
    "\n",
    "W_conv2 = weight_variable([5, 5, 32, 64])\n",
    "b_conv2 = bias_variable([64])\n",
    "\n",
    "h_conv2 = tf.nn.relu(conv2d(h_pool1, W_conv2) + b_conv2)\n",
    "h_pool2 = max_pool_2x2(h_conv2)\n",
    "\n",
    "W_fc1 = weight_variable([int(image_size/4) * int(image_size/4) * 64, 1024])\n",
    "b_fc1 = bias_variable([1024])\n",
    "\n",
    "h_pool2_flat = tf.reshape(h_pool2, [-1, int(image_size/4) * int(image_size/4)*64])\n",
    "h_fc1 = tf.nn.relu(tf.matmul(h_pool2_flat, W_fc1) + b_fc1)\n",
    "\n",
    "# Dropout\n",
    "keep_prob = tf.placeholder(tf.float32)\n",
    "h_fc1_drop = tf.nn.dropout(h_fc1, keep_prob)\n",
    "\n",
    "# Softmax\n",
    "W_fc2 = weight_variable([1024, num_classes])\n",
    "b_fc2 = bias_variable([num_classes])\n",
    "\n",
    "y_conv=tf.nn.softmax(tf.matmul(h_fc1_drop, W_fc2) + b_fc2)\n"
   ]
  },
  {
   "cell_type": "code",
   "execution_count": null,
   "metadata": {
    "collapsed": true
   },
   "outputs": [],
   "source": []
  }
 ],
 "metadata": {
  "kernelspec": {
   "display_name": "Python 3",
   "language": "python",
   "name": "python3"
  },
  "language_info": {
   "codemirror_mode": {
    "name": "ipython",
    "version": 3
   },
   "file_extension": ".py",
   "mimetype": "text/x-python",
   "name": "python",
   "nbconvert_exporter": "python",
   "pygments_lexer": "ipython3",
   "version": "3.4.3"
  }
 },
 "nbformat": 4,
 "nbformat_minor": 0
}
